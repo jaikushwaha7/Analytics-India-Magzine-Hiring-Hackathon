{
  "nbformat": 4,
  "nbformat_minor": 0,
  "metadata": {
    "colab": {
      "name": "Aim Hiring Hackathon EDA V2.ipynb",
      "private_outputs": true,
      "provenance": []
    },
    "kernelspec": {
      "name": "python3",
      "display_name": "Python 3"
    },
    "accelerator": "GPU"
  },
  "cells": [
    {
      "cell_type": "code",
      "metadata": {
        "id": "NWhBt_oMZOvb"
      },
      "source": [
        ""
      ],
      "execution_count": null,
      "outputs": []
    },
    {
      "cell_type": "code",
      "metadata": {
        "id": "2uHmV5CzaS0F"
      },
      "source": [
        ""
      ],
      "execution_count": null,
      "outputs": []
    },
    {
      "cell_type": "code",
      "metadata": {
        "id": "3ftAx9JNbQdF"
      },
      "source": [
        "import tensorflow as tf \n",
        "tf.test.gpu_device_name() "
      ],
      "execution_count": null,
      "outputs": []
    },
    {
      "cell_type": "markdown",
      "metadata": {
        "id": "6euXSntfaTxz"
      },
      "source": [
        "# New section"
      ]
    },
    {
      "cell_type": "code",
      "metadata": {
        "id": "D3bI9eQwbHC0"
      },
      "source": [
        "import os \n",
        "  \n",
        "if 'COLAB_TPU_ADDR' not in os.environ: \n",
        "  print('Not connected to TPU') \n",
        "else: \n",
        "  print(\"Connected to TPU\") "
      ],
      "execution_count": null,
      "outputs": []
    },
    {
      "cell_type": "code",
      "metadata": {
        "id": "L069vn3ocY90"
      },
      "source": [
        "import pandas as pd"
      ],
      "execution_count": null,
      "outputs": []
    },
    {
      "cell_type": "code",
      "metadata": {
        "id": "f42nDFvdOrjQ"
      },
      "source": [
        "df_train=pd.read_csv('/content/drive/MyDrive/AIM hiring Hackathon 16112020/train_feature_engineered.csv')\n",
        "df_test=pd.read_csv('/content/drive/MyDrive/AIM hiring Hackathon 16112020/test_feature_engineered.csv')"
      ],
      "execution_count": null,
      "outputs": []
    },
    {
      "cell_type": "code",
      "metadata": {
        "id": "kd4CXhc7QDK1"
      },
      "source": [
        "cols = ['mean_InvoiceNo_ordinal_encode',\n",
        "       'mean_Invoice_Stock_Description_encode', 'InvoiceDate_freq',\n",
        "       'StockCode', 'mean_StockCode_ordinal_encode',\n",
        "       'mean_Description_ordinal_encode', 'StockCode_freq', 'weekday_ordinal',\n",
        "       'mean_InvoiceDate_ordinal_encode', 'Invoice_Stock_Description',\n",
        "       'Description', 'InvoiceAge', 'InvoiceNo_freq']\n",
        "cols_remove =[ 'Invoice_Stock_Description',\n",
        "       'Description', 'InvoiceAge', 'InvoiceNo_freq', 'CustomerID', 'Country',\n",
        "       'CustomerID_freq', 'mean_CustomerID_ordinal_encode',\n",
        "       'mean_Country_ordinal_encode', 'InvoiceNo', \n",
        "       'Quantity','UnitPrice','InvoiceDate','weekday']"
      ],
      "execution_count": null,
      "outputs": []
    },
    {
      "cell_type": "code",
      "metadata": {
        "id": "TsLuJVpeQCp2"
      },
      "source": [
        "X=df_train.drop(cols_remove,axis=1)\n",
        "y=df_train['UnitPrice']"
      ],
      "execution_count": null,
      "outputs": []
    },
    {
      "cell_type": "code",
      "metadata": {
        "id": "qfjd7mebXD-L"
      },
      "source": [
        "from sklearn.preprocessing import PowerTransformer\n",
        "y=y.values.reshape(-1,1)\n",
        "\n",
        "# Power transform the raw data\n",
        "power = PowerTransformer(method = 'yeo-johnson', standardize =True)\n",
        "y = power.fit_transform(y)"
      ],
      "execution_count": null,
      "outputs": []
    },
    {
      "cell_type": "code",
      "metadata": {
        "id": "_1iESjmuQ6eZ"
      },
      "source": [
        "from sklearn.ensemble import RandomForestRegressor\n",
        "from sklearn.model_selection import train_test_split\n",
        "X_train, X_test, y_train, y_test = train_test_split(X, y, test_size=0.2, random_state=0)"
      ],
      "execution_count": null,
      "outputs": []
    },
    {
      "cell_type": "code",
      "metadata": {
        "id": "HTfsLQXTOh69"
      },
      "source": [
        "# Using K_Nearest neighbour regressor\n",
        "# running for different K values to know which yields the max accuracy.\n",
        "from sklearn.neighbors import KNeighborsRegressor\n",
        "score = []\n",
        "for k in range(1,30):    \n",
        "    clf = KNeighborsRegressor(n_neighbors = k,  weights = 'distance', p=1)\n",
        "    clf.fit(X_train, y_train)\n",
        "    score.append(clf.score(X_test,y_test))"
      ],
      "execution_count": null,
      "outputs": []
    },
    {
      "cell_type": "code",
      "metadata": {
        "id": "XHRy7JAGSGOJ"
      },
      "source": [
        "k_max = score.index(max(score))+1\n",
        "print( \"At K = {}, Max Accuracy = {}\".format(k_max, max(score)*100))"
      ],
      "execution_count": null,
      "outputs": []
    },
    {
      "cell_type": "code",
      "metadata": {
        "id": "ARNeTK2aSUuL"
      },
      "source": [
        "clf = KNeighborsRegressor(n_neighbors = k_max,  weights = 'distance', p=1)\n",
        "clf.fit(X_train, y_train)\n",
        "print(clf.score(X_test, y_test ))   \n",
        "y_pred = clf.predict(X_test)"
      ],
      "execution_count": null,
      "outputs": []
    },
    {
      "cell_type": "code",
      "metadata": {
        "id": "-JmSQj8aXZYX"
      },
      "source": [
        "X_train.columns"
      ],
      "execution_count": null,
      "outputs": []
    },
    {
      "cell_type": "code",
      "metadata": {
        "id": "s4mRFZnsYQls"
      },
      "source": [
        "df_test1.columns"
      ],
      "execution_count": null,
      "outputs": []
    },
    {
      "cell_type": "code",
      "metadata": {
        "id": "tovjR2hoSjms"
      },
      "source": [
        "cols_remove =[ 'Invoice_Stock_Description',\n",
        "       'Description', 'InvoiceAge', 'InvoiceNo_freq', 'CustomerID', 'Country',\n",
        "       'CustomerID_freq', 'mean_CustomerID_ordinal_encode',\n",
        "       'mean_Country_ordinal_encode', 'InvoiceNo', \n",
        "       'Quantity','InvoiceDate','weekday']\n",
        "df_test1 = df_test.drop(cols_remove,axis=1)"
      ],
      "execution_count": null,
      "outputs": []
    },
    {
      "cell_type": "code",
      "metadata": {
        "id": "X7ZKAUPsSfoO"
      },
      "source": [
        "y_pred=clf.predict(df_test1)"
      ],
      "execution_count": null,
      "outputs": []
    },
    {
      "cell_type": "code",
      "metadata": {
        "id": "TkfOxpWTXcuu"
      },
      "source": [
        "# Applying inverse power transform to get back original form of unit price\n",
        "a_inverse_transformed = power.inverse_transform(y_pred)\n",
        "y_pred = pd.DataFrame(data=a_inverse_transformed).round(2)"
      ],
      "execution_count": null,
      "outputs": []
    },
    {
      "cell_type": "code",
      "metadata": {
        "id": "tlLgnCidS-az"
      },
      "source": [
        "##Create Sample Submission file and Submit using ANN\n",
        "pred=pd.DataFrame(y_pred)\n",
        "#sub_df=pd.read_csv('sample_submission.csv')\n",
        "datasets=pd.concat([pred],axis=1)\n",
        "datasets.columns=['UnitPrice']\n",
        "datasets.to_csv('sample_submission3_knn.csv',index=False)"
      ],
      "execution_count": null,
      "outputs": []
    },
    {
      "cell_type": "code",
      "metadata": {
        "id": "W9n9oimCT5AH"
      },
      "source": [
        "ls"
      ],
      "execution_count": null,
      "outputs": []
    },
    {
      "cell_type": "code",
      "metadata": {
        "id": "dyBvoJabViWw"
      },
      "source": [
        "#!pip install sklearn.model_selection"
      ],
      "execution_count": null,
      "outputs": []
    },
    {
      "cell_type": "code",
      "metadata": {
        "id": "TU_YzQxSQ5uQ"
      },
      "source": [
        "from sklearn.model_selection import cross_val_score"
      ],
      "execution_count": null,
      "outputs": []
    },
    {
      "cell_type": "code",
      "metadata": {
        "id": "qZ-SWXl6QpWV"
      },
      "source": [
        "# 10-fold cross-validation with K=5 for KNN (the n_neighbors parameter)\n",
        "# k = 5 for KNeighborsClassifier\n",
        "knn = KNeighborsRegressor(n_neighbors=3, weights = 'distance', p=1)\n",
        "\n",
        "# Use cross_val_score function\n",
        "# We are passing the entirety of X and y, not X_train or y_train, it takes care of splitting the dat\n",
        "# cv=10 for 10 folds\n",
        "# scoring='accuracy' for evaluation metric - althought they are many\n",
        "scores = cross_val_score(knn, X_train, y_train, cv=10, scoring='accuracy')\n",
        "print(scores)"
      ],
      "execution_count": null,
      "outputs": []
    },
    {
      "cell_type": "code",
      "metadata": {
        "id": "_gSbz1M2Roa6"
      },
      "source": [
        "# use average accuracy as an estimate of out-of-sample accuracy\n",
        "# numpy array has a method mean()\n",
        "print(scores.mean())"
      ],
      "execution_count": null,
      "outputs": []
    },
    {
      "cell_type": "code",
      "metadata": {
        "id": "uip17GB8VFzM"
      },
      "source": [
        "k_max = scores.index(max(scores))+1\n",
        "print( \"At K = {}, Max Accuracy = {}\".format(k_max, max(scores)*100))"
      ],
      "execution_count": null,
      "outputs": []
    },
    {
      "cell_type": "code",
      "metadata": {
        "id": "qU6_Ff7yVFmZ"
      },
      "source": [
        "clf.fit(X_train, y_train)\n",
        "print(knn.score(X_test, y_test ))"
      ],
      "execution_count": null,
      "outputs": []
    },
    {
      "cell_type": "code",
      "metadata": {
        "id": "B1ZlIdbBVUGG"
      },
      "source": [
        "y_pred=clf.predict(df_test1)"
      ],
      "execution_count": null,
      "outputs": []
    },
    {
      "cell_type": "code",
      "metadata": {
        "id": "F2fWBQLAVUSO"
      },
      "source": [
        "##Create Sample Submission file and Submit using ANN\n",
        "pred=pd.DataFrame(y_pred)\n",
        "#sub_df=pd.read_csv('sample_submission.csv')\n",
        "datasets=pd.concat([pred],axis=1)\n",
        "datasets.columns=['UnitPrice']\n",
        "datasets.to_csv('sample_submission4_knn.csv',index=False)"
      ],
      "execution_count": null,
      "outputs": []
    },
    {
      "cell_type": "code",
      "metadata": {
        "id": "nDkysc02Zdcm"
      },
      "source": [
        "df_train.columns"
      ],
      "execution_count": null,
      "outputs": []
    },
    {
      "cell_type": "code",
      "metadata": {
        "id": "H36lN6rVZfqs"
      },
      "source": [
        "df_test.columns"
      ],
      "execution_count": null,
      "outputs": []
    },
    {
      "cell_type": "code",
      "metadata": {
        "id": "nRhy80obZQdM"
      },
      "source": [
        "X=df_train.drop(['UnitPrice','InvoiceDate','weekday'],axis=1)\n",
        "y=df_train['UnitPrice']"
      ],
      "execution_count": null,
      "outputs": []
    },
    {
      "cell_type": "code",
      "metadata": {
        "id": "IpEFnyTIRpJG"
      },
      "source": [
        "\n",
        "# range of k we want to try\n",
        "k_range = range(1, 31)\n",
        "# empty list to store scores\n",
        "k_scores = []\n",
        "\n",
        "# 1. we will loop through reasonable values of k\n",
        "for k in k_range:\n",
        "    # 2. run KNeighborsClassifier with k neighbours\n",
        "    knn = KNeighborsRegressor(n_neighbors=k)\n",
        "    # 3. obtain cross_val_score for KNeighborsClassifier with k neighbours\n",
        "    scores = cross_val_score(knn, X, y, cv=10, scoring='neg_mean_squared_error')\n",
        "    # 4. append mean of scores for k neighbors to k_scores list\n",
        "    k_scores.append(scores.mean())\n",
        "\n",
        "\n",
        "print(k_scores)"
      ],
      "execution_count": null,
      "outputs": []
    },
    {
      "cell_type": "code",
      "metadata": {
        "id": "lW0R6uZsRpWD"
      },
      "source": [
        "# we should have 30 scores here\n",
        "print('Length of list', len(k_scores))\n",
        "print('Max of list', min(k_scores))"
      ],
      "execution_count": null,
      "outputs": []
    },
    {
      "cell_type": "code",
      "metadata": {
        "id": "XBpKrZwZU1aP"
      },
      "source": [
        "from sklearn.preprocessing import RobustScaler\n",
        "scaler=RobustScaler()\n",
        "df_robust_scaler=pd.DataFrame(scaler.fit_transform(X),columns=X.columns)\n",
        "df_robust_scaler.head()"
      ],
      "execution_count": null,
      "outputs": []
    },
    {
      "cell_type": "code",
      "metadata": {
        "id": "-OZHI9NSU1pq"
      },
      "source": [
        "y.head()"
      ],
      "execution_count": null,
      "outputs": []
    },
    {
      "cell_type": "code",
      "metadata": {
        "id": "YLVql3RlU10x"
      },
      "source": [
        "from sklearn.preprocessing import PowerTransformer\n",
        "y=y.values.reshape(-1,1)\n",
        "\n",
        "# Power transform the raw data\n",
        "power = PowerTransformer(method = 'yeo-johnson', standardize =True)\n",
        "y = power.fit_transform(y)"
      ],
      "execution_count": null,
      "outputs": []
    },
    {
      "cell_type": "code",
      "metadata": {
        "id": "D3VlI58xcbce"
      },
      "source": [
        "y_pred=clf.predict(df_test1)"
      ],
      "execution_count": null,
      "outputs": []
    },
    {
      "cell_type": "code",
      "metadata": {
        "id": "3R8XMWx9cbEB"
      },
      "source": [
        ""
      ],
      "execution_count": null,
      "outputs": []
    },
    {
      "cell_type": "code",
      "metadata": {
        "id": "N4OXajTTawQQ"
      },
      "source": [
        "#basic tools \n",
        "import os\n",
        "import numpy as np\n",
        "import pandas as pd\n",
        "import warnings\n",
        "\n",
        "#tuning hyperparameters\n",
        "from bayes_opt import BayesianOptimization\n",
        "from skopt  import BayesSearchCV \n",
        "\n",
        "#graph, plots\n",
        "import matplotlib.pyplot as plt\n",
        "import seaborn as sns\n",
        "\n",
        "#building models\n",
        "import lightgbm as lgb\n",
        "import xgboost as xgb\n",
        "from sklearn.model_selection import train_test_split, StratifiedKFold, cross_val_score\n",
        "import time\n",
        "import sys\n",
        "\n",
        "#metrics \n",
        "from sklearn.metrics import roc_auc_score, roc_curve\n",
        "import shap\n",
        "warnings.simplefilter(action='ignore', category=FutureWarning)"
      ],
      "execution_count": null,
      "outputs": []
    },
    {
      "cell_type": "code",
      "metadata": {
        "id": "eE8uVbbnl2yS"
      },
      "source": [
        ""
      ],
      "execution_count": null,
      "outputs": []
    }
  ]
}