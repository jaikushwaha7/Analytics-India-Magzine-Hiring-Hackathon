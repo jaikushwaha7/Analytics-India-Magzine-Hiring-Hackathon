{
 "cells": [
  {
   "cell_type": "code",
   "execution_count": 4,
   "metadata": {},
   "outputs": [],
   "source": [
    "import numpy as np\n",
    "import pandas as pd\n",
    "import matplotlib.pyplot as plt\n",
    "import seaborn as sns\n",
    "%matplotlib inline"
   ]
  },
  {
   "cell_type": "code",
   "execution_count": 5,
   "metadata": {},
   "outputs": [
    {
     "data": {
      "text/html": [
       "<div>\n",
       "<style scoped>\n",
       "    .dataframe tbody tr th:only-of-type {\n",
       "        vertical-align: middle;\n",
       "    }\n",
       "\n",
       "    .dataframe tbody tr th {\n",
       "        vertical-align: top;\n",
       "    }\n",
       "\n",
       "    .dataframe thead th {\n",
       "        text-align: right;\n",
       "    }\n",
       "</style>\n",
       "<table border=\"1\" class=\"dataframe\">\n",
       "  <thead>\n",
       "    <tr style=\"text-align: right;\">\n",
       "      <th></th>\n",
       "      <th>InvoiceNo</th>\n",
       "      <th>StockCode</th>\n",
       "      <th>Description</th>\n",
       "      <th>Quantity</th>\n",
       "      <th>InvoiceDate</th>\n",
       "      <th>UnitPrice</th>\n",
       "      <th>CustomerID</th>\n",
       "      <th>Country</th>\n",
       "    </tr>\n",
       "  </thead>\n",
       "  <tbody>\n",
       "    <tr>\n",
       "      <th>0</th>\n",
       "      <td>6141</td>\n",
       "      <td>1583</td>\n",
       "      <td>144</td>\n",
       "      <td>3</td>\n",
       "      <td>06-05-2011 00:00</td>\n",
       "      <td>3.75</td>\n",
       "      <td>14056</td>\n",
       "      <td>35</td>\n",
       "    </tr>\n",
       "    <tr>\n",
       "      <th>1</th>\n",
       "      <td>6349</td>\n",
       "      <td>1300</td>\n",
       "      <td>3682</td>\n",
       "      <td>6</td>\n",
       "      <td>11-05-2011 00:00</td>\n",
       "      <td>1.95</td>\n",
       "      <td>13098</td>\n",
       "      <td>35</td>\n",
       "    </tr>\n",
       "    <tr>\n",
       "      <th>2</th>\n",
       "      <td>16783</td>\n",
       "      <td>2178</td>\n",
       "      <td>1939</td>\n",
       "      <td>4</td>\n",
       "      <td>20-11-2011 00:00</td>\n",
       "      <td>5.95</td>\n",
       "      <td>15044</td>\n",
       "      <td>35</td>\n",
       "    </tr>\n",
       "    <tr>\n",
       "      <th>3</th>\n",
       "      <td>16971</td>\n",
       "      <td>2115</td>\n",
       "      <td>2983</td>\n",
       "      <td>1</td>\n",
       "      <td>22-11-2011 00:00</td>\n",
       "      <td>0.83</td>\n",
       "      <td>15525</td>\n",
       "      <td>35</td>\n",
       "    </tr>\n",
       "    <tr>\n",
       "      <th>4</th>\n",
       "      <td>6080</td>\n",
       "      <td>1210</td>\n",
       "      <td>2886</td>\n",
       "      <td>12</td>\n",
       "      <td>06-05-2011 00:00</td>\n",
       "      <td>1.65</td>\n",
       "      <td>13952</td>\n",
       "      <td>35</td>\n",
       "    </tr>\n",
       "  </tbody>\n",
       "</table>\n",
       "</div>"
      ],
      "text/plain": [
       "   InvoiceNo  StockCode  Description  Quantity       InvoiceDate  UnitPrice  \\\n",
       "0       6141       1583          144         3  06-05-2011 00:00       3.75   \n",
       "1       6349       1300         3682         6  11-05-2011 00:00       1.95   \n",
       "2      16783       2178         1939         4  20-11-2011 00:00       5.95   \n",
       "3      16971       2115         2983         1  22-11-2011 00:00       0.83   \n",
       "4       6080       1210         2886        12  06-05-2011 00:00       1.65   \n",
       "\n",
       "   CustomerID  Country  \n",
       "0       14056       35  \n",
       "1       13098       35  \n",
       "2       15044       35  \n",
       "3       15525       35  \n",
       "4       13952       35  "
      ]
     },
     "execution_count": 5,
     "metadata": {},
     "output_type": "execute_result"
    }
   ],
   "source": [
    "# Reading training data\n",
    "df_train = pd.read_csv('Train1.csv')\n",
    "df_train.head()"
   ]
  },
  {
   "cell_type": "code",
   "execution_count": 6,
   "metadata": {},
   "outputs": [
    {
     "data": {
      "text/html": [
       "<div>\n",
       "<style scoped>\n",
       "    .dataframe tbody tr th:only-of-type {\n",
       "        vertical-align: middle;\n",
       "    }\n",
       "\n",
       "    .dataframe tbody tr th {\n",
       "        vertical-align: top;\n",
       "    }\n",
       "\n",
       "    .dataframe thead th {\n",
       "        text-align: right;\n",
       "    }\n",
       "</style>\n",
       "<table border=\"1\" class=\"dataframe\">\n",
       "  <thead>\n",
       "    <tr style=\"text-align: right;\">\n",
       "      <th></th>\n",
       "      <th>InvoiceNo</th>\n",
       "      <th>StockCode</th>\n",
       "      <th>Description</th>\n",
       "      <th>Quantity</th>\n",
       "      <th>InvoiceDate</th>\n",
       "      <th>CustomerID</th>\n",
       "      <th>Country</th>\n",
       "    </tr>\n",
       "  </thead>\n",
       "  <tbody>\n",
       "    <tr>\n",
       "      <th>0</th>\n",
       "      <td>3139</td>\n",
       "      <td>1709</td>\n",
       "      <td>1079</td>\n",
       "      <td>3</td>\n",
       "      <td>22-02-2011 15:22</td>\n",
       "      <td>16161</td>\n",
       "      <td>35</td>\n",
       "    </tr>\n",
       "    <tr>\n",
       "      <th>1</th>\n",
       "      <td>617</td>\n",
       "      <td>510</td>\n",
       "      <td>3457</td>\n",
       "      <td>1</td>\n",
       "      <td>08-12-2010 12:46</td>\n",
       "      <td>17341</td>\n",
       "      <td>35</td>\n",
       "    </tr>\n",
       "    <tr>\n",
       "      <th>2</th>\n",
       "      <td>14653</td>\n",
       "      <td>604</td>\n",
       "      <td>694</td>\n",
       "      <td>36</td>\n",
       "      <td>25-10-2011 13:53</td>\n",
       "      <td>15158</td>\n",
       "      <td>35</td>\n",
       "    </tr>\n",
       "    <tr>\n",
       "      <th>3</th>\n",
       "      <td>8634</td>\n",
       "      <td>1478</td>\n",
       "      <td>3473</td>\n",
       "      <td>2</td>\n",
       "      <td>27-06-2011 12:38</td>\n",
       "      <td>16033</td>\n",
       "      <td>35</td>\n",
       "    </tr>\n",
       "    <tr>\n",
       "      <th>4</th>\n",
       "      <td>15546</td>\n",
       "      <td>3216</td>\n",
       "      <td>871</td>\n",
       "      <td>1</td>\n",
       "      <td>06-11-2011 16:14</td>\n",
       "      <td>15351</td>\n",
       "      <td>35</td>\n",
       "    </tr>\n",
       "  </tbody>\n",
       "</table>\n",
       "</div>"
      ],
      "text/plain": [
       "   InvoiceNo  StockCode  Description  Quantity       InvoiceDate  CustomerID  \\\n",
       "0       3139       1709         1079         3  22-02-2011 15:22       16161   \n",
       "1        617        510         3457         1  08-12-2010 12:46       17341   \n",
       "2      14653        604          694        36  25-10-2011 13:53       15158   \n",
       "3       8634       1478         3473         2  27-06-2011 12:38       16033   \n",
       "4      15546       3216          871         1  06-11-2011 16:14       15351   \n",
       "\n",
       "   Country  \n",
       "0       35  \n",
       "1       35  \n",
       "2       35  \n",
       "3       35  \n",
       "4       35  "
      ]
     },
     "execution_count": 6,
     "metadata": {},
     "output_type": "execute_result"
    }
   ],
   "source": [
    "# Reading test data\n",
    "df_test = pd.read_csv('Test1.csv')\n",
    "df_test.head()"
   ]
  },
  {
   "cell_type": "code",
   "execution_count": 7,
   "metadata": {},
   "outputs": [],
   "source": [
    "df_train['Invoice_Stock_Description']= df_train['InvoiceNo']* df_train['StockCode']*df_train['Description']"
   ]
  },
  {
   "cell_type": "code",
   "execution_count": 8,
   "metadata": {},
   "outputs": [
    {
     "data": {
      "text/html": [
       "<div>\n",
       "<style scoped>\n",
       "    .dataframe tbody tr th:only-of-type {\n",
       "        vertical-align: middle;\n",
       "    }\n",
       "\n",
       "    .dataframe tbody tr th {\n",
       "        vertical-align: top;\n",
       "    }\n",
       "\n",
       "    .dataframe thead th {\n",
       "        text-align: right;\n",
       "    }\n",
       "</style>\n",
       "<table border=\"1\" class=\"dataframe\">\n",
       "  <thead>\n",
       "    <tr style=\"text-align: right;\">\n",
       "      <th></th>\n",
       "      <th>InvoiceNo</th>\n",
       "      <th>StockCode</th>\n",
       "      <th>Description</th>\n",
       "      <th>Quantity</th>\n",
       "      <th>InvoiceDate</th>\n",
       "      <th>UnitPrice</th>\n",
       "      <th>CustomerID</th>\n",
       "      <th>Country</th>\n",
       "      <th>Invoice_Stock_Description</th>\n",
       "    </tr>\n",
       "  </thead>\n",
       "  <tbody>\n",
       "    <tr>\n",
       "      <th>0</th>\n",
       "      <td>6141</td>\n",
       "      <td>1583</td>\n",
       "      <td>144</td>\n",
       "      <td>3</td>\n",
       "      <td>06-05-2011 00:00</td>\n",
       "      <td>3.75</td>\n",
       "      <td>14056</td>\n",
       "      <td>35</td>\n",
       "      <td>1399853232</td>\n",
       "    </tr>\n",
       "    <tr>\n",
       "      <th>1</th>\n",
       "      <td>6349</td>\n",
       "      <td>1300</td>\n",
       "      <td>3682</td>\n",
       "      <td>6</td>\n",
       "      <td>11-05-2011 00:00</td>\n",
       "      <td>1.95</td>\n",
       "      <td>13098</td>\n",
       "      <td>35</td>\n",
       "      <td>30390123400</td>\n",
       "    </tr>\n",
       "    <tr>\n",
       "      <th>2</th>\n",
       "      <td>16783</td>\n",
       "      <td>2178</td>\n",
       "      <td>1939</td>\n",
       "      <td>4</td>\n",
       "      <td>20-11-2011 00:00</td>\n",
       "      <td>5.95</td>\n",
       "      <td>15044</td>\n",
       "      <td>35</td>\n",
       "      <td>70876992186</td>\n",
       "    </tr>\n",
       "    <tr>\n",
       "      <th>3</th>\n",
       "      <td>16971</td>\n",
       "      <td>2115</td>\n",
       "      <td>2983</td>\n",
       "      <td>1</td>\n",
       "      <td>22-11-2011 00:00</td>\n",
       "      <td>0.83</td>\n",
       "      <td>15525</td>\n",
       "      <td>35</td>\n",
       "      <td>107070802695</td>\n",
       "    </tr>\n",
       "    <tr>\n",
       "      <th>4</th>\n",
       "      <td>6080</td>\n",
       "      <td>1210</td>\n",
       "      <td>2886</td>\n",
       "      <td>12</td>\n",
       "      <td>06-05-2011 00:00</td>\n",
       "      <td>1.65</td>\n",
       "      <td>13952</td>\n",
       "      <td>35</td>\n",
       "      <td>21231724800</td>\n",
       "    </tr>\n",
       "  </tbody>\n",
       "</table>\n",
       "</div>"
      ],
      "text/plain": [
       "   InvoiceNo  StockCode  Description  Quantity       InvoiceDate  UnitPrice  \\\n",
       "0       6141       1583          144         3  06-05-2011 00:00       3.75   \n",
       "1       6349       1300         3682         6  11-05-2011 00:00       1.95   \n",
       "2      16783       2178         1939         4  20-11-2011 00:00       5.95   \n",
       "3      16971       2115         2983         1  22-11-2011 00:00       0.83   \n",
       "4       6080       1210         2886        12  06-05-2011 00:00       1.65   \n",
       "\n",
       "   CustomerID  Country  Invoice_Stock_Description  \n",
       "0       14056       35                 1399853232  \n",
       "1       13098       35                30390123400  \n",
       "2       15044       35                70876992186  \n",
       "3       15525       35               107070802695  \n",
       "4       13952       35                21231724800  "
      ]
     },
     "execution_count": 8,
     "metadata": {},
     "output_type": "execute_result"
    }
   ],
   "source": [
    "df_train.head()"
   ]
  },
  {
   "cell_type": "code",
   "execution_count": 9,
   "metadata": {},
   "outputs": [],
   "source": [
    "df_test['Invoice_Stock_Description']= df_test['InvoiceNo']* df_test['StockCode']*df_test['Description']"
   ]
  },
  {
   "cell_type": "code",
   "execution_count": 10,
   "metadata": {},
   "outputs": [
    {
     "data": {
      "text/html": [
       "<div>\n",
       "<style scoped>\n",
       "    .dataframe tbody tr th:only-of-type {\n",
       "        vertical-align: middle;\n",
       "    }\n",
       "\n",
       "    .dataframe tbody tr th {\n",
       "        vertical-align: top;\n",
       "    }\n",
       "\n",
       "    .dataframe thead th {\n",
       "        text-align: right;\n",
       "    }\n",
       "</style>\n",
       "<table border=\"1\" class=\"dataframe\">\n",
       "  <thead>\n",
       "    <tr style=\"text-align: right;\">\n",
       "      <th></th>\n",
       "      <th>InvoiceNo</th>\n",
       "      <th>StockCode</th>\n",
       "      <th>Description</th>\n",
       "      <th>Quantity</th>\n",
       "      <th>InvoiceDate</th>\n",
       "      <th>CustomerID</th>\n",
       "      <th>Country</th>\n",
       "      <th>Invoice_Stock_Description</th>\n",
       "    </tr>\n",
       "  </thead>\n",
       "  <tbody>\n",
       "    <tr>\n",
       "      <th>0</th>\n",
       "      <td>3139</td>\n",
       "      <td>1709</td>\n",
       "      <td>1079</td>\n",
       "      <td>3</td>\n",
       "      <td>22-02-2011 15:22</td>\n",
       "      <td>16161</td>\n",
       "      <td>35</td>\n",
       "      <td>5788350529</td>\n",
       "    </tr>\n",
       "    <tr>\n",
       "      <th>1</th>\n",
       "      <td>617</td>\n",
       "      <td>510</td>\n",
       "      <td>3457</td>\n",
       "      <td>1</td>\n",
       "      <td>08-12-2010 12:46</td>\n",
       "      <td>17341</td>\n",
       "      <td>35</td>\n",
       "      <td>1087814190</td>\n",
       "    </tr>\n",
       "    <tr>\n",
       "      <th>2</th>\n",
       "      <td>14653</td>\n",
       "      <td>604</td>\n",
       "      <td>694</td>\n",
       "      <td>36</td>\n",
       "      <td>25-10-2011 13:53</td>\n",
       "      <td>15158</td>\n",
       "      <td>35</td>\n",
       "      <td>6142185928</td>\n",
       "    </tr>\n",
       "    <tr>\n",
       "      <th>3</th>\n",
       "      <td>8634</td>\n",
       "      <td>1478</td>\n",
       "      <td>3473</td>\n",
       "      <td>2</td>\n",
       "      <td>27-06-2011 12:38</td>\n",
       "      <td>16033</td>\n",
       "      <td>35</td>\n",
       "      <td>44319133596</td>\n",
       "    </tr>\n",
       "    <tr>\n",
       "      <th>4</th>\n",
       "      <td>15546</td>\n",
       "      <td>3216</td>\n",
       "      <td>871</td>\n",
       "      <td>1</td>\n",
       "      <td>06-11-2011 16:14</td>\n",
       "      <td>15351</td>\n",
       "      <td>35</td>\n",
       "      <td>43546460256</td>\n",
       "    </tr>\n",
       "  </tbody>\n",
       "</table>\n",
       "</div>"
      ],
      "text/plain": [
       "   InvoiceNo  StockCode  Description  Quantity       InvoiceDate  CustomerID  \\\n",
       "0       3139       1709         1079         3  22-02-2011 15:22       16161   \n",
       "1        617        510         3457         1  08-12-2010 12:46       17341   \n",
       "2      14653        604          694        36  25-10-2011 13:53       15158   \n",
       "3       8634       1478         3473         2  27-06-2011 12:38       16033   \n",
       "4      15546       3216          871         1  06-11-2011 16:14       15351   \n",
       "\n",
       "   Country  Invoice_Stock_Description  \n",
       "0       35                 5788350529  \n",
       "1       35                 1087814190  \n",
       "2       35                 6142185928  \n",
       "3       35                44319133596  \n",
       "4       35                43546460256  "
      ]
     },
     "execution_count": 10,
     "metadata": {},
     "output_type": "execute_result"
    }
   ],
   "source": [
    "df_test.head()"
   ]
  },
  {
   "cell_type": "code",
   "execution_count": 62,
   "metadata": {},
   "outputs": [],
   "source": [
    "from datetime import date \n",
    "df_train['InvoiceDate']= pd.to_datetime(df_train['InvoiceDate'])\n",
    "df_test['InvoiceDate']= pd.to_datetime(df_test['InvoiceDate'])"
   ]
  },
  {
   "cell_type": "code",
   "execution_count": 72,
   "metadata": {},
   "outputs": [],
   "source": [
    "#df_test['InvoiceDate_dt']=df_test['InvoiceDate'].date()\n",
    "df_test[\"InvoiceDate\"] = [d.date() for d in df_test[\"InvoiceDate\"]]"
   ]
  },
  {
   "cell_type": "code",
   "execution_count": 12,
   "metadata": {},
   "outputs": [],
   "source": [
    "df_train['InvoiceAge'] = (pd.to_datetime('now') - df_train['InvoiceDate'])\n",
    "df_test['InvoiceAge']= (pd.to_datetime('now') - df_test['InvoiceDate'])"
   ]
  },
  {
   "cell_type": "code",
   "execution_count": 13,
   "metadata": {},
   "outputs": [],
   "source": [
    "df_train['InvoiceAge'] = df_train['InvoiceAge'] /  np.timedelta64(1, 'Y')\n",
    "df_test['InvoiceAge'] = df_test['InvoiceAge'] /  np.timedelta64(1, 'Y')"
   ]
  },
  {
   "cell_type": "code",
   "execution_count": 63,
   "metadata": {},
   "outputs": [
    {
     "data": {
      "text/html": [
       "<div>\n",
       "<style scoped>\n",
       "    .dataframe tbody tr th:only-of-type {\n",
       "        vertical-align: middle;\n",
       "    }\n",
       "\n",
       "    .dataframe tbody tr th {\n",
       "        vertical-align: top;\n",
       "    }\n",
       "\n",
       "    .dataframe thead th {\n",
       "        text-align: right;\n",
       "    }\n",
       "</style>\n",
       "<table border=\"1\" class=\"dataframe\">\n",
       "  <thead>\n",
       "    <tr style=\"text-align: right;\">\n",
       "      <th></th>\n",
       "      <th>InvoiceNo</th>\n",
       "      <th>StockCode</th>\n",
       "      <th>Description</th>\n",
       "      <th>Quantity</th>\n",
       "      <th>InvoiceDate</th>\n",
       "      <th>UnitPrice</th>\n",
       "      <th>CustomerID</th>\n",
       "      <th>Country</th>\n",
       "      <th>Invoice_Stock_Description</th>\n",
       "      <th>InvoiceAge</th>\n",
       "      <th>...</th>\n",
       "      <th>InvoiceNo_freq</th>\n",
       "      <th>StockCode_freq</th>\n",
       "      <th>Quantity_freq</th>\n",
       "      <th>InvoiceDate_freq</th>\n",
       "      <th>mean_Country_ordinal_encode</th>\n",
       "      <th>mean_InvoiceNo_ordinal_encode</th>\n",
       "      <th>mean_StockCode_ordinal_encode</th>\n",
       "      <th>mean_Description_ordinal_encode</th>\n",
       "      <th>mean_InvoiceDate_ordinal_encode</th>\n",
       "      <th>mean_CustomerID_ordinal_encode</th>\n",
       "    </tr>\n",
       "  </thead>\n",
       "  <tbody>\n",
       "    <tr>\n",
       "      <th>0</th>\n",
       "      <td>6141</td>\n",
       "      <td>1583</td>\n",
       "      <td>144</td>\n",
       "      <td>3</td>\n",
       "      <td>2011-06-05</td>\n",
       "      <td>3.75</td>\n",
       "      <td>14056</td>\n",
       "      <td>253253</td>\n",
       "      <td>1399853232</td>\n",
       "      <td>9.465182</td>\n",
       "      <td>...</td>\n",
       "      <td>34</td>\n",
       "      <td>331</td>\n",
       "      <td>18794</td>\n",
       "      <td>901</td>\n",
       "      <td>3.239283</td>\n",
       "      <td>3.241765</td>\n",
       "      <td>3.745770</td>\n",
       "      <td>3.745770</td>\n",
       "      <td>2.939234</td>\n",
       "      <td>2.795714</td>\n",
       "    </tr>\n",
       "    <tr>\n",
       "      <th>1</th>\n",
       "      <td>6349</td>\n",
       "      <td>1300</td>\n",
       "      <td>3682</td>\n",
       "      <td>6</td>\n",
       "      <td>2011-11-05</td>\n",
       "      <td>1.95</td>\n",
       "      <td>13098</td>\n",
       "      <td>253253</td>\n",
       "      <td>30390123400</td>\n",
       "      <td>9.046282</td>\n",
       "      <td>...</td>\n",
       "      <td>27</td>\n",
       "      <td>194</td>\n",
       "      <td>26375</td>\n",
       "      <td>1030</td>\n",
       "      <td>3.239283</td>\n",
       "      <td>3.028519</td>\n",
       "      <td>1.972887</td>\n",
       "      <td>1.972887</td>\n",
       "      <td>3.307942</td>\n",
       "      <td>2.917792</td>\n",
       "    </tr>\n",
       "    <tr>\n",
       "      <th>2</th>\n",
       "      <td>16783</td>\n",
       "      <td>2178</td>\n",
       "      <td>1939</td>\n",
       "      <td>4</td>\n",
       "      <td>2011-11-20</td>\n",
       "      <td>5.95</td>\n",
       "      <td>15044</td>\n",
       "      <td>253253</td>\n",
       "      <td>70876992186</td>\n",
       "      <td>9.005213</td>\n",
       "      <td>...</td>\n",
       "      <td>41</td>\n",
       "      <td>317</td>\n",
       "      <td>22609</td>\n",
       "      <td>2190</td>\n",
       "      <td>3.239283</td>\n",
       "      <td>3.824634</td>\n",
       "      <td>5.896372</td>\n",
       "      <td>5.896372</td>\n",
       "      <td>2.573858</td>\n",
       "      <td>4.957427</td>\n",
       "    </tr>\n",
       "    <tr>\n",
       "      <th>3</th>\n",
       "      <td>16971</td>\n",
       "      <td>2115</td>\n",
       "      <td>2983</td>\n",
       "      <td>1</td>\n",
       "      <td>2011-11-22</td>\n",
       "      <td>0.83</td>\n",
       "      <td>15525</td>\n",
       "      <td>253253</td>\n",
       "      <td>107070802695</td>\n",
       "      <td>8.999737</td>\n",
       "      <td>...</td>\n",
       "      <td>28</td>\n",
       "      <td>328</td>\n",
       "      <td>51253</td>\n",
       "      <td>1999</td>\n",
       "      <td>3.239283</td>\n",
       "      <td>1.532857</td>\n",
       "      <td>0.824970</td>\n",
       "      <td>0.824970</td>\n",
       "      <td>2.756038</td>\n",
       "      <td>2.888281</td>\n",
       "    </tr>\n",
       "    <tr>\n",
       "      <th>4</th>\n",
       "      <td>6080</td>\n",
       "      <td>1210</td>\n",
       "      <td>2886</td>\n",
       "      <td>12</td>\n",
       "      <td>2011-06-05</td>\n",
       "      <td>1.65</td>\n",
       "      <td>13952</td>\n",
       "      <td>253253</td>\n",
       "      <td>21231724800</td>\n",
       "      <td>9.465182</td>\n",
       "      <td>...</td>\n",
       "      <td>30</td>\n",
       "      <td>114</td>\n",
       "      <td>42076</td>\n",
       "      <td>901</td>\n",
       "      <td>3.239283</td>\n",
       "      <td>3.426000</td>\n",
       "      <td>1.635965</td>\n",
       "      <td>1.635965</td>\n",
       "      <td>2.939234</td>\n",
       "      <td>3.778221</td>\n",
       "    </tr>\n",
       "  </tbody>\n",
       "</table>\n",
       "<p>5 rows × 23 columns</p>\n",
       "</div>"
      ],
      "text/plain": [
       "   InvoiceNo  StockCode  Description  Quantity InvoiceDate  UnitPrice  \\\n",
       "0       6141       1583          144         3  2011-06-05       3.75   \n",
       "1       6349       1300         3682         6  2011-11-05       1.95   \n",
       "2      16783       2178         1939         4  2011-11-20       5.95   \n",
       "3      16971       2115         2983         1  2011-11-22       0.83   \n",
       "4       6080       1210         2886        12  2011-06-05       1.65   \n",
       "\n",
       "   CustomerID  Country  Invoice_Stock_Description  InvoiceAge  ...  \\\n",
       "0       14056   253253                 1399853232    9.465182  ...   \n",
       "1       13098   253253                30390123400    9.046282  ...   \n",
       "2       15044   253253                70876992186    9.005213  ...   \n",
       "3       15525   253253               107070802695    8.999737  ...   \n",
       "4       13952   253253                21231724800    9.465182  ...   \n",
       "\n",
       "  InvoiceNo_freq  StockCode_freq  Quantity_freq  InvoiceDate_freq  \\\n",
       "0             34             331          18794               901   \n",
       "1             27             194          26375              1030   \n",
       "2             41             317          22609              2190   \n",
       "3             28             328          51253              1999   \n",
       "4             30             114          42076               901   \n",
       "\n",
       "   mean_Country_ordinal_encode  mean_InvoiceNo_ordinal_encode  \\\n",
       "0                     3.239283                       3.241765   \n",
       "1                     3.239283                       3.028519   \n",
       "2                     3.239283                       3.824634   \n",
       "3                     3.239283                       1.532857   \n",
       "4                     3.239283                       3.426000   \n",
       "\n",
       "   mean_StockCode_ordinal_encode  mean_Description_ordinal_encode  \\\n",
       "0                       3.745770                         3.745770   \n",
       "1                       1.972887                         1.972887   \n",
       "2                       5.896372                         5.896372   \n",
       "3                       0.824970                         0.824970   \n",
       "4                       1.635965                         1.635965   \n",
       "\n",
       "   mean_InvoiceDate_ordinal_encode  mean_CustomerID_ordinal_encode  \n",
       "0                         2.939234                        2.795714  \n",
       "1                         3.307942                        2.917792  \n",
       "2                         2.573858                        4.957427  \n",
       "3                         2.756038                        2.888281  \n",
       "4                         2.939234                        3.778221  \n",
       "\n",
       "[5 rows x 23 columns]"
      ]
     },
     "execution_count": 63,
     "metadata": {},
     "output_type": "execute_result"
    }
   ],
   "source": [
    "df_train.head()"
   ]
  },
  {
   "cell_type": "code",
   "execution_count": 73,
   "metadata": {},
   "outputs": [
    {
     "data": {
      "text/html": [
       "<div>\n",
       "<style scoped>\n",
       "    .dataframe tbody tr th:only-of-type {\n",
       "        vertical-align: middle;\n",
       "    }\n",
       "\n",
       "    .dataframe tbody tr th {\n",
       "        vertical-align: top;\n",
       "    }\n",
       "\n",
       "    .dataframe thead th {\n",
       "        text-align: right;\n",
       "    }\n",
       "</style>\n",
       "<table border=\"1\" class=\"dataframe\">\n",
       "  <thead>\n",
       "    <tr style=\"text-align: right;\">\n",
       "      <th></th>\n",
       "      <th>InvoiceNo</th>\n",
       "      <th>StockCode</th>\n",
       "      <th>Description</th>\n",
       "      <th>Quantity</th>\n",
       "      <th>InvoiceDate</th>\n",
       "      <th>CustomerID</th>\n",
       "      <th>Country</th>\n",
       "      <th>Invoice_Stock_Description</th>\n",
       "      <th>InvoiceAge</th>\n",
       "      <th>weekday</th>\n",
       "      <th>...</th>\n",
       "      <th>StockCode_freq</th>\n",
       "      <th>Quantity_freq</th>\n",
       "      <th>InvoiceDate_freq</th>\n",
       "      <th>mean_InvoiceNo_ordinal_encode</th>\n",
       "      <th>mean_StockCode_ordinal_encode</th>\n",
       "      <th>mean_Description_ordinal_encode</th>\n",
       "      <th>mean_InvoiceDate_ordinal_encode</th>\n",
       "      <th>mean_CustomerID_ordinal_encode</th>\n",
       "      <th>Invoice_Only_date</th>\n",
       "      <th>Invoice_date</th>\n",
       "    </tr>\n",
       "  </thead>\n",
       "  <tbody>\n",
       "    <tr>\n",
       "      <th>0</th>\n",
       "      <td>3139</td>\n",
       "      <td>1709</td>\n",
       "      <td>1079</td>\n",
       "      <td>3</td>\n",
       "      <td>2011-02-22</td>\n",
       "      <td>16161</td>\n",
       "      <td>253253</td>\n",
       "      <td>5788350529</td>\n",
       "      <td>9.745433</td>\n",
       "      <td>Tuesday</td>\n",
       "      <td>...</td>\n",
       "      <td>14</td>\n",
       "      <td>8154</td>\n",
       "      <td>12</td>\n",
       "      <td>3.548125</td>\n",
       "      <td>1.650000</td>\n",
       "      <td>1.650000</td>\n",
       "      <td>NaN</td>\n",
       "      <td>3.430627</td>\n",
       "      <td>2011-02-22</td>\n",
       "      <td>2011-02-22</td>\n",
       "    </tr>\n",
       "    <tr>\n",
       "      <th>1</th>\n",
       "      <td>617</td>\n",
       "      <td>510</td>\n",
       "      <td>3457</td>\n",
       "      <td>1</td>\n",
       "      <td>2010-08-12</td>\n",
       "      <td>17341</td>\n",
       "      <td>253253</td>\n",
       "      <td>1087814190</td>\n",
       "      <td>10.276883</td>\n",
       "      <td>Thursday</td>\n",
       "      <td>...</td>\n",
       "      <td>17</td>\n",
       "      <td>22061</td>\n",
       "      <td>38</td>\n",
       "      <td>2.128130</td>\n",
       "      <td>1.193421</td>\n",
       "      <td>1.193421</td>\n",
       "      <td>NaN</td>\n",
       "      <td>2.082536</td>\n",
       "      <td>2010-08-12</td>\n",
       "      <td>2010-08-12</td>\n",
       "    </tr>\n",
       "    <tr>\n",
       "      <th>2</th>\n",
       "      <td>14653</td>\n",
       "      <td>604</td>\n",
       "      <td>694</td>\n",
       "      <td>36</td>\n",
       "      <td>2011-10-25</td>\n",
       "      <td>15158</td>\n",
       "      <td>253253</td>\n",
       "      <td>6142185928</td>\n",
       "      <td>9.074815</td>\n",
       "      <td>Tuesday</td>\n",
       "      <td>...</td>\n",
       "      <td>99</td>\n",
       "      <td>1160</td>\n",
       "      <td>4</td>\n",
       "      <td>1.820000</td>\n",
       "      <td>3.867050</td>\n",
       "      <td>3.867050</td>\n",
       "      <td>NaN</td>\n",
       "      <td>1.820000</td>\n",
       "      <td>2011-10-25</td>\n",
       "      <td>2011-10-25</td>\n",
       "    </tr>\n",
       "    <tr>\n",
       "      <th>3</th>\n",
       "      <td>8634</td>\n",
       "      <td>1478</td>\n",
       "      <td>3473</td>\n",
       "      <td>2</td>\n",
       "      <td>2011-06-27</td>\n",
       "      <td>16033</td>\n",
       "      <td>253253</td>\n",
       "      <td>44319133596</td>\n",
       "      <td>9.403506</td>\n",
       "      <td>Monday</td>\n",
       "      <td>...</td>\n",
       "      <td>156</td>\n",
       "      <td>17282</td>\n",
       "      <td>24</td>\n",
       "      <td>3.000000</td>\n",
       "      <td>1.641111</td>\n",
       "      <td>1.641111</td>\n",
       "      <td>NaN</td>\n",
       "      <td>3.414272</td>\n",
       "      <td>2011-06-27</td>\n",
       "      <td>2011-06-27</td>\n",
       "    </tr>\n",
       "    <tr>\n",
       "      <th>4</th>\n",
       "      <td>15546</td>\n",
       "      <td>3216</td>\n",
       "      <td>871</td>\n",
       "      <td>1</td>\n",
       "      <td>2011-06-11</td>\n",
       "      <td>15351</td>\n",
       "      <td>253253</td>\n",
       "      <td>43546460256</td>\n",
       "      <td>9.446902</td>\n",
       "      <td>Saturday</td>\n",
       "      <td>...</td>\n",
       "      <td>146</td>\n",
       "      <td>22061</td>\n",
       "      <td>8</td>\n",
       "      <td>3.849524</td>\n",
       "      <td>12.610985</td>\n",
       "      <td>12.610985</td>\n",
       "      <td>NaN</td>\n",
       "      <td>2.926886</td>\n",
       "      <td>2011-06-11</td>\n",
       "      <td>2011-06-11</td>\n",
       "    </tr>\n",
       "  </tbody>\n",
       "</table>\n",
       "<p>5 rows × 23 columns</p>\n",
       "</div>"
      ],
      "text/plain": [
       "   InvoiceNo  StockCode  Description  Quantity InvoiceDate  CustomerID  \\\n",
       "0       3139       1709         1079         3  2011-02-22       16161   \n",
       "1        617        510         3457         1  2010-08-12       17341   \n",
       "2      14653        604          694        36  2011-10-25       15158   \n",
       "3       8634       1478         3473         2  2011-06-27       16033   \n",
       "4      15546       3216          871         1  2011-06-11       15351   \n",
       "\n",
       "   Country  Invoice_Stock_Description  InvoiceAge   weekday  ...  \\\n",
       "0   253253                 5788350529    9.745433   Tuesday  ...   \n",
       "1   253253                 1087814190   10.276883  Thursday  ...   \n",
       "2   253253                 6142185928    9.074815   Tuesday  ...   \n",
       "3   253253                44319133596    9.403506    Monday  ...   \n",
       "4   253253                43546460256    9.446902  Saturday  ...   \n",
       "\n",
       "   StockCode_freq  Quantity_freq  InvoiceDate_freq  \\\n",
       "0              14           8154                12   \n",
       "1              17          22061                38   \n",
       "2              99           1160                 4   \n",
       "3             156          17282                24   \n",
       "4             146          22061                 8   \n",
       "\n",
       "   mean_InvoiceNo_ordinal_encode  mean_StockCode_ordinal_encode  \\\n",
       "0                       3.548125                       1.650000   \n",
       "1                       2.128130                       1.193421   \n",
       "2                       1.820000                       3.867050   \n",
       "3                       3.000000                       1.641111   \n",
       "4                       3.849524                      12.610985   \n",
       "\n",
       "   mean_Description_ordinal_encode  mean_InvoiceDate_ordinal_encode  \\\n",
       "0                         1.650000                              NaN   \n",
       "1                         1.193421                              NaN   \n",
       "2                         3.867050                              NaN   \n",
       "3                         1.641111                              NaN   \n",
       "4                        12.610985                              NaN   \n",
       "\n",
       "   mean_CustomerID_ordinal_encode  Invoice_Only_date  Invoice_date  \n",
       "0                        3.430627         2011-02-22    2011-02-22  \n",
       "1                        2.082536         2010-08-12    2010-08-12  \n",
       "2                        1.820000         2011-10-25    2011-10-25  \n",
       "3                        3.414272         2011-06-27    2011-06-27  \n",
       "4                        2.926886         2011-06-11    2011-06-11  \n",
       "\n",
       "[5 rows x 23 columns]"
      ]
     },
     "execution_count": 73,
     "metadata": {},
     "output_type": "execute_result"
    }
   ],
   "source": [
    "df_test.head()"
   ]
  },
  {
   "cell_type": "code",
   "execution_count": 74,
   "metadata": {},
   "outputs": [],
   "source": [
    "df_test = df_test.drop(['Invoice_Only_date','Invoice_date'],1)"
   ]
  },
  {
   "cell_type": "code",
   "execution_count": 75,
   "metadata": {},
   "outputs": [
    {
     "data": {
      "text/html": [
       "<div>\n",
       "<style scoped>\n",
       "    .dataframe tbody tr th:only-of-type {\n",
       "        vertical-align: middle;\n",
       "    }\n",
       "\n",
       "    .dataframe tbody tr th {\n",
       "        vertical-align: top;\n",
       "    }\n",
       "\n",
       "    .dataframe thead th {\n",
       "        text-align: right;\n",
       "    }\n",
       "</style>\n",
       "<table border=\"1\" class=\"dataframe\">\n",
       "  <thead>\n",
       "    <tr style=\"text-align: right;\">\n",
       "      <th></th>\n",
       "      <th>InvoiceNo</th>\n",
       "      <th>StockCode</th>\n",
       "      <th>Description</th>\n",
       "      <th>Quantity</th>\n",
       "      <th>InvoiceDate</th>\n",
       "      <th>CustomerID</th>\n",
       "      <th>Country</th>\n",
       "      <th>Invoice_Stock_Description</th>\n",
       "      <th>InvoiceAge</th>\n",
       "      <th>weekday</th>\n",
       "      <th>...</th>\n",
       "      <th>CustomerID_freq</th>\n",
       "      <th>InvoiceNo_freq</th>\n",
       "      <th>StockCode_freq</th>\n",
       "      <th>Quantity_freq</th>\n",
       "      <th>InvoiceDate_freq</th>\n",
       "      <th>mean_InvoiceNo_ordinal_encode</th>\n",
       "      <th>mean_StockCode_ordinal_encode</th>\n",
       "      <th>mean_Description_ordinal_encode</th>\n",
       "      <th>mean_InvoiceDate_ordinal_encode</th>\n",
       "      <th>mean_CustomerID_ordinal_encode</th>\n",
       "    </tr>\n",
       "  </thead>\n",
       "  <tbody>\n",
       "    <tr>\n",
       "      <th>0</th>\n",
       "      <td>3139</td>\n",
       "      <td>1709</td>\n",
       "      <td>1079</td>\n",
       "      <td>3</td>\n",
       "      <td>2011-02-22</td>\n",
       "      <td>16161</td>\n",
       "      <td>253253</td>\n",
       "      <td>5788350529</td>\n",
       "      <td>9.745433</td>\n",
       "      <td>Tuesday</td>\n",
       "      <td>...</td>\n",
       "      <td>151</td>\n",
       "      <td>11</td>\n",
       "      <td>14</td>\n",
       "      <td>8154</td>\n",
       "      <td>12</td>\n",
       "      <td>3.548125</td>\n",
       "      <td>1.650000</td>\n",
       "      <td>1.650000</td>\n",
       "      <td>NaN</td>\n",
       "      <td>3.430627</td>\n",
       "    </tr>\n",
       "    <tr>\n",
       "      <th>1</th>\n",
       "      <td>617</td>\n",
       "      <td>510</td>\n",
       "      <td>3457</td>\n",
       "      <td>1</td>\n",
       "      <td>2010-08-12</td>\n",
       "      <td>17341</td>\n",
       "      <td>253253</td>\n",
       "      <td>1087814190</td>\n",
       "      <td>10.276883</td>\n",
       "      <td>Thursday</td>\n",
       "      <td>...</td>\n",
       "      <td>45</td>\n",
       "      <td>38</td>\n",
       "      <td>17</td>\n",
       "      <td>22061</td>\n",
       "      <td>38</td>\n",
       "      <td>2.128130</td>\n",
       "      <td>1.193421</td>\n",
       "      <td>1.193421</td>\n",
       "      <td>NaN</td>\n",
       "      <td>2.082536</td>\n",
       "    </tr>\n",
       "    <tr>\n",
       "      <th>2</th>\n",
       "      <td>14653</td>\n",
       "      <td>604</td>\n",
       "      <td>694</td>\n",
       "      <td>36</td>\n",
       "      <td>2011-10-25</td>\n",
       "      <td>15158</td>\n",
       "      <td>253253</td>\n",
       "      <td>6142185928</td>\n",
       "      <td>9.074815</td>\n",
       "      <td>Tuesday</td>\n",
       "      <td>...</td>\n",
       "      <td>4</td>\n",
       "      <td>4</td>\n",
       "      <td>99</td>\n",
       "      <td>1160</td>\n",
       "      <td>4</td>\n",
       "      <td>1.820000</td>\n",
       "      <td>3.867050</td>\n",
       "      <td>3.867050</td>\n",
       "      <td>NaN</td>\n",
       "      <td>1.820000</td>\n",
       "    </tr>\n",
       "    <tr>\n",
       "      <th>3</th>\n",
       "      <td>8634</td>\n",
       "      <td>1478</td>\n",
       "      <td>3473</td>\n",
       "      <td>2</td>\n",
       "      <td>2011-06-27</td>\n",
       "      <td>16033</td>\n",
       "      <td>253253</td>\n",
       "      <td>44319133596</td>\n",
       "      <td>9.403506</td>\n",
       "      <td>Monday</td>\n",
       "      <td>...</td>\n",
       "      <td>342</td>\n",
       "      <td>24</td>\n",
       "      <td>156</td>\n",
       "      <td>17282</td>\n",
       "      <td>24</td>\n",
       "      <td>3.000000</td>\n",
       "      <td>1.641111</td>\n",
       "      <td>1.641111</td>\n",
       "      <td>NaN</td>\n",
       "      <td>3.414272</td>\n",
       "    </tr>\n",
       "    <tr>\n",
       "      <th>4</th>\n",
       "      <td>15546</td>\n",
       "      <td>3216</td>\n",
       "      <td>871</td>\n",
       "      <td>1</td>\n",
       "      <td>2011-06-11</td>\n",
       "      <td>15351</td>\n",
       "      <td>253253</td>\n",
       "      <td>43546460256</td>\n",
       "      <td>9.446902</td>\n",
       "      <td>Saturday</td>\n",
       "      <td>...</td>\n",
       "      <td>66</td>\n",
       "      <td>8</td>\n",
       "      <td>146</td>\n",
       "      <td>22061</td>\n",
       "      <td>8</td>\n",
       "      <td>3.849524</td>\n",
       "      <td>12.610985</td>\n",
       "      <td>12.610985</td>\n",
       "      <td>NaN</td>\n",
       "      <td>2.926886</td>\n",
       "    </tr>\n",
       "  </tbody>\n",
       "</table>\n",
       "<p>5 rows × 21 columns</p>\n",
       "</div>"
      ],
      "text/plain": [
       "   InvoiceNo  StockCode  Description  Quantity InvoiceDate  CustomerID  \\\n",
       "0       3139       1709         1079         3  2011-02-22       16161   \n",
       "1        617        510         3457         1  2010-08-12       17341   \n",
       "2      14653        604          694        36  2011-10-25       15158   \n",
       "3       8634       1478         3473         2  2011-06-27       16033   \n",
       "4      15546       3216          871         1  2011-06-11       15351   \n",
       "\n",
       "   Country  Invoice_Stock_Description  InvoiceAge   weekday  ...  \\\n",
       "0   253253                 5788350529    9.745433   Tuesday  ...   \n",
       "1   253253                 1087814190   10.276883  Thursday  ...   \n",
       "2   253253                 6142185928    9.074815   Tuesday  ...   \n",
       "3   253253                44319133596    9.403506    Monday  ...   \n",
       "4   253253                43546460256    9.446902  Saturday  ...   \n",
       "\n",
       "   CustomerID_freq  InvoiceNo_freq  StockCode_freq  Quantity_freq  \\\n",
       "0              151              11              14           8154   \n",
       "1               45              38              17          22061   \n",
       "2                4               4              99           1160   \n",
       "3              342              24             156          17282   \n",
       "4               66               8             146          22061   \n",
       "\n",
       "   InvoiceDate_freq  mean_InvoiceNo_ordinal_encode  \\\n",
       "0                12                       3.548125   \n",
       "1                38                       2.128130   \n",
       "2                 4                       1.820000   \n",
       "3                24                       3.000000   \n",
       "4                 8                       3.849524   \n",
       "\n",
       "   mean_StockCode_ordinal_encode  mean_Description_ordinal_encode  \\\n",
       "0                       1.650000                         1.650000   \n",
       "1                       1.193421                         1.193421   \n",
       "2                       3.867050                         3.867050   \n",
       "3                       1.641111                         1.641111   \n",
       "4                      12.610985                        12.610985   \n",
       "\n",
       "   mean_InvoiceDate_ordinal_encode  mean_CustomerID_ordinal_encode  \n",
       "0                              NaN                        3.430627  \n",
       "1                              NaN                        2.082536  \n",
       "2                              NaN                        1.820000  \n",
       "3                              NaN                        3.414272  \n",
       "4                              NaN                        2.926886  \n",
       "\n",
       "[5 rows x 21 columns]"
      ]
     },
     "execution_count": 75,
     "metadata": {},
     "output_type": "execute_result"
    }
   ],
   "source": [
    "df_test.head()"
   ]
  },
  {
   "cell_type": "code",
   "execution_count": 15,
   "metadata": {},
   "outputs": [
    {
     "data": {
      "text/plain": [
       "<matplotlib.legend.Legend at 0x2a5a23bca88>"
      ]
     },
     "execution_count": 15,
     "metadata": {},
     "output_type": "execute_result"
    },
    {
     "data": {
      "image/png": "[encoded data removed]",
      "text/plain": [
       "<Figure size 432x288 with 1 Axes>"
      ]
     },
     "metadata": {
      "needs_background": "light"
     },
     "output_type": "display_data"
    }
   ],
   "source": [
    "fig = plt.figure()\n",
    "ax = fig.add_subplot(111)\n",
    "df_train['InvoiceAge'].plot(kind='kde', ax=ax)\n",
    "lines, labels = ax.get_legend_handles_labels()\n",
    "ax.legend(lines, labels, loc='best')"
   ]
  },
  {
   "cell_type": "code",
   "execution_count": 16,
   "metadata": {},
   "outputs": [
    {
     "data": {
      "text/plain": [
       "<AxesSubplot:>"
      ]
     },
     "execution_count": 16,
     "metadata": {},
     "output_type": "execute_result"
    },
    {
     "data": {
      "image/png": "[encoded data removed]",
      "text/plain": [
       "<Figure size 432x288 with 1 Axes>"
      ]
     },
     "metadata": {
      "needs_background": "light"
     },
     "output_type": "display_data"
    }
   ],
   "source": [
    "df_train.Country.hist(bins=50)"
   ]
  },
  {
   "cell_type": "code",
   "execution_count": 17,
   "metadata": {},
   "outputs": [
    {
     "data": {
      "text/plain": [
       "<AxesSubplot:xlabel='InvoiceAge'>"
      ]
     },
     "execution_count": 17,
     "metadata": {},
     "output_type": "execute_result"
    },
    {
     "data": {
      "image/png": "[encoded data removed]",
      "text/plain": [
       "<Figure size 432x288 with 1 Axes>"
      ]
     },
     "metadata": {
      "needs_background": "light"
     },
     "output_type": "display_data"
    }
   ],
   "source": [
    "import seaborn as sns\n",
    "sns.boxplot('InvoiceAge',data=df_train)"
   ]
  },
  {
   "cell_type": "code",
   "execution_count": 18,
   "metadata": {},
   "outputs": [
    {
     "data": {
      "text/plain": [
       "<AxesSubplot:xlabel='Invoice_Stock_Description'>"
      ]
     },
     "execution_count": 18,
     "metadata": {},
     "output_type": "execute_result"
    },
    {
     "data": {
      "image/png": "[encoded data removed]",
      "text/plain": [
       "<Figure size 432x288 with 1 Axes>"
      ]
     },
     "metadata": {
      "needs_background": "light"
     },
     "output_type": "display_data"
    }
   ],
   "source": [
    "sns.boxplot('Invoice_Stock_Description',data=df_train)"
   ]
  },
  {
   "cell_type": "markdown",
   "metadata": {},
   "source": [
    "#### Many Outliers"
   ]
  },
  {
   "cell_type": "code",
   "execution_count": 21,
   "metadata": {},
   "outputs": [
    {
     "data": {
      "image/png": "[encoded data removed]",
      "text/plain": [
       "<Figure size 432x288 with 1 Axes>"
      ]
     },
     "metadata": {
      "needs_background": "light"
     },
     "output_type": "display_data"
    }
   ],
   "source": [
    "df =df_train.copy()\n",
    "df = df_train.drop('InvoiceDate', 1)\n",
    "sns.boxplot(x=\"variable\", y=\"value\", data=pd.melt(df))\n",
    "\n",
    "plt.show()"
   ]
  },
  {
   "cell_type": "markdown",
   "metadata": {},
   "source": [
    "### Compute the frequency with every feature"
   ]
  },
  {
   "cell_type": "code",
   "execution_count": 23,
   "metadata": {},
   "outputs": [],
   "source": [
    "#df['InvoiceNo'].value_counts().plot.bar()"
   ]
  },
  {
   "cell_type": "code",
   "execution_count": 24,
   "metadata": {},
   "outputs": [
    {
     "data": {
      "text/plain": [
       "<AxesSubplot:>"
      ]
     },
     "execution_count": 24,
     "metadata": {},
     "output_type": "execute_result"
    },
    {
     "data": {
      "image/png": "[encoded data removed]",
      "text/plain": [
       "<Figure size 432x288 with 1 Axes>"
      ]
     },
     "metadata": {
      "needs_background": "light"
     },
     "output_type": "display_data"
    }
   ],
   "source": [
    "df_test['Country'].value_counts().plot.bar()"
   ]
  },
  {
   "cell_type": "code",
   "execution_count": 26,
   "metadata": {},
   "outputs": [
    {
     "data": {
      "text/html": [
       "<div>\n",
       "<style scoped>\n",
       "    .dataframe tbody tr th:only-of-type {\n",
       "        vertical-align: middle;\n",
       "    }\n",
       "\n",
       "    .dataframe tbody tr th {\n",
       "        vertical-align: top;\n",
       "    }\n",
       "\n",
       "    .dataframe thead th {\n",
       "        text-align: right;\n",
       "    }\n",
       "</style>\n",
       "<table border=\"1\" class=\"dataframe\">\n",
       "  <thead>\n",
       "    <tr style=\"text-align: right;\">\n",
       "      <th></th>\n",
       "      <th>InvoiceNo</th>\n",
       "      <th>StockCode</th>\n",
       "      <th>Description</th>\n",
       "      <th>Quantity</th>\n",
       "      <th>InvoiceDate</th>\n",
       "      <th>UnitPrice</th>\n",
       "      <th>CustomerID</th>\n",
       "      <th>Country</th>\n",
       "      <th>Invoice_Stock_Description</th>\n",
       "      <th>InvoiceAge</th>\n",
       "      <th>weekday</th>\n",
       "    </tr>\n",
       "  </thead>\n",
       "  <tbody>\n",
       "    <tr>\n",
       "      <th>0</th>\n",
       "      <td>6141</td>\n",
       "      <td>1583</td>\n",
       "      <td>144</td>\n",
       "      <td>3</td>\n",
       "      <td>2011-06-05</td>\n",
       "      <td>3.75</td>\n",
       "      <td>14056</td>\n",
       "      <td>35</td>\n",
       "      <td>1399853232</td>\n",
       "      <td>9.465182</td>\n",
       "      <td>Sunday</td>\n",
       "    </tr>\n",
       "    <tr>\n",
       "      <th>1</th>\n",
       "      <td>6349</td>\n",
       "      <td>1300</td>\n",
       "      <td>3682</td>\n",
       "      <td>6</td>\n",
       "      <td>2011-11-05</td>\n",
       "      <td>1.95</td>\n",
       "      <td>13098</td>\n",
       "      <td>35</td>\n",
       "      <td>30390123400</td>\n",
       "      <td>9.046282</td>\n",
       "      <td>Saturday</td>\n",
       "    </tr>\n",
       "    <tr>\n",
       "      <th>2</th>\n",
       "      <td>16783</td>\n",
       "      <td>2178</td>\n",
       "      <td>1939</td>\n",
       "      <td>4</td>\n",
       "      <td>2011-11-20</td>\n",
       "      <td>5.95</td>\n",
       "      <td>15044</td>\n",
       "      <td>35</td>\n",
       "      <td>70876992186</td>\n",
       "      <td>9.005213</td>\n",
       "      <td>Sunday</td>\n",
       "    </tr>\n",
       "    <tr>\n",
       "      <th>3</th>\n",
       "      <td>16971</td>\n",
       "      <td>2115</td>\n",
       "      <td>2983</td>\n",
       "      <td>1</td>\n",
       "      <td>2011-11-22</td>\n",
       "      <td>0.83</td>\n",
       "      <td>15525</td>\n",
       "      <td>35</td>\n",
       "      <td>107070802695</td>\n",
       "      <td>8.999737</td>\n",
       "      <td>Tuesday</td>\n",
       "    </tr>\n",
       "    <tr>\n",
       "      <th>4</th>\n",
       "      <td>6080</td>\n",
       "      <td>1210</td>\n",
       "      <td>2886</td>\n",
       "      <td>12</td>\n",
       "      <td>2011-06-05</td>\n",
       "      <td>1.65</td>\n",
       "      <td>13952</td>\n",
       "      <td>35</td>\n",
       "      <td>21231724800</td>\n",
       "      <td>9.465182</td>\n",
       "      <td>Sunday</td>\n",
       "    </tr>\n",
       "  </tbody>\n",
       "</table>\n",
       "</div>"
      ],
      "text/plain": [
       "   InvoiceNo  StockCode  Description  Quantity InvoiceDate  UnitPrice  \\\n",
       "0       6141       1583          144         3  2011-06-05       3.75   \n",
       "1       6349       1300         3682         6  2011-11-05       1.95   \n",
       "2      16783       2178         1939         4  2011-11-20       5.95   \n",
       "3      16971       2115         2983         1  2011-11-22       0.83   \n",
       "4       6080       1210         2886        12  2011-06-05       1.65   \n",
       "\n",
       "   CustomerID  Country  Invoice_Stock_Description  InvoiceAge   weekday  \n",
       "0       14056       35                 1399853232    9.465182    Sunday  \n",
       "1       13098       35                30390123400    9.046282  Saturday  \n",
       "2       15044       35                70876992186    9.005213    Sunday  \n",
       "3       15525       35               107070802695    8.999737   Tuesday  \n",
       "4       13952       35                21231724800    9.465182    Sunday  "
      ]
     },
     "execution_count": 26,
     "metadata": {},
     "output_type": "execute_result"
    }
   ],
   "source": [
    "df_train['weekday']=df_train['InvoiceDate'].dt.day_name()\n",
    "df_train.head()"
   ]
  },
  {
   "cell_type": "code",
   "execution_count": 28,
   "metadata": {},
   "outputs": [
    {
     "data": {
      "text/html": [
       "<div>\n",
       "<style scoped>\n",
       "    .dataframe tbody tr th:only-of-type {\n",
       "        vertical-align: middle;\n",
       "    }\n",
       "\n",
       "    .dataframe tbody tr th {\n",
       "        vertical-align: top;\n",
       "    }\n",
       "\n",
       "    .dataframe thead th {\n",
       "        text-align: right;\n",
       "    }\n",
       "</style>\n",
       "<table border=\"1\" class=\"dataframe\">\n",
       "  <thead>\n",
       "    <tr style=\"text-align: right;\">\n",
       "      <th></th>\n",
       "      <th>InvoiceNo</th>\n",
       "      <th>StockCode</th>\n",
       "      <th>Description</th>\n",
       "      <th>Quantity</th>\n",
       "      <th>InvoiceDate</th>\n",
       "      <th>CustomerID</th>\n",
       "      <th>Country</th>\n",
       "      <th>Invoice_Stock_Description</th>\n",
       "      <th>InvoiceAge</th>\n",
       "      <th>weekday</th>\n",
       "    </tr>\n",
       "  </thead>\n",
       "  <tbody>\n",
       "    <tr>\n",
       "      <th>0</th>\n",
       "      <td>3139</td>\n",
       "      <td>1709</td>\n",
       "      <td>1079</td>\n",
       "      <td>3</td>\n",
       "      <td>2011-02-22 15:22:00</td>\n",
       "      <td>16161</td>\n",
       "      <td>35</td>\n",
       "      <td>5788350529</td>\n",
       "      <td>9.745433</td>\n",
       "      <td>Tuesday</td>\n",
       "    </tr>\n",
       "    <tr>\n",
       "      <th>1</th>\n",
       "      <td>617</td>\n",
       "      <td>510</td>\n",
       "      <td>3457</td>\n",
       "      <td>1</td>\n",
       "      <td>2010-08-12 12:46:00</td>\n",
       "      <td>17341</td>\n",
       "      <td>35</td>\n",
       "      <td>1087814190</td>\n",
       "      <td>10.276883</td>\n",
       "      <td>Thursday</td>\n",
       "    </tr>\n",
       "    <tr>\n",
       "      <th>2</th>\n",
       "      <td>14653</td>\n",
       "      <td>604</td>\n",
       "      <td>694</td>\n",
       "      <td>36</td>\n",
       "      <td>2011-10-25 13:53:00</td>\n",
       "      <td>15158</td>\n",
       "      <td>35</td>\n",
       "      <td>6142185928</td>\n",
       "      <td>9.074815</td>\n",
       "      <td>Tuesday</td>\n",
       "    </tr>\n",
       "    <tr>\n",
       "      <th>3</th>\n",
       "      <td>8634</td>\n",
       "      <td>1478</td>\n",
       "      <td>3473</td>\n",
       "      <td>2</td>\n",
       "      <td>2011-06-27 12:38:00</td>\n",
       "      <td>16033</td>\n",
       "      <td>35</td>\n",
       "      <td>44319133596</td>\n",
       "      <td>9.403506</td>\n",
       "      <td>Monday</td>\n",
       "    </tr>\n",
       "    <tr>\n",
       "      <th>4</th>\n",
       "      <td>15546</td>\n",
       "      <td>3216</td>\n",
       "      <td>871</td>\n",
       "      <td>1</td>\n",
       "      <td>2011-06-11 16:14:00</td>\n",
       "      <td>15351</td>\n",
       "      <td>35</td>\n",
       "      <td>43546460256</td>\n",
       "      <td>9.446902</td>\n",
       "      <td>Saturday</td>\n",
       "    </tr>\n",
       "  </tbody>\n",
       "</table>\n",
       "</div>"
      ],
      "text/plain": [
       "   InvoiceNo  StockCode  Description  Quantity         InvoiceDate  \\\n",
       "0       3139       1709         1079         3 2011-02-22 15:22:00   \n",
       "1        617        510         3457         1 2010-08-12 12:46:00   \n",
       "2      14653        604          694        36 2011-10-25 13:53:00   \n",
       "3       8634       1478         3473         2 2011-06-27 12:38:00   \n",
       "4      15546       3216          871         1 2011-06-11 16:14:00   \n",
       "\n",
       "   CustomerID  Country  Invoice_Stock_Description  InvoiceAge   weekday  \n",
       "0       16161       35                 5788350529    9.745433   Tuesday  \n",
       "1       17341       35                 1087814190   10.276883  Thursday  \n",
       "2       15158       35                 6142185928    9.074815   Tuesday  \n",
       "3       16033       35                44319133596    9.403506    Monday  \n",
       "4       15351       35                43546460256    9.446902  Saturday  "
      ]
     },
     "execution_count": 28,
     "metadata": {},
     "output_type": "execute_result"
    }
   ],
   "source": [
    "df_test['weekday']=df_test['InvoiceDate'].dt.day_name()\n",
    "df_test.head()"
   ]
  },
  {
   "cell_type": "code",
   "execution_count": 29,
   "metadata": {},
   "outputs": [
    {
     "data": {
      "text/plain": [
       "<AxesSubplot:>"
      ]
     },
     "execution_count": 29,
     "metadata": {},
     "output_type": "execute_result"
    },
    {
     "data": {
      "image/png": "[encoded data removed]",
      "text/plain": [
       "<Figure size 432x288 with 1 Axes>"
      ]
     },
     "metadata": {
      "needs_background": "light"
     },
     "output_type": "display_data"
    }
   ],
   "source": [
    "df_train['weekday'].value_counts().plot.bar()"
   ]
  },
  {
   "cell_type": "code",
   "execution_count": 30,
   "metadata": {},
   "outputs": [
    {
     "data": {
      "text/plain": [
       "<AxesSubplot:>"
      ]
     },
     "execution_count": 30,
     "metadata": {},
     "output_type": "execute_result"
    },
    {
     "data": {
      "image/png": "[encoded data removed]",
      "text/plain": [
       "<Figure size 432x288 with 1 Axes>"
      ]
     },
     "metadata": {
      "needs_background": "light"
     },
     "output_type": "display_data"
    }
   ],
   "source": [
    "df_test['weekday'].value_counts().plot.bar()"
   ]
  },
  {
   "cell_type": "markdown",
   "metadata": {},
   "source": [
    "###  MOst sales happens in thrusday and least on saturday"
   ]
  },
  {
   "cell_type": "markdown",
   "metadata": {},
   "source": [
    "#### Accordingly encoding the days as per the frequency"
   ]
  },
  {
   "cell_type": "code",
   "execution_count": 31,
   "metadata": {},
   "outputs": [],
   "source": [
    "dictionary={'Monday':4,'Tuesday':6,'Wednesday':3,'Thursday':7,'Friday':2,'Saturday':1,'Sunday':5}"
   ]
  },
  {
   "cell_type": "code",
   "execution_count": 32,
   "metadata": {},
   "outputs": [
    {
     "data": {
      "text/plain": [
       "{'Monday': 4,\n",
       " 'Tuesday': 6,\n",
       " 'Wednesday': 3,\n",
       " 'Thursday': 7,\n",
       " 'Friday': 2,\n",
       " 'Saturday': 1,\n",
       " 'Sunday': 5}"
      ]
     },
     "execution_count": 32,
     "metadata": {},
     "output_type": "execute_result"
    }
   ],
   "source": [
    "dictionary"
   ]
  },
  {
   "cell_type": "code",
   "execution_count": 33,
   "metadata": {},
   "outputs": [],
   "source": [
    "df_train['weekday_ordinal']=df_train['weekday'].map(dictionary)"
   ]
  },
  {
   "cell_type": "code",
   "execution_count": 34,
   "metadata": {},
   "outputs": [],
   "source": [
    "df_test['weekday_ordinal']=df_test['weekday'].map(dictionary)"
   ]
  },
  {
   "cell_type": "code",
   "execution_count": 35,
   "metadata": {},
   "outputs": [
    {
     "data": {
      "text/html": [
       "<div>\n",
       "<style scoped>\n",
       "    .dataframe tbody tr th:only-of-type {\n",
       "        vertical-align: middle;\n",
       "    }\n",
       "\n",
       "    .dataframe tbody tr th {\n",
       "        vertical-align: top;\n",
       "    }\n",
       "\n",
       "    .dataframe thead th {\n",
       "        text-align: right;\n",
       "    }\n",
       "</style>\n",
       "<table border=\"1\" class=\"dataframe\">\n",
       "  <thead>\n",
       "    <tr style=\"text-align: right;\">\n",
       "      <th></th>\n",
       "      <th>InvoiceNo</th>\n",
       "      <th>StockCode</th>\n",
       "      <th>Description</th>\n",
       "      <th>Quantity</th>\n",
       "      <th>InvoiceDate</th>\n",
       "      <th>UnitPrice</th>\n",
       "      <th>CustomerID</th>\n",
       "      <th>Country</th>\n",
       "      <th>Invoice_Stock_Description</th>\n",
       "      <th>InvoiceAge</th>\n",
       "      <th>weekday</th>\n",
       "      <th>weekday_ordinal</th>\n",
       "    </tr>\n",
       "  </thead>\n",
       "  <tbody>\n",
       "    <tr>\n",
       "      <th>0</th>\n",
       "      <td>6141</td>\n",
       "      <td>1583</td>\n",
       "      <td>144</td>\n",
       "      <td>3</td>\n",
       "      <td>2011-06-05</td>\n",
       "      <td>3.75</td>\n",
       "      <td>14056</td>\n",
       "      <td>35</td>\n",
       "      <td>1399853232</td>\n",
       "      <td>9.465182</td>\n",
       "      <td>Sunday</td>\n",
       "      <td>5</td>\n",
       "    </tr>\n",
       "    <tr>\n",
       "      <th>1</th>\n",
       "      <td>6349</td>\n",
       "      <td>1300</td>\n",
       "      <td>3682</td>\n",
       "      <td>6</td>\n",
       "      <td>2011-11-05</td>\n",
       "      <td>1.95</td>\n",
       "      <td>13098</td>\n",
       "      <td>35</td>\n",
       "      <td>30390123400</td>\n",
       "      <td>9.046282</td>\n",
       "      <td>Saturday</td>\n",
       "      <td>1</td>\n",
       "    </tr>\n",
       "    <tr>\n",
       "      <th>2</th>\n",
       "      <td>16783</td>\n",
       "      <td>2178</td>\n",
       "      <td>1939</td>\n",
       "      <td>4</td>\n",
       "      <td>2011-11-20</td>\n",
       "      <td>5.95</td>\n",
       "      <td>15044</td>\n",
       "      <td>35</td>\n",
       "      <td>70876992186</td>\n",
       "      <td>9.005213</td>\n",
       "      <td>Sunday</td>\n",
       "      <td>5</td>\n",
       "    </tr>\n",
       "    <tr>\n",
       "      <th>3</th>\n",
       "      <td>16971</td>\n",
       "      <td>2115</td>\n",
       "      <td>2983</td>\n",
       "      <td>1</td>\n",
       "      <td>2011-11-22</td>\n",
       "      <td>0.83</td>\n",
       "      <td>15525</td>\n",
       "      <td>35</td>\n",
       "      <td>107070802695</td>\n",
       "      <td>8.999737</td>\n",
       "      <td>Tuesday</td>\n",
       "      <td>6</td>\n",
       "    </tr>\n",
       "    <tr>\n",
       "      <th>4</th>\n",
       "      <td>6080</td>\n",
       "      <td>1210</td>\n",
       "      <td>2886</td>\n",
       "      <td>12</td>\n",
       "      <td>2011-06-05</td>\n",
       "      <td>1.65</td>\n",
       "      <td>13952</td>\n",
       "      <td>35</td>\n",
       "      <td>21231724800</td>\n",
       "      <td>9.465182</td>\n",
       "      <td>Sunday</td>\n",
       "      <td>5</td>\n",
       "    </tr>\n",
       "  </tbody>\n",
       "</table>\n",
       "</div>"
      ],
      "text/plain": [
       "   InvoiceNo  StockCode  Description  Quantity InvoiceDate  UnitPrice  \\\n",
       "0       6141       1583          144         3  2011-06-05       3.75   \n",
       "1       6349       1300         3682         6  2011-11-05       1.95   \n",
       "2      16783       2178         1939         4  2011-11-20       5.95   \n",
       "3      16971       2115         2983         1  2011-11-22       0.83   \n",
       "4       6080       1210         2886        12  2011-06-05       1.65   \n",
       "\n",
       "   CustomerID  Country  Invoice_Stock_Description  InvoiceAge   weekday  \\\n",
       "0       14056       35                 1399853232    9.465182    Sunday   \n",
       "1       13098       35                30390123400    9.046282  Saturday   \n",
       "2       15044       35                70876992186    9.005213    Sunday   \n",
       "3       15525       35               107070802695    8.999737   Tuesday   \n",
       "4       13952       35                21231724800    9.465182    Sunday   \n",
       "\n",
       "   weekday_ordinal  \n",
       "0                5  \n",
       "1                1  \n",
       "2                5  \n",
       "3                6  \n",
       "4                5  "
      ]
     },
     "execution_count": 35,
     "metadata": {},
     "output_type": "execute_result"
    }
   ],
   "source": [
    "df_train.head()"
   ]
  },
  {
   "cell_type": "markdown",
   "metadata": {},
   "source": [
    "###  Changing the country column to factor"
   ]
  },
  {
   "cell_type": "code",
   "execution_count": 36,
   "metadata": {},
   "outputs": [],
   "source": [
    "df_train['Country'] = df_train['Country'].astype(object)"
   ]
  },
  {
   "cell_type": "code",
   "execution_count": 37,
   "metadata": {},
   "outputs": [],
   "source": [
    "df_test['Country'] = df_test['Country'].astype(object)"
   ]
  },
  {
   "cell_type": "code",
   "execution_count": 38,
   "metadata": {},
   "outputs": [
    {
     "name": "stdout",
     "output_type": "stream",
     "text": [
      "InvoiceNo : 20971 labels\n",
      "StockCode : 3619 labels\n",
      "Description : 3819 labels\n",
      "Quantity : 373 labels\n",
      "InvoiceDate : 305 labels\n",
      "UnitPrice : 524 labels\n",
      "CustomerID : 4339 labels\n",
      "Country : 37 labels\n",
      "Invoice_Stock_Description : 279526 labels\n",
      "InvoiceAge : 305 labels\n",
      "weekday : 7 labels\n",
      "weekday_ordinal : 7 labels\n"
     ]
    }
   ],
   "source": [
    "for feature in df_train.columns[:]:\n",
    "    print(feature,\":\",len(df_train[feature].unique()),'labels')"
   ]
  },
  {
   "cell_type": "code",
   "execution_count": 39,
   "metadata": {},
   "outputs": [
    {
     "name": "stdout",
     "output_type": "stream",
     "text": [
      "InvoiceNo : 18204 labels\n",
      "StockCode : 3410 labels\n",
      "Description : 3563 labels\n",
      "Quantity : 274 labels\n",
      "InvoiceDate : 17029 labels\n",
      "CustomerID : 4226 labels\n",
      "Country : 37 labels\n",
      "Invoice_Stock_Description : 121025 labels\n",
      "InvoiceAge : 17029 labels\n",
      "weekday : 7 labels\n",
      "weekday_ordinal : 7 labels\n"
     ]
    }
   ],
   "source": [
    "for feature in df_test.columns[:]:\n",
    "    print(feature,\":\",len(df_test[feature].unique()),'labels')"
   ]
  },
  {
   "cell_type": "code",
   "execution_count": 41,
   "metadata": {},
   "outputs": [
    {
     "data": {
      "text/plain": [
       "{35: 253253,\n",
       " 14: 6653,\n",
       " 13: 5946,\n",
       " 10: 5244,\n",
       " 30: 1776,\n",
       " 23: 1680,\n",
       " 3: 1435,\n",
       " 32: 1293,\n",
       " 26: 1049,\n",
       " 0: 883,\n",
       " 24: 766,\n",
       " 18: 561,\n",
       " 6: 537,\n",
       " 12: 489,\n",
       " 7: 424,\n",
       " 31: 325,\n",
       " 1: 303,\n",
       " 9: 273,\n",
       " 25: 244,\n",
       " 19: 238,\n",
       " 33: 210,\n",
       " 17: 185,\n",
       " 36: 171,\n",
       " 29: 152,\n",
       " 16: 132,\n",
       " 5: 106,\n",
       " 15: 101,\n",
       " 22: 89,\n",
       " 34: 52,\n",
       " 27: 47,\n",
       " 11: 40,\n",
       " 20: 34,\n",
       " 8: 26,\n",
       " 21: 25,\n",
       " 4: 20,\n",
       " 2: 10,\n",
       " 28: 8}"
      ]
     },
     "execution_count": 41,
     "metadata": {},
     "output_type": "execute_result"
    }
   ],
   "source": [
    "country_map=df_train['Country'].value_counts().to_dict()\n",
    "country_map"
   ]
  },
  {
   "cell_type": "markdown",
   "metadata": {},
   "source": [
    "#### Frequency encoding of country"
   ]
  },
  {
   "cell_type": "code",
   "execution_count": 42,
   "metadata": {},
   "outputs": [
    {
     "data": {
      "text/html": [
       "<div>\n",
       "<style scoped>\n",
       "    .dataframe tbody tr th:only-of-type {\n",
       "        vertical-align: middle;\n",
       "    }\n",
       "\n",
       "    .dataframe tbody tr th {\n",
       "        vertical-align: top;\n",
       "    }\n",
       "\n",
       "    .dataframe thead th {\n",
       "        text-align: right;\n",
       "    }\n",
       "</style>\n",
       "<table border=\"1\" class=\"dataframe\">\n",
       "  <thead>\n",
       "    <tr style=\"text-align: right;\">\n",
       "      <th></th>\n",
       "      <th>InvoiceNo</th>\n",
       "      <th>StockCode</th>\n",
       "      <th>Description</th>\n",
       "      <th>Quantity</th>\n",
       "      <th>InvoiceDate</th>\n",
       "      <th>UnitPrice</th>\n",
       "      <th>CustomerID</th>\n",
       "      <th>Country</th>\n",
       "      <th>Invoice_Stock_Description</th>\n",
       "      <th>InvoiceAge</th>\n",
       "      <th>weekday</th>\n",
       "      <th>weekday_ordinal</th>\n",
       "    </tr>\n",
       "  </thead>\n",
       "  <tbody>\n",
       "    <tr>\n",
       "      <th>0</th>\n",
       "      <td>6141</td>\n",
       "      <td>1583</td>\n",
       "      <td>144</td>\n",
       "      <td>3</td>\n",
       "      <td>2011-06-05</td>\n",
       "      <td>3.75</td>\n",
       "      <td>14056</td>\n",
       "      <td>253253</td>\n",
       "      <td>1399853232</td>\n",
       "      <td>9.465182</td>\n",
       "      <td>Sunday</td>\n",
       "      <td>5</td>\n",
       "    </tr>\n",
       "    <tr>\n",
       "      <th>1</th>\n",
       "      <td>6349</td>\n",
       "      <td>1300</td>\n",
       "      <td>3682</td>\n",
       "      <td>6</td>\n",
       "      <td>2011-11-05</td>\n",
       "      <td>1.95</td>\n",
       "      <td>13098</td>\n",
       "      <td>253253</td>\n",
       "      <td>30390123400</td>\n",
       "      <td>9.046282</td>\n",
       "      <td>Saturday</td>\n",
       "      <td>1</td>\n",
       "    </tr>\n",
       "    <tr>\n",
       "      <th>2</th>\n",
       "      <td>16783</td>\n",
       "      <td>2178</td>\n",
       "      <td>1939</td>\n",
       "      <td>4</td>\n",
       "      <td>2011-11-20</td>\n",
       "      <td>5.95</td>\n",
       "      <td>15044</td>\n",
       "      <td>253253</td>\n",
       "      <td>70876992186</td>\n",
       "      <td>9.005213</td>\n",
       "      <td>Sunday</td>\n",
       "      <td>5</td>\n",
       "    </tr>\n",
       "    <tr>\n",
       "      <th>3</th>\n",
       "      <td>16971</td>\n",
       "      <td>2115</td>\n",
       "      <td>2983</td>\n",
       "      <td>1</td>\n",
       "      <td>2011-11-22</td>\n",
       "      <td>0.83</td>\n",
       "      <td>15525</td>\n",
       "      <td>253253</td>\n",
       "      <td>107070802695</td>\n",
       "      <td>8.999737</td>\n",
       "      <td>Tuesday</td>\n",
       "      <td>6</td>\n",
       "    </tr>\n",
       "    <tr>\n",
       "      <th>4</th>\n",
       "      <td>6080</td>\n",
       "      <td>1210</td>\n",
       "      <td>2886</td>\n",
       "      <td>12</td>\n",
       "      <td>2011-06-05</td>\n",
       "      <td>1.65</td>\n",
       "      <td>13952</td>\n",
       "      <td>253253</td>\n",
       "      <td>21231724800</td>\n",
       "      <td>9.465182</td>\n",
       "      <td>Sunday</td>\n",
       "      <td>5</td>\n",
       "    </tr>\n",
       "    <tr>\n",
       "      <th>5</th>\n",
       "      <td>17388</td>\n",
       "      <td>495</td>\n",
       "      <td>3247</td>\n",
       "      <td>5</td>\n",
       "      <td>2011-11-27</td>\n",
       "      <td>1.65</td>\n",
       "      <td>15351</td>\n",
       "      <td>253253</td>\n",
       "      <td>27947123820</td>\n",
       "      <td>8.986048</td>\n",
       "      <td>Sunday</td>\n",
       "      <td>5</td>\n",
       "    </tr>\n",
       "    <tr>\n",
       "      <th>6</th>\n",
       "      <td>18494</td>\n",
       "      <td>165</td>\n",
       "      <td>3377</td>\n",
       "      <td>1</td>\n",
       "      <td>2011-08-12</td>\n",
       "      <td>1.25</td>\n",
       "      <td>12748</td>\n",
       "      <td>253253</td>\n",
       "      <td>10304949270</td>\n",
       "      <td>9.279004</td>\n",
       "      <td>Friday</td>\n",
       "      <td>2</td>\n",
       "    </tr>\n",
       "    <tr>\n",
       "      <th>7</th>\n",
       "      <td>17109</td>\n",
       "      <td>2597</td>\n",
       "      <td>3435</td>\n",
       "      <td>1</td>\n",
       "      <td>2011-11-23</td>\n",
       "      <td>1.25</td>\n",
       "      <td>16255</td>\n",
       "      <td>253253</td>\n",
       "      <td>152624170755</td>\n",
       "      <td>8.996999</td>\n",
       "      <td>Wednesday</td>\n",
       "      <td>3</td>\n",
       "    </tr>\n",
       "    <tr>\n",
       "      <th>8</th>\n",
       "      <td>17143</td>\n",
       "      <td>1945</td>\n",
       "      <td>2352</td>\n",
       "      <td>1</td>\n",
       "      <td>2011-11-23</td>\n",
       "      <td>5.75</td>\n",
       "      <td>17841</td>\n",
       "      <td>253253</td>\n",
       "      <td>78423053520</td>\n",
       "      <td>8.996999</td>\n",
       "      <td>Wednesday</td>\n",
       "      <td>3</td>\n",
       "    </tr>\n",
       "    <tr>\n",
       "      <th>9</th>\n",
       "      <td>8422</td>\n",
       "      <td>3311</td>\n",
       "      <td>2502</td>\n",
       "      <td>6</td>\n",
       "      <td>2011-06-22</td>\n",
       "      <td>2.95</td>\n",
       "      <td>13849</td>\n",
       "      <td>253253</td>\n",
       "      <td>69768875484</td>\n",
       "      <td>9.418637</td>\n",
       "      <td>Wednesday</td>\n",
       "      <td>3</td>\n",
       "    </tr>\n",
       "  </tbody>\n",
       "</table>\n",
       "</div>"
      ],
      "text/plain": [
       "   InvoiceNo  StockCode  Description  Quantity InvoiceDate  UnitPrice  \\\n",
       "0       6141       1583          144         3  2011-06-05       3.75   \n",
       "1       6349       1300         3682         6  2011-11-05       1.95   \n",
       "2      16783       2178         1939         4  2011-11-20       5.95   \n",
       "3      16971       2115         2983         1  2011-11-22       0.83   \n",
       "4       6080       1210         2886        12  2011-06-05       1.65   \n",
       "5      17388        495         3247         5  2011-11-27       1.65   \n",
       "6      18494        165         3377         1  2011-08-12       1.25   \n",
       "7      17109       2597         3435         1  2011-11-23       1.25   \n",
       "8      17143       1945         2352         1  2011-11-23       5.75   \n",
       "9       8422       3311         2502         6  2011-06-22       2.95   \n",
       "\n",
       "   CustomerID  Country  Invoice_Stock_Description  InvoiceAge    weekday  \\\n",
       "0       14056   253253                 1399853232    9.465182     Sunday   \n",
       "1       13098   253253                30390123400    9.046282   Saturday   \n",
       "2       15044   253253                70876992186    9.005213     Sunday   \n",
       "3       15525   253253               107070802695    8.999737    Tuesday   \n",
       "4       13952   253253                21231724800    9.465182     Sunday   \n",
       "5       15351   253253                27947123820    8.986048     Sunday   \n",
       "6       12748   253253                10304949270    9.279004     Friday   \n",
       "7       16255   253253               152624170755    8.996999  Wednesday   \n",
       "8       17841   253253                78423053520    8.996999  Wednesday   \n",
       "9       13849   253253                69768875484    9.418637  Wednesday   \n",
       "\n",
       "   weekday_ordinal  \n",
       "0                5  \n",
       "1                1  \n",
       "2                5  \n",
       "3                6  \n",
       "4                5  \n",
       "5                5  \n",
       "6                2  \n",
       "7                3  \n",
       "8                3  \n",
       "9                3  "
      ]
     },
     "execution_count": 42,
     "metadata": {},
     "output_type": "execute_result"
    }
   ],
   "source": [
    "df_train['Country']=df_train['Country'].map(country_map)\n",
    "df_train.head(10)"
   ]
  },
  {
   "cell_type": "code",
   "execution_count": 43,
   "metadata": {},
   "outputs": [
    {
     "data": {
      "text/html": [
       "<div>\n",
       "<style scoped>\n",
       "    .dataframe tbody tr th:only-of-type {\n",
       "        vertical-align: middle;\n",
       "    }\n",
       "\n",
       "    .dataframe tbody tr th {\n",
       "        vertical-align: top;\n",
       "    }\n",
       "\n",
       "    .dataframe thead th {\n",
       "        text-align: right;\n",
       "    }\n",
       "</style>\n",
       "<table border=\"1\" class=\"dataframe\">\n",
       "  <thead>\n",
       "    <tr style=\"text-align: right;\">\n",
       "      <th></th>\n",
       "      <th>InvoiceNo</th>\n",
       "      <th>StockCode</th>\n",
       "      <th>Description</th>\n",
       "      <th>Quantity</th>\n",
       "      <th>InvoiceDate</th>\n",
       "      <th>CustomerID</th>\n",
       "      <th>Country</th>\n",
       "      <th>Invoice_Stock_Description</th>\n",
       "      <th>InvoiceAge</th>\n",
       "      <th>weekday</th>\n",
       "      <th>weekday_ordinal</th>\n",
       "    </tr>\n",
       "  </thead>\n",
       "  <tbody>\n",
       "    <tr>\n",
       "      <th>0</th>\n",
       "      <td>3139</td>\n",
       "      <td>1709</td>\n",
       "      <td>1079</td>\n",
       "      <td>3</td>\n",
       "      <td>2011-02-22 15:22:00</td>\n",
       "      <td>16161</td>\n",
       "      <td>253253</td>\n",
       "      <td>5788350529</td>\n",
       "      <td>9.745433</td>\n",
       "      <td>Tuesday</td>\n",
       "      <td>6</td>\n",
       "    </tr>\n",
       "    <tr>\n",
       "      <th>1</th>\n",
       "      <td>617</td>\n",
       "      <td>510</td>\n",
       "      <td>3457</td>\n",
       "      <td>1</td>\n",
       "      <td>2010-08-12 12:46:00</td>\n",
       "      <td>17341</td>\n",
       "      <td>253253</td>\n",
       "      <td>1087814190</td>\n",
       "      <td>10.276883</td>\n",
       "      <td>Thursday</td>\n",
       "      <td>7</td>\n",
       "    </tr>\n",
       "    <tr>\n",
       "      <th>2</th>\n",
       "      <td>14653</td>\n",
       "      <td>604</td>\n",
       "      <td>694</td>\n",
       "      <td>36</td>\n",
       "      <td>2011-10-25 13:53:00</td>\n",
       "      <td>15158</td>\n",
       "      <td>253253</td>\n",
       "      <td>6142185928</td>\n",
       "      <td>9.074815</td>\n",
       "      <td>Tuesday</td>\n",
       "      <td>6</td>\n",
       "    </tr>\n",
       "    <tr>\n",
       "      <th>3</th>\n",
       "      <td>8634</td>\n",
       "      <td>1478</td>\n",
       "      <td>3473</td>\n",
       "      <td>2</td>\n",
       "      <td>2011-06-27 12:38:00</td>\n",
       "      <td>16033</td>\n",
       "      <td>253253</td>\n",
       "      <td>44319133596</td>\n",
       "      <td>9.403506</td>\n",
       "      <td>Monday</td>\n",
       "      <td>4</td>\n",
       "    </tr>\n",
       "    <tr>\n",
       "      <th>4</th>\n",
       "      <td>15546</td>\n",
       "      <td>3216</td>\n",
       "      <td>871</td>\n",
       "      <td>1</td>\n",
       "      <td>2011-06-11 16:14:00</td>\n",
       "      <td>15351</td>\n",
       "      <td>253253</td>\n",
       "      <td>43546460256</td>\n",
       "      <td>9.446902</td>\n",
       "      <td>Saturday</td>\n",
       "      <td>1</td>\n",
       "    </tr>\n",
       "    <tr>\n",
       "      <th>5</th>\n",
       "      <td>8348</td>\n",
       "      <td>1817</td>\n",
       "      <td>697</td>\n",
       "      <td>48</td>\n",
       "      <td>2011-06-20 13:27:00</td>\n",
       "      <td>12432</td>\n",
       "      <td>766</td>\n",
       "      <td>10572316252</td>\n",
       "      <td>9.422579</td>\n",
       "      <td>Monday</td>\n",
       "      <td>4</td>\n",
       "    </tr>\n",
       "    <tr>\n",
       "      <th>6</th>\n",
       "      <td>17034</td>\n",
       "      <td>262</td>\n",
       "      <td>3147</td>\n",
       "      <td>18</td>\n",
       "      <td>2011-11-22 16:26:00</td>\n",
       "      <td>13985</td>\n",
       "      <td>253253</td>\n",
       "      <td>14044771476</td>\n",
       "      <td>8.997863</td>\n",
       "      <td>Tuesday</td>\n",
       "      <td>6</td>\n",
       "    </tr>\n",
       "    <tr>\n",
       "      <th>7</th>\n",
       "      <td>3701</td>\n",
       "      <td>1323</td>\n",
       "      <td>2000</td>\n",
       "      <td>7</td>\n",
       "      <td>2011-08-03 17:23:00</td>\n",
       "      <td>14507</td>\n",
       "      <td>253253</td>\n",
       "      <td>9792846000</td>\n",
       "      <td>9.301662</td>\n",
       "      <td>Wednesday</td>\n",
       "      <td>3</td>\n",
       "    </tr>\n",
       "    <tr>\n",
       "      <th>8</th>\n",
       "      <td>16983</td>\n",
       "      <td>2327</td>\n",
       "      <td>1121</td>\n",
       "      <td>6</td>\n",
       "      <td>2011-11-22 12:52:00</td>\n",
       "      <td>15150</td>\n",
       "      <td>253253</td>\n",
       "      <td>44301293361</td>\n",
       "      <td>8.998269</td>\n",
       "      <td>Tuesday</td>\n",
       "      <td>6</td>\n",
       "    </tr>\n",
       "    <tr>\n",
       "      <th>9</th>\n",
       "      <td>14396</td>\n",
       "      <td>2216</td>\n",
       "      <td>1912</td>\n",
       "      <td>4</td>\n",
       "      <td>2011-10-20 13:24:00</td>\n",
       "      <td>14911</td>\n",
       "      <td>5244</td>\n",
       "      <td>60995736832</td>\n",
       "      <td>9.088560</td>\n",
       "      <td>Thursday</td>\n",
       "      <td>7</td>\n",
       "    </tr>\n",
       "  </tbody>\n",
       "</table>\n",
       "</div>"
      ],
      "text/plain": [
       "   InvoiceNo  StockCode  Description  Quantity         InvoiceDate  \\\n",
       "0       3139       1709         1079         3 2011-02-22 15:22:00   \n",
       "1        617        510         3457         1 2010-08-12 12:46:00   \n",
       "2      14653        604          694        36 2011-10-25 13:53:00   \n",
       "3       8634       1478         3473         2 2011-06-27 12:38:00   \n",
       "4      15546       3216          871         1 2011-06-11 16:14:00   \n",
       "5       8348       1817          697        48 2011-06-20 13:27:00   \n",
       "6      17034        262         3147        18 2011-11-22 16:26:00   \n",
       "7       3701       1323         2000         7 2011-08-03 17:23:00   \n",
       "8      16983       2327         1121         6 2011-11-22 12:52:00   \n",
       "9      14396       2216         1912         4 2011-10-20 13:24:00   \n",
       "\n",
       "   CustomerID  Country  Invoice_Stock_Description  InvoiceAge    weekday  \\\n",
       "0       16161   253253                 5788350529    9.745433    Tuesday   \n",
       "1       17341   253253                 1087814190   10.276883   Thursday   \n",
       "2       15158   253253                 6142185928    9.074815    Tuesday   \n",
       "3       16033   253253                44319133596    9.403506     Monday   \n",
       "4       15351   253253                43546460256    9.446902   Saturday   \n",
       "5       12432      766                10572316252    9.422579     Monday   \n",
       "6       13985   253253                14044771476    8.997863    Tuesday   \n",
       "7       14507   253253                 9792846000    9.301662  Wednesday   \n",
       "8       15150   253253                44301293361    8.998269    Tuesday   \n",
       "9       14911     5244                60995736832    9.088560   Thursday   \n",
       "\n",
       "   weekday_ordinal  \n",
       "0                6  \n",
       "1                7  \n",
       "2                6  \n",
       "3                4  \n",
       "4                1  \n",
       "5                4  \n",
       "6                6  \n",
       "7                3  \n",
       "8                6  \n",
       "9                7  "
      ]
     },
     "execution_count": 43,
     "metadata": {},
     "output_type": "execute_result"
    }
   ],
   "source": [
    "df_test['Country']=df_test['Country'].map(country_map)\n",
    "df_test.head(10)"
   ]
  },
  {
   "cell_type": "code",
   "execution_count": 46,
   "metadata": {},
   "outputs": [],
   "source": [
    "customerid_map=df_train['CustomerID'].value_counts().to_dict()\n",
    "InvoiceNo_map=df_train['InvoiceNo'].value_counts().to_dict()\n",
    "StockCode_map=df_train['StockCode'].value_counts().to_dict()\n",
    "Quantity_map=df_train['Quantity'].value_counts().to_dict()\n",
    "InvoiceDate_map=df_train['InvoiceDate'].value_counts().to_dict()"
   ]
  },
  {
   "cell_type": "code",
   "execution_count": 47,
   "metadata": {},
   "outputs": [],
   "source": [
    "customerid_map_test=df_test['CustomerID'].value_counts().to_dict()\n",
    "InvoiceNo_map_test=df_test['InvoiceNo'].value_counts().to_dict()\n",
    "StockCode_map_test=df_test['StockCode'].value_counts().to_dict()\n",
    "Quantity_map_test=df_test['Quantity'].value_counts().to_dict()\n",
    "InvoiceDate_map_test=df_test['InvoiceDate'].value_counts().to_dict()"
   ]
  },
  {
   "cell_type": "code",
   "execution_count": 48,
   "metadata": {},
   "outputs": [],
   "source": [
    "df_train['CustomerID_freq']=df_train['CustomerID'].map(customerid_map)\n",
    "df_train['InvoiceNo_freq']=df_train['InvoiceNo'].map(InvoiceNo_map)\n",
    "df_train['StockCode_freq']=df_train['StockCode'].map(StockCode_map)\n",
    "df_train['Quantity_freq']=df_train['Quantity'].map(Quantity_map)\n",
    "df_train['InvoiceDate_freq']=df_train['InvoiceDate'].map(InvoiceDate_map)"
   ]
  },
  {
   "cell_type": "code",
   "execution_count": 49,
   "metadata": {},
   "outputs": [],
   "source": [
    "df_test['CustomerID_freq']=df_test['CustomerID'].map(customerid_map_test)\n",
    "df_test['InvoiceNo_freq']=df_test['InvoiceNo'].map(InvoiceNo_map_test)\n",
    "df_test['StockCode_freq']=df_test['StockCode'].map(StockCode_map_test)\n",
    "df_test['Quantity_freq']=df_test['Quantity'].map(Quantity_map_test)\n",
    "df_test['InvoiceDate_freq']=df_test['InvoiceDate'].map(InvoiceDate_map_test)"
   ]
  },
  {
   "cell_type": "code",
   "execution_count": 50,
   "metadata": {},
   "outputs": [
    {
     "data": {
      "text/html": [
       "<div>\n",
       "<style scoped>\n",
       "    .dataframe tbody tr th:only-of-type {\n",
       "        vertical-align: middle;\n",
       "    }\n",
       "\n",
       "    .dataframe tbody tr th {\n",
       "        vertical-align: top;\n",
       "    }\n",
       "\n",
       "    .dataframe thead th {\n",
       "        text-align: right;\n",
       "    }\n",
       "</style>\n",
       "<table border=\"1\" class=\"dataframe\">\n",
       "  <thead>\n",
       "    <tr style=\"text-align: right;\">\n",
       "      <th></th>\n",
       "      <th>InvoiceNo</th>\n",
       "      <th>StockCode</th>\n",
       "      <th>Description</th>\n",
       "      <th>Quantity</th>\n",
       "      <th>InvoiceDate</th>\n",
       "      <th>UnitPrice</th>\n",
       "      <th>CustomerID</th>\n",
       "      <th>Country</th>\n",
       "      <th>Invoice_Stock_Description</th>\n",
       "      <th>InvoiceAge</th>\n",
       "      <th>weekday</th>\n",
       "      <th>weekday_ordinal</th>\n",
       "      <th>CustomerID_freq</th>\n",
       "      <th>InvoiceNo_freq</th>\n",
       "      <th>StockCode_freq</th>\n",
       "      <th>Quantity_freq</th>\n",
       "      <th>InvoiceDate_freq</th>\n",
       "    </tr>\n",
       "  </thead>\n",
       "  <tbody>\n",
       "    <tr>\n",
       "      <th>0</th>\n",
       "      <td>6141</td>\n",
       "      <td>1583</td>\n",
       "      <td>144</td>\n",
       "      <td>3</td>\n",
       "      <td>2011-06-05</td>\n",
       "      <td>3.75</td>\n",
       "      <td>14056</td>\n",
       "      <td>253253</td>\n",
       "      <td>1399853232</td>\n",
       "      <td>9.465182</td>\n",
       "      <td>Sunday</td>\n",
       "      <td>5</td>\n",
       "      <td>791</td>\n",
       "      <td>34</td>\n",
       "      <td>331</td>\n",
       "      <td>18794</td>\n",
       "      <td>901</td>\n",
       "    </tr>\n",
       "    <tr>\n",
       "      <th>1</th>\n",
       "      <td>6349</td>\n",
       "      <td>1300</td>\n",
       "      <td>3682</td>\n",
       "      <td>6</td>\n",
       "      <td>2011-11-05</td>\n",
       "      <td>1.95</td>\n",
       "      <td>13098</td>\n",
       "      <td>253253</td>\n",
       "      <td>30390123400</td>\n",
       "      <td>9.046282</td>\n",
       "      <td>Saturday</td>\n",
       "      <td>1</td>\n",
       "      <td>394</td>\n",
       "      <td>27</td>\n",
       "      <td>194</td>\n",
       "      <td>26375</td>\n",
       "      <td>1030</td>\n",
       "    </tr>\n",
       "    <tr>\n",
       "      <th>2</th>\n",
       "      <td>16783</td>\n",
       "      <td>2178</td>\n",
       "      <td>1939</td>\n",
       "      <td>4</td>\n",
       "      <td>2011-11-20</td>\n",
       "      <td>5.95</td>\n",
       "      <td>15044</td>\n",
       "      <td>253253</td>\n",
       "      <td>70876992186</td>\n",
       "      <td>9.005213</td>\n",
       "      <td>Sunday</td>\n",
       "      <td>5</td>\n",
       "      <td>307</td>\n",
       "      <td>41</td>\n",
       "      <td>317</td>\n",
       "      <td>22609</td>\n",
       "      <td>2190</td>\n",
       "    </tr>\n",
       "    <tr>\n",
       "      <th>3</th>\n",
       "      <td>16971</td>\n",
       "      <td>2115</td>\n",
       "      <td>2983</td>\n",
       "      <td>1</td>\n",
       "      <td>2011-11-22</td>\n",
       "      <td>0.83</td>\n",
       "      <td>15525</td>\n",
       "      <td>253253</td>\n",
       "      <td>107070802695</td>\n",
       "      <td>8.999737</td>\n",
       "      <td>Tuesday</td>\n",
       "      <td>6</td>\n",
       "      <td>128</td>\n",
       "      <td>28</td>\n",
       "      <td>328</td>\n",
       "      <td>51253</td>\n",
       "      <td>1999</td>\n",
       "    </tr>\n",
       "    <tr>\n",
       "      <th>4</th>\n",
       "      <td>6080</td>\n",
       "      <td>1210</td>\n",
       "      <td>2886</td>\n",
       "      <td>12</td>\n",
       "      <td>2011-06-05</td>\n",
       "      <td>1.65</td>\n",
       "      <td>13952</td>\n",
       "      <td>253253</td>\n",
       "      <td>21231724800</td>\n",
       "      <td>9.465182</td>\n",
       "      <td>Sunday</td>\n",
       "      <td>5</td>\n",
       "      <td>95</td>\n",
       "      <td>30</td>\n",
       "      <td>114</td>\n",
       "      <td>42076</td>\n",
       "      <td>901</td>\n",
       "    </tr>\n",
       "  </tbody>\n",
       "</table>\n",
       "</div>"
      ],
      "text/plain": [
       "   InvoiceNo  StockCode  Description  Quantity InvoiceDate  UnitPrice  \\\n",
       "0       6141       1583          144         3  2011-06-05       3.75   \n",
       "1       6349       1300         3682         6  2011-11-05       1.95   \n",
       "2      16783       2178         1939         4  2011-11-20       5.95   \n",
       "3      16971       2115         2983         1  2011-11-22       0.83   \n",
       "4       6080       1210         2886        12  2011-06-05       1.65   \n",
       "\n",
       "   CustomerID  Country  Invoice_Stock_Description  InvoiceAge   weekday  \\\n",
       "0       14056   253253                 1399853232    9.465182    Sunday   \n",
       "1       13098   253253                30390123400    9.046282  Saturday   \n",
       "2       15044   253253                70876992186    9.005213    Sunday   \n",
       "3       15525   253253               107070802695    8.999737   Tuesday   \n",
       "4       13952   253253                21231724800    9.465182    Sunday   \n",
       "\n",
       "   weekday_ordinal  CustomerID_freq  InvoiceNo_freq  StockCode_freq  \\\n",
       "0                5              791              34             331   \n",
       "1                1              394              27             194   \n",
       "2                5              307              41             317   \n",
       "3                6              128              28             328   \n",
       "4                5               95              30             114   \n",
       "\n",
       "   Quantity_freq  InvoiceDate_freq  \n",
       "0          18794               901  \n",
       "1          26375              1030  \n",
       "2          22609              2190  \n",
       "3          51253              1999  \n",
       "4          42076               901  "
      ]
     },
     "execution_count": 50,
     "metadata": {},
     "output_type": "execute_result"
    }
   ],
   "source": [
    "df_train.head(5)"
   ]
  },
  {
   "cell_type": "code",
   "execution_count": 51,
   "metadata": {},
   "outputs": [
    {
     "data": {
      "text/html": [
       "<div>\n",
       "<style scoped>\n",
       "    .dataframe tbody tr th:only-of-type {\n",
       "        vertical-align: middle;\n",
       "    }\n",
       "\n",
       "    .dataframe tbody tr th {\n",
       "        vertical-align: top;\n",
       "    }\n",
       "\n",
       "    .dataframe thead th {\n",
       "        text-align: right;\n",
       "    }\n",
       "</style>\n",
       "<table border=\"1\" class=\"dataframe\">\n",
       "  <thead>\n",
       "    <tr style=\"text-align: right;\">\n",
       "      <th></th>\n",
       "      <th>InvoiceNo</th>\n",
       "      <th>StockCode</th>\n",
       "      <th>Description</th>\n",
       "      <th>Quantity</th>\n",
       "      <th>InvoiceDate</th>\n",
       "      <th>CustomerID</th>\n",
       "      <th>Country</th>\n",
       "      <th>Invoice_Stock_Description</th>\n",
       "      <th>InvoiceAge</th>\n",
       "      <th>weekday</th>\n",
       "      <th>weekday_ordinal</th>\n",
       "      <th>CustomerID_freq</th>\n",
       "      <th>InvoiceNo_freq</th>\n",
       "      <th>StockCode_freq</th>\n",
       "      <th>Quantity_freq</th>\n",
       "      <th>InvoiceDate_freq</th>\n",
       "    </tr>\n",
       "  </thead>\n",
       "  <tbody>\n",
       "    <tr>\n",
       "      <th>0</th>\n",
       "      <td>3139</td>\n",
       "      <td>1709</td>\n",
       "      <td>1079</td>\n",
       "      <td>3</td>\n",
       "      <td>2011-02-22 15:22:00</td>\n",
       "      <td>16161</td>\n",
       "      <td>253253</td>\n",
       "      <td>5788350529</td>\n",
       "      <td>9.745433</td>\n",
       "      <td>Tuesday</td>\n",
       "      <td>6</td>\n",
       "      <td>151</td>\n",
       "      <td>11</td>\n",
       "      <td>14</td>\n",
       "      <td>8154</td>\n",
       "      <td>12</td>\n",
       "    </tr>\n",
       "    <tr>\n",
       "      <th>1</th>\n",
       "      <td>617</td>\n",
       "      <td>510</td>\n",
       "      <td>3457</td>\n",
       "      <td>1</td>\n",
       "      <td>2010-08-12 12:46:00</td>\n",
       "      <td>17341</td>\n",
       "      <td>253253</td>\n",
       "      <td>1087814190</td>\n",
       "      <td>10.276883</td>\n",
       "      <td>Thursday</td>\n",
       "      <td>7</td>\n",
       "      <td>45</td>\n",
       "      <td>38</td>\n",
       "      <td>17</td>\n",
       "      <td>22061</td>\n",
       "      <td>38</td>\n",
       "    </tr>\n",
       "    <tr>\n",
       "      <th>2</th>\n",
       "      <td>14653</td>\n",
       "      <td>604</td>\n",
       "      <td>694</td>\n",
       "      <td>36</td>\n",
       "      <td>2011-10-25 13:53:00</td>\n",
       "      <td>15158</td>\n",
       "      <td>253253</td>\n",
       "      <td>6142185928</td>\n",
       "      <td>9.074815</td>\n",
       "      <td>Tuesday</td>\n",
       "      <td>6</td>\n",
       "      <td>4</td>\n",
       "      <td>4</td>\n",
       "      <td>99</td>\n",
       "      <td>1160</td>\n",
       "      <td>4</td>\n",
       "    </tr>\n",
       "    <tr>\n",
       "      <th>3</th>\n",
       "      <td>8634</td>\n",
       "      <td>1478</td>\n",
       "      <td>3473</td>\n",
       "      <td>2</td>\n",
       "      <td>2011-06-27 12:38:00</td>\n",
       "      <td>16033</td>\n",
       "      <td>253253</td>\n",
       "      <td>44319133596</td>\n",
       "      <td>9.403506</td>\n",
       "      <td>Monday</td>\n",
       "      <td>4</td>\n",
       "      <td>342</td>\n",
       "      <td>24</td>\n",
       "      <td>156</td>\n",
       "      <td>17282</td>\n",
       "      <td>24</td>\n",
       "    </tr>\n",
       "    <tr>\n",
       "      <th>4</th>\n",
       "      <td>15546</td>\n",
       "      <td>3216</td>\n",
       "      <td>871</td>\n",
       "      <td>1</td>\n",
       "      <td>2011-06-11 16:14:00</td>\n",
       "      <td>15351</td>\n",
       "      <td>253253</td>\n",
       "      <td>43546460256</td>\n",
       "      <td>9.446902</td>\n",
       "      <td>Saturday</td>\n",
       "      <td>1</td>\n",
       "      <td>66</td>\n",
       "      <td>8</td>\n",
       "      <td>146</td>\n",
       "      <td>22061</td>\n",
       "      <td>8</td>\n",
       "    </tr>\n",
       "  </tbody>\n",
       "</table>\n",
       "</div>"
      ],
      "text/plain": [
       "   InvoiceNo  StockCode  Description  Quantity         InvoiceDate  \\\n",
       "0       3139       1709         1079         3 2011-02-22 15:22:00   \n",
       "1        617        510         3457         1 2010-08-12 12:46:00   \n",
       "2      14653        604          694        36 2011-10-25 13:53:00   \n",
       "3       8634       1478         3473         2 2011-06-27 12:38:00   \n",
       "4      15546       3216          871         1 2011-06-11 16:14:00   \n",
       "\n",
       "   CustomerID  Country  Invoice_Stock_Description  InvoiceAge   weekday  \\\n",
       "0       16161   253253                 5788350529    9.745433   Tuesday   \n",
       "1       17341   253253                 1087814190   10.276883  Thursday   \n",
       "2       15158   253253                 6142185928    9.074815   Tuesday   \n",
       "3       16033   253253                44319133596    9.403506    Monday   \n",
       "4       15351   253253                43546460256    9.446902  Saturday   \n",
       "\n",
       "   weekday_ordinal  CustomerID_freq  InvoiceNo_freq  StockCode_freq  \\\n",
       "0                6              151              11              14   \n",
       "1                7               45              38              17   \n",
       "2                6                4               4              99   \n",
       "3                4              342              24             156   \n",
       "4                1               66               8             146   \n",
       "\n",
       "   Quantity_freq  InvoiceDate_freq  \n",
       "0           8154                12  \n",
       "1          22061                38  \n",
       "2           1160                 4  \n",
       "3          17282                24  \n",
       "4          22061                 8  "
      ]
     },
     "execution_count": 51,
     "metadata": {},
     "output_type": "execute_result"
    }
   ],
   "source": [
    "df_test.head()"
   ]
  },
  {
   "cell_type": "markdown",
   "metadata": {},
   "source": [
    "### Mean Encoding"
   ]
  },
  {
   "cell_type": "code",
   "execution_count": 52,
   "metadata": {},
   "outputs": [],
   "source": [
    "mean_Country_ordinal=df_train.groupby(['Country'])['UnitPrice'].mean().to_dict()"
   ]
  },
  {
   "cell_type": "code",
   "execution_count": 53,
   "metadata": {},
   "outputs": [
    {
     "data": {
      "text/plain": [
       "{8: 1.95875,\n",
       " 10: 4.389999999999999,\n",
       " 20: 4.413,\n",
       " 25: 2.8256000000000006,\n",
       " 26: 2.955769230769231,\n",
       " 34: 6.126470588235294,\n",
       " 40: 4.676249999999998,\n",
       " 47: 4.5457446808510635,\n",
       " 52: 3.108269230769231,\n",
       " 89: 5.6752808988764,\n",
       " 101: 5.622772277227724,\n",
       " 106: 2.231603773584905,\n",
       " 132: 2.7199242424242436,\n",
       " 152: 108.94243421052639,\n",
       " 171: 3.4243859649122816,\n",
       " 185: 4.1009189189189215,\n",
       " 210: 2.2219999999999978,\n",
       " 238: 2.34373949579832,\n",
       " 244: 4.159426229508205,\n",
       " 273: 3.3117216117216133,\n",
       " 303: 4.387854785478555,\n",
       " 325: 3.800615384615388,\n",
       " 424: 6.366297169811311,\n",
       " 489: 5.6003271983640115,\n",
       " 537: 5.135139664804472,\n",
       " 561: 4.275757575757572,\n",
       " 766: 6.45878590078327,\n",
       " 883: 3.04927519818799,\n",
       " 1049: 8.869094375595788,\n",
       " 1293: 3.405893271461704,\n",
       " 1435: 3.632717770034824,\n",
       " 1680: 2.6441130952380805,\n",
       " 1776: 5.450782657657671,\n",
       " 5244: 4.798705186880368,\n",
       " 5946: 5.6377379751094265,\n",
       " 6653: 3.963541259582226,\n",
       " 253253: 3.239282551438512}"
      ]
     },
     "execution_count": 53,
     "metadata": {},
     "output_type": "execute_result"
    }
   ],
   "source": [
    "mean_Country_ordinal"
   ]
  },
  {
   "cell_type": "code",
   "execution_count": 55,
   "metadata": {},
   "outputs": [
    {
     "data": {
      "text/html": [
       "<div>\n",
       "<style scoped>\n",
       "    .dataframe tbody tr th:only-of-type {\n",
       "        vertical-align: middle;\n",
       "    }\n",
       "\n",
       "    .dataframe tbody tr th {\n",
       "        vertical-align: top;\n",
       "    }\n",
       "\n",
       "    .dataframe thead th {\n",
       "        text-align: right;\n",
       "    }\n",
       "</style>\n",
       "<table border=\"1\" class=\"dataframe\">\n",
       "  <thead>\n",
       "    <tr style=\"text-align: right;\">\n",
       "      <th></th>\n",
       "      <th>InvoiceNo</th>\n",
       "      <th>StockCode</th>\n",
       "      <th>Description</th>\n",
       "      <th>Quantity</th>\n",
       "      <th>InvoiceDate</th>\n",
       "      <th>UnitPrice</th>\n",
       "      <th>CustomerID</th>\n",
       "      <th>Country</th>\n",
       "      <th>Invoice_Stock_Description</th>\n",
       "      <th>InvoiceAge</th>\n",
       "      <th>weekday</th>\n",
       "      <th>weekday_ordinal</th>\n",
       "      <th>CustomerID_freq</th>\n",
       "      <th>InvoiceNo_freq</th>\n",
       "      <th>StockCode_freq</th>\n",
       "      <th>Quantity_freq</th>\n",
       "      <th>InvoiceDate_freq</th>\n",
       "      <th>mean_Country_ordinal_encode</th>\n",
       "    </tr>\n",
       "  </thead>\n",
       "  <tbody>\n",
       "    <tr>\n",
       "      <th>0</th>\n",
       "      <td>6141</td>\n",
       "      <td>1583</td>\n",
       "      <td>144</td>\n",
       "      <td>3</td>\n",
       "      <td>2011-06-05</td>\n",
       "      <td>3.75</td>\n",
       "      <td>14056</td>\n",
       "      <td>253253</td>\n",
       "      <td>1399853232</td>\n",
       "      <td>9.465182</td>\n",
       "      <td>Sunday</td>\n",
       "      <td>5</td>\n",
       "      <td>791</td>\n",
       "      <td>34</td>\n",
       "      <td>331</td>\n",
       "      <td>18794</td>\n",
       "      <td>901</td>\n",
       "      <td>3.239283</td>\n",
       "    </tr>\n",
       "    <tr>\n",
       "      <th>1</th>\n",
       "      <td>6349</td>\n",
       "      <td>1300</td>\n",
       "      <td>3682</td>\n",
       "      <td>6</td>\n",
       "      <td>2011-11-05</td>\n",
       "      <td>1.95</td>\n",
       "      <td>13098</td>\n",
       "      <td>253253</td>\n",
       "      <td>30390123400</td>\n",
       "      <td>9.046282</td>\n",
       "      <td>Saturday</td>\n",
       "      <td>1</td>\n",
       "      <td>394</td>\n",
       "      <td>27</td>\n",
       "      <td>194</td>\n",
       "      <td>26375</td>\n",
       "      <td>1030</td>\n",
       "      <td>3.239283</td>\n",
       "    </tr>\n",
       "    <tr>\n",
       "      <th>2</th>\n",
       "      <td>16783</td>\n",
       "      <td>2178</td>\n",
       "      <td>1939</td>\n",
       "      <td>4</td>\n",
       "      <td>2011-11-20</td>\n",
       "      <td>5.95</td>\n",
       "      <td>15044</td>\n",
       "      <td>253253</td>\n",
       "      <td>70876992186</td>\n",
       "      <td>9.005213</td>\n",
       "      <td>Sunday</td>\n",
       "      <td>5</td>\n",
       "      <td>307</td>\n",
       "      <td>41</td>\n",
       "      <td>317</td>\n",
       "      <td>22609</td>\n",
       "      <td>2190</td>\n",
       "      <td>3.239283</td>\n",
       "    </tr>\n",
       "    <tr>\n",
       "      <th>3</th>\n",
       "      <td>16971</td>\n",
       "      <td>2115</td>\n",
       "      <td>2983</td>\n",
       "      <td>1</td>\n",
       "      <td>2011-11-22</td>\n",
       "      <td>0.83</td>\n",
       "      <td>15525</td>\n",
       "      <td>253253</td>\n",
       "      <td>107070802695</td>\n",
       "      <td>8.999737</td>\n",
       "      <td>Tuesday</td>\n",
       "      <td>6</td>\n",
       "      <td>128</td>\n",
       "      <td>28</td>\n",
       "      <td>328</td>\n",
       "      <td>51253</td>\n",
       "      <td>1999</td>\n",
       "      <td>3.239283</td>\n",
       "    </tr>\n",
       "    <tr>\n",
       "      <th>4</th>\n",
       "      <td>6080</td>\n",
       "      <td>1210</td>\n",
       "      <td>2886</td>\n",
       "      <td>12</td>\n",
       "      <td>2011-06-05</td>\n",
       "      <td>1.65</td>\n",
       "      <td>13952</td>\n",
       "      <td>253253</td>\n",
       "      <td>21231724800</td>\n",
       "      <td>9.465182</td>\n",
       "      <td>Sunday</td>\n",
       "      <td>5</td>\n",
       "      <td>95</td>\n",
       "      <td>30</td>\n",
       "      <td>114</td>\n",
       "      <td>42076</td>\n",
       "      <td>901</td>\n",
       "      <td>3.239283</td>\n",
       "    </tr>\n",
       "  </tbody>\n",
       "</table>\n",
       "</div>"
      ],
      "text/plain": [
       "   InvoiceNo  StockCode  Description  Quantity InvoiceDate  UnitPrice  \\\n",
       "0       6141       1583          144         3  2011-06-05       3.75   \n",
       "1       6349       1300         3682         6  2011-11-05       1.95   \n",
       "2      16783       2178         1939         4  2011-11-20       5.95   \n",
       "3      16971       2115         2983         1  2011-11-22       0.83   \n",
       "4       6080       1210         2886        12  2011-06-05       1.65   \n",
       "\n",
       "   CustomerID  Country  Invoice_Stock_Description  InvoiceAge   weekday  \\\n",
       "0       14056   253253                 1399853232    9.465182    Sunday   \n",
       "1       13098   253253                30390123400    9.046282  Saturday   \n",
       "2       15044   253253                70876992186    9.005213    Sunday   \n",
       "3       15525   253253               107070802695    8.999737   Tuesday   \n",
       "4       13952   253253                21231724800    9.465182    Sunday   \n",
       "\n",
       "   weekday_ordinal  CustomerID_freq  InvoiceNo_freq  StockCode_freq  \\\n",
       "0                5              791              34             331   \n",
       "1                1              394              27             194   \n",
       "2                5              307              41             317   \n",
       "3                6              128              28             328   \n",
       "4                5               95              30             114   \n",
       "\n",
       "   Quantity_freq  InvoiceDate_freq  mean_Country_ordinal_encode  \n",
       "0          18794               901                     3.239283  \n",
       "1          26375              1030                     3.239283  \n",
       "2          22609              2190                     3.239283  \n",
       "3          51253              1999                     3.239283  \n",
       "4          42076               901                     3.239283  "
      ]
     },
     "execution_count": 55,
     "metadata": {},
     "output_type": "execute_result"
    }
   ],
   "source": [
    "df_train['mean_Country_ordinal_encode']=df_train['Country'].map(mean_Country_ordinal)\n",
    "df_train.head()"
   ]
  },
  {
   "cell_type": "code",
   "execution_count": 56,
   "metadata": {},
   "outputs": [],
   "source": [
    "mean_InvoiceNo_ordinal=df_train.groupby(['InvoiceNo'])['UnitPrice'].mean().to_dict()\n",
    "mean_StockCode_ordinal=df_train.groupby(['StockCode'])['UnitPrice'].mean().to_dict()\n",
    "mean_Description_ordinal=df_train.groupby(['Description'])['UnitPrice'].mean().to_dict()\n",
    "mean_InvoiceDate_ordinal=df_train.groupby(['InvoiceDate'])['UnitPrice'].mean().to_dict()\n",
    "mean_CustomerID_ordinal=df_train.groupby(['CustomerID'])['UnitPrice'].mean().to_dict()"
   ]
  },
  {
   "cell_type": "code",
   "execution_count": 81,
   "metadata": {},
   "outputs": [],
   "source": [
    "mean_Invoice_Stock_Description_ordinal=df_train.groupby(['Invoice_Stock_Description'])['UnitPrice'].mean().to_dict()"
   ]
  },
  {
   "cell_type": "code",
   "execution_count": 57,
   "metadata": {},
   "outputs": [],
   "source": [
    "df_train['mean_InvoiceNo_ordinal_encode']=df_train['InvoiceNo'].map(mean_InvoiceNo_ordinal)\n",
    "df_train['mean_StockCode_ordinal_encode']=df_train['StockCode'].map(mean_StockCode_ordinal)\n",
    "df_train['mean_Description_ordinal_encode']=df_train['Description'].map(mean_Description_ordinal)\n",
    "df_train['mean_InvoiceDate_ordinal_encode']=df_train['InvoiceDate'].map(mean_InvoiceDate_ordinal)\n",
    "df_train['mean_CustomerID_ordinal_encode']=df_train['CustomerID'].map(mean_CustomerID_ordinal)"
   ]
  },
  {
   "cell_type": "code",
   "execution_count": 82,
   "metadata": {},
   "outputs": [],
   "source": [
    "df_train['mean_Invoice_Stock_Description_encode']=df_train['Invoice_Stock_Description'].map(mean_Invoice_Stock_Description_ordinal)"
   ]
  },
  {
   "cell_type": "code",
   "execution_count": 83,
   "metadata": {},
   "outputs": [
    {
     "data": {
      "text/html": [
       "<div>\n",
       "<style scoped>\n",
       "    .dataframe tbody tr th:only-of-type {\n",
       "        vertical-align: middle;\n",
       "    }\n",
       "\n",
       "    .dataframe tbody tr th {\n",
       "        vertical-align: top;\n",
       "    }\n",
       "\n",
       "    .dataframe thead th {\n",
       "        text-align: right;\n",
       "    }\n",
       "</style>\n",
       "<table border=\"1\" class=\"dataframe\">\n",
       "  <thead>\n",
       "    <tr style=\"text-align: right;\">\n",
       "      <th></th>\n",
       "      <th>InvoiceNo</th>\n",
       "      <th>StockCode</th>\n",
       "      <th>Description</th>\n",
       "      <th>Quantity</th>\n",
       "      <th>InvoiceDate</th>\n",
       "      <th>UnitPrice</th>\n",
       "      <th>CustomerID</th>\n",
       "      <th>Country</th>\n",
       "      <th>Invoice_Stock_Description</th>\n",
       "      <th>InvoiceAge</th>\n",
       "      <th>...</th>\n",
       "      <th>StockCode_freq</th>\n",
       "      <th>Quantity_freq</th>\n",
       "      <th>InvoiceDate_freq</th>\n",
       "      <th>mean_Country_ordinal_encode</th>\n",
       "      <th>mean_InvoiceNo_ordinal_encode</th>\n",
       "      <th>mean_StockCode_ordinal_encode</th>\n",
       "      <th>mean_Description_ordinal_encode</th>\n",
       "      <th>mean_InvoiceDate_ordinal_encode</th>\n",
       "      <th>mean_CustomerID_ordinal_encode</th>\n",
       "      <th>mean_Invoice_Stock_Description_encode</th>\n",
       "    </tr>\n",
       "  </thead>\n",
       "  <tbody>\n",
       "    <tr>\n",
       "      <th>0</th>\n",
       "      <td>6141</td>\n",
       "      <td>1583</td>\n",
       "      <td>144</td>\n",
       "      <td>3</td>\n",
       "      <td>2011-06-05</td>\n",
       "      <td>3.75</td>\n",
       "      <td>14056</td>\n",
       "      <td>253253</td>\n",
       "      <td>1399853232</td>\n",
       "      <td>9.465182</td>\n",
       "      <td>...</td>\n",
       "      <td>331</td>\n",
       "      <td>18794</td>\n",
       "      <td>901</td>\n",
       "      <td>3.239283</td>\n",
       "      <td>3.241765</td>\n",
       "      <td>3.745770</td>\n",
       "      <td>3.745770</td>\n",
       "      <td>2.939234</td>\n",
       "      <td>2.795714</td>\n",
       "      <td>3.75</td>\n",
       "    </tr>\n",
       "    <tr>\n",
       "      <th>1</th>\n",
       "      <td>6349</td>\n",
       "      <td>1300</td>\n",
       "      <td>3682</td>\n",
       "      <td>6</td>\n",
       "      <td>2011-11-05</td>\n",
       "      <td>1.95</td>\n",
       "      <td>13098</td>\n",
       "      <td>253253</td>\n",
       "      <td>30390123400</td>\n",
       "      <td>9.046282</td>\n",
       "      <td>...</td>\n",
       "      <td>194</td>\n",
       "      <td>26375</td>\n",
       "      <td>1030</td>\n",
       "      <td>3.239283</td>\n",
       "      <td>3.028519</td>\n",
       "      <td>1.972887</td>\n",
       "      <td>1.972887</td>\n",
       "      <td>3.307942</td>\n",
       "      <td>2.917792</td>\n",
       "      <td>1.95</td>\n",
       "    </tr>\n",
       "    <tr>\n",
       "      <th>2</th>\n",
       "      <td>16783</td>\n",
       "      <td>2178</td>\n",
       "      <td>1939</td>\n",
       "      <td>4</td>\n",
       "      <td>2011-11-20</td>\n",
       "      <td>5.95</td>\n",
       "      <td>15044</td>\n",
       "      <td>253253</td>\n",
       "      <td>70876992186</td>\n",
       "      <td>9.005213</td>\n",
       "      <td>...</td>\n",
       "      <td>317</td>\n",
       "      <td>22609</td>\n",
       "      <td>2190</td>\n",
       "      <td>3.239283</td>\n",
       "      <td>3.824634</td>\n",
       "      <td>5.896372</td>\n",
       "      <td>5.896372</td>\n",
       "      <td>2.573858</td>\n",
       "      <td>4.957427</td>\n",
       "      <td>5.95</td>\n",
       "    </tr>\n",
       "    <tr>\n",
       "      <th>3</th>\n",
       "      <td>16971</td>\n",
       "      <td>2115</td>\n",
       "      <td>2983</td>\n",
       "      <td>1</td>\n",
       "      <td>2011-11-22</td>\n",
       "      <td>0.83</td>\n",
       "      <td>15525</td>\n",
       "      <td>253253</td>\n",
       "      <td>107070802695</td>\n",
       "      <td>8.999737</td>\n",
       "      <td>...</td>\n",
       "      <td>328</td>\n",
       "      <td>51253</td>\n",
       "      <td>1999</td>\n",
       "      <td>3.239283</td>\n",
       "      <td>1.532857</td>\n",
       "      <td>0.824970</td>\n",
       "      <td>0.824970</td>\n",
       "      <td>2.756038</td>\n",
       "      <td>2.888281</td>\n",
       "      <td>0.83</td>\n",
       "    </tr>\n",
       "    <tr>\n",
       "      <th>4</th>\n",
       "      <td>6080</td>\n",
       "      <td>1210</td>\n",
       "      <td>2886</td>\n",
       "      <td>12</td>\n",
       "      <td>2011-06-05</td>\n",
       "      <td>1.65</td>\n",
       "      <td>13952</td>\n",
       "      <td>253253</td>\n",
       "      <td>21231724800</td>\n",
       "      <td>9.465182</td>\n",
       "      <td>...</td>\n",
       "      <td>114</td>\n",
       "      <td>42076</td>\n",
       "      <td>901</td>\n",
       "      <td>3.239283</td>\n",
       "      <td>3.426000</td>\n",
       "      <td>1.635965</td>\n",
       "      <td>1.635965</td>\n",
       "      <td>2.939234</td>\n",
       "      <td>3.778221</td>\n",
       "      <td>1.65</td>\n",
       "    </tr>\n",
       "  </tbody>\n",
       "</table>\n",
       "<p>5 rows × 24 columns</p>\n",
       "</div>"
      ],
      "text/plain": [
       "   InvoiceNo  StockCode  Description  Quantity InvoiceDate  UnitPrice  \\\n",
       "0       6141       1583          144         3  2011-06-05       3.75   \n",
       "1       6349       1300         3682         6  2011-11-05       1.95   \n",
       "2      16783       2178         1939         4  2011-11-20       5.95   \n",
       "3      16971       2115         2983         1  2011-11-22       0.83   \n",
       "4       6080       1210         2886        12  2011-06-05       1.65   \n",
       "\n",
       "   CustomerID  Country  Invoice_Stock_Description  InvoiceAge  ...  \\\n",
       "0       14056   253253                 1399853232    9.465182  ...   \n",
       "1       13098   253253                30390123400    9.046282  ...   \n",
       "2       15044   253253                70876992186    9.005213  ...   \n",
       "3       15525   253253               107070802695    8.999737  ...   \n",
       "4       13952   253253                21231724800    9.465182  ...   \n",
       "\n",
       "  StockCode_freq  Quantity_freq  InvoiceDate_freq  \\\n",
       "0            331          18794               901   \n",
       "1            194          26375              1030   \n",
       "2            317          22609              2190   \n",
       "3            328          51253              1999   \n",
       "4            114          42076               901   \n",
       "\n",
       "   mean_Country_ordinal_encode  mean_InvoiceNo_ordinal_encode  \\\n",
       "0                     3.239283                       3.241765   \n",
       "1                     3.239283                       3.028519   \n",
       "2                     3.239283                       3.824634   \n",
       "3                     3.239283                       1.532857   \n",
       "4                     3.239283                       3.426000   \n",
       "\n",
       "   mean_StockCode_ordinal_encode  mean_Description_ordinal_encode  \\\n",
       "0                       3.745770                         3.745770   \n",
       "1                       1.972887                         1.972887   \n",
       "2                       5.896372                         5.896372   \n",
       "3                       0.824970                         0.824970   \n",
       "4                       1.635965                         1.635965   \n",
       "\n",
       "   mean_InvoiceDate_ordinal_encode  mean_CustomerID_ordinal_encode  \\\n",
       "0                         2.939234                        2.795714   \n",
       "1                         3.307942                        2.917792   \n",
       "2                         2.573858                        4.957427   \n",
       "3                         2.756038                        2.888281   \n",
       "4                         2.939234                        3.778221   \n",
       "\n",
       "   mean_Invoice_Stock_Description_encode  \n",
       "0                                   3.75  \n",
       "1                                   1.95  \n",
       "2                                   5.95  \n",
       "3                                   0.83  \n",
       "4                                   1.65  \n",
       "\n",
       "[5 rows x 24 columns]"
      ]
     },
     "execution_count": 83,
     "metadata": {},
     "output_type": "execute_result"
    }
   ],
   "source": [
    "df_train.head()"
   ]
  },
  {
   "cell_type": "code",
   "execution_count": 89,
   "metadata": {},
   "outputs": [
    {
     "data": {
      "text/plain": [
       "InvoiceNo                                0\n",
       "StockCode                                0\n",
       "Description                              0\n",
       "Quantity                                 0\n",
       "InvoiceDate                              0\n",
       "UnitPrice                                0\n",
       "CustomerID                               0\n",
       "Country                                  0\n",
       "Invoice_Stock_Description                0\n",
       "InvoiceAge                               0\n",
       "weekday                                  0\n",
       "weekday_ordinal                          0\n",
       "CustomerID_freq                          0\n",
       "InvoiceNo_freq                           0\n",
       "StockCode_freq                           0\n",
       "Quantity_freq                            0\n",
       "InvoiceDate_freq                         0\n",
       "mean_Country_ordinal_encode              0\n",
       "mean_InvoiceNo_ordinal_encode            0\n",
       "mean_StockCode_ordinal_encode            0\n",
       "mean_Description_ordinal_encode          0\n",
       "mean_InvoiceDate_ordinal_encode          0\n",
       "mean_CustomerID_ordinal_encode           0\n",
       "mean_Invoice_Stock_Description_encode    0\n",
       "dtype: int64"
      ]
     },
     "execution_count": 89,
     "metadata": {},
     "output_type": "execute_result"
    }
   ],
   "source": [
    "df_train.isnull().sum()"
   ]
  },
  {
   "cell_type": "code",
   "execution_count": 76,
   "metadata": {},
   "outputs": [],
   "source": [
    "df_test['mean_InvoiceNo_ordinal_encode']=df_test['InvoiceNo'].map(mean_InvoiceNo_ordinal)\n",
    "df_test['mean_StockCode_ordinal_encode']=df_test['StockCode'].map(mean_StockCode_ordinal)\n",
    "df_test['mean_Description_ordinal_encode']=df_test['Description'].map(mean_Description_ordinal)\n",
    "df_test['mean_InvoiceDate_ordinal_encode']=df_test['InvoiceDate'].map(mean_InvoiceDate_ordinal)\n",
    "df_test['mean_CustomerID_ordinal_encode']=df_test['CustomerID'].map(mean_CustomerID_ordinal)"
   ]
  },
  {
   "cell_type": "code",
   "execution_count": 84,
   "metadata": {},
   "outputs": [],
   "source": [
    "df_test['mean_Invoice_Stock_Description_encode']=df_test['Invoice_Stock_Description'].map(mean_Invoice_Stock_Description_ordinal)"
   ]
  },
  {
   "cell_type": "code",
   "execution_count": 79,
   "metadata": {},
   "outputs": [],
   "source": [
    "df_test['mean_Country_ordinal_encode']=df_test['Country'].map(mean_Country_ordinal)"
   ]
  },
  {
   "cell_type": "code",
   "execution_count": 85,
   "metadata": {},
   "outputs": [
    {
     "data": {
      "text/html": [
       "<div>\n",
       "<style scoped>\n",
       "    .dataframe tbody tr th:only-of-type {\n",
       "        vertical-align: middle;\n",
       "    }\n",
       "\n",
       "    .dataframe tbody tr th {\n",
       "        vertical-align: top;\n",
       "    }\n",
       "\n",
       "    .dataframe thead th {\n",
       "        text-align: right;\n",
       "    }\n",
       "</style>\n",
       "<table border=\"1\" class=\"dataframe\">\n",
       "  <thead>\n",
       "    <tr style=\"text-align: right;\">\n",
       "      <th></th>\n",
       "      <th>InvoiceNo</th>\n",
       "      <th>StockCode</th>\n",
       "      <th>Description</th>\n",
       "      <th>Quantity</th>\n",
       "      <th>InvoiceDate</th>\n",
       "      <th>CustomerID</th>\n",
       "      <th>Country</th>\n",
       "      <th>Invoice_Stock_Description</th>\n",
       "      <th>InvoiceAge</th>\n",
       "      <th>weekday</th>\n",
       "      <th>...</th>\n",
       "      <th>StockCode_freq</th>\n",
       "      <th>Quantity_freq</th>\n",
       "      <th>InvoiceDate_freq</th>\n",
       "      <th>mean_InvoiceNo_ordinal_encode</th>\n",
       "      <th>mean_StockCode_ordinal_encode</th>\n",
       "      <th>mean_Description_ordinal_encode</th>\n",
       "      <th>mean_InvoiceDate_ordinal_encode</th>\n",
       "      <th>mean_CustomerID_ordinal_encode</th>\n",
       "      <th>mean_Country_ordinal_encode</th>\n",
       "      <th>mean_Invoice_Stock_Description_encode</th>\n",
       "    </tr>\n",
       "  </thead>\n",
       "  <tbody>\n",
       "    <tr>\n",
       "      <th>0</th>\n",
       "      <td>3139</td>\n",
       "      <td>1709</td>\n",
       "      <td>1079</td>\n",
       "      <td>3</td>\n",
       "      <td>2011-02-22</td>\n",
       "      <td>16161</td>\n",
       "      <td>253253</td>\n",
       "      <td>5788350529</td>\n",
       "      <td>9.745433</td>\n",
       "      <td>Tuesday</td>\n",
       "      <td>...</td>\n",
       "      <td>14</td>\n",
       "      <td>8154</td>\n",
       "      <td>12</td>\n",
       "      <td>3.548125</td>\n",
       "      <td>1.650000</td>\n",
       "      <td>1.650000</td>\n",
       "      <td>3.026849</td>\n",
       "      <td>3.430627</td>\n",
       "      <td>3.239283</td>\n",
       "      <td>NaN</td>\n",
       "    </tr>\n",
       "    <tr>\n",
       "      <th>1</th>\n",
       "      <td>617</td>\n",
       "      <td>510</td>\n",
       "      <td>3457</td>\n",
       "      <td>1</td>\n",
       "      <td>2010-08-12</td>\n",
       "      <td>17341</td>\n",
       "      <td>253253</td>\n",
       "      <td>1087814190</td>\n",
       "      <td>10.276883</td>\n",
       "      <td>Thursday</td>\n",
       "      <td>...</td>\n",
       "      <td>17</td>\n",
       "      <td>22061</td>\n",
       "      <td>38</td>\n",
       "      <td>2.128130</td>\n",
       "      <td>1.193421</td>\n",
       "      <td>1.193421</td>\n",
       "      <td>3.115537</td>\n",
       "      <td>2.082536</td>\n",
       "      <td>3.239283</td>\n",
       "      <td>NaN</td>\n",
       "    </tr>\n",
       "    <tr>\n",
       "      <th>2</th>\n",
       "      <td>14653</td>\n",
       "      <td>604</td>\n",
       "      <td>694</td>\n",
       "      <td>36</td>\n",
       "      <td>2011-10-25</td>\n",
       "      <td>15158</td>\n",
       "      <td>253253</td>\n",
       "      <td>6142185928</td>\n",
       "      <td>9.074815</td>\n",
       "      <td>Tuesday</td>\n",
       "      <td>...</td>\n",
       "      <td>99</td>\n",
       "      <td>1160</td>\n",
       "      <td>4</td>\n",
       "      <td>1.820000</td>\n",
       "      <td>3.867050</td>\n",
       "      <td>3.867050</td>\n",
       "      <td>2.500251</td>\n",
       "      <td>1.820000</td>\n",
       "      <td>3.239283</td>\n",
       "      <td>NaN</td>\n",
       "    </tr>\n",
       "    <tr>\n",
       "      <th>3</th>\n",
       "      <td>8634</td>\n",
       "      <td>1478</td>\n",
       "      <td>3473</td>\n",
       "      <td>2</td>\n",
       "      <td>2011-06-27</td>\n",
       "      <td>16033</td>\n",
       "      <td>253253</td>\n",
       "      <td>44319133596</td>\n",
       "      <td>9.403506</td>\n",
       "      <td>Monday</td>\n",
       "      <td>...</td>\n",
       "      <td>156</td>\n",
       "      <td>17282</td>\n",
       "      <td>24</td>\n",
       "      <td>3.000000</td>\n",
       "      <td>1.641111</td>\n",
       "      <td>1.641111</td>\n",
       "      <td>2.691968</td>\n",
       "      <td>3.414272</td>\n",
       "      <td>3.239283</td>\n",
       "      <td>NaN</td>\n",
       "    </tr>\n",
       "    <tr>\n",
       "      <th>4</th>\n",
       "      <td>15546</td>\n",
       "      <td>3216</td>\n",
       "      <td>871</td>\n",
       "      <td>1</td>\n",
       "      <td>2011-06-11</td>\n",
       "      <td>15351</td>\n",
       "      <td>253253</td>\n",
       "      <td>43546460256</td>\n",
       "      <td>9.446902</td>\n",
       "      <td>Saturday</td>\n",
       "      <td>...</td>\n",
       "      <td>146</td>\n",
       "      <td>22061</td>\n",
       "      <td>8</td>\n",
       "      <td>3.849524</td>\n",
       "      <td>12.610985</td>\n",
       "      <td>12.610985</td>\n",
       "      <td>2.763445</td>\n",
       "      <td>2.926886</td>\n",
       "      <td>3.239283</td>\n",
       "      <td>NaN</td>\n",
       "    </tr>\n",
       "  </tbody>\n",
       "</table>\n",
       "<p>5 rows × 23 columns</p>\n",
       "</div>"
      ],
      "text/plain": [
       "   InvoiceNo  StockCode  Description  Quantity InvoiceDate  CustomerID  \\\n",
       "0       3139       1709         1079         3  2011-02-22       16161   \n",
       "1        617        510         3457         1  2010-08-12       17341   \n",
       "2      14653        604          694        36  2011-10-25       15158   \n",
       "3       8634       1478         3473         2  2011-06-27       16033   \n",
       "4      15546       3216          871         1  2011-06-11       15351   \n",
       "\n",
       "   Country  Invoice_Stock_Description  InvoiceAge   weekday  ...  \\\n",
       "0   253253                 5788350529    9.745433   Tuesday  ...   \n",
       "1   253253                 1087814190   10.276883  Thursday  ...   \n",
       "2   253253                 6142185928    9.074815   Tuesday  ...   \n",
       "3   253253                44319133596    9.403506    Monday  ...   \n",
       "4   253253                43546460256    9.446902  Saturday  ...   \n",
       "\n",
       "   StockCode_freq  Quantity_freq  InvoiceDate_freq  \\\n",
       "0              14           8154                12   \n",
       "1              17          22061                38   \n",
       "2              99           1160                 4   \n",
       "3             156          17282                24   \n",
       "4             146          22061                 8   \n",
       "\n",
       "   mean_InvoiceNo_ordinal_encode  mean_StockCode_ordinal_encode  \\\n",
       "0                       3.548125                       1.650000   \n",
       "1                       2.128130                       1.193421   \n",
       "2                       1.820000                       3.867050   \n",
       "3                       3.000000                       1.641111   \n",
       "4                       3.849524                      12.610985   \n",
       "\n",
       "   mean_Description_ordinal_encode  mean_InvoiceDate_ordinal_encode  \\\n",
       "0                         1.650000                         3.026849   \n",
       "1                         1.193421                         3.115537   \n",
       "2                         3.867050                         2.500251   \n",
       "3                         1.641111                         2.691968   \n",
       "4                        12.610985                         2.763445   \n",
       "\n",
       "   mean_CustomerID_ordinal_encode  mean_Country_ordinal_encode  \\\n",
       "0                        3.430627                     3.239283   \n",
       "1                        2.082536                     3.239283   \n",
       "2                        1.820000                     3.239283   \n",
       "3                        3.414272                     3.239283   \n",
       "4                        2.926886                     3.239283   \n",
       "\n",
       "   mean_Invoice_Stock_Description_encode  \n",
       "0                                    NaN  \n",
       "1                                    NaN  \n",
       "2                                    NaN  \n",
       "3                                    NaN  \n",
       "4                                    NaN  \n",
       "\n",
       "[5 rows x 23 columns]"
      ]
     },
     "execution_count": 85,
     "metadata": {},
     "output_type": "execute_result"
    }
   ],
   "source": [
    "df_test.head()"
   ]
  },
  {
   "cell_type": "code",
   "execution_count": 86,
   "metadata": {},
   "outputs": [
    {
     "data": {
      "text/plain": [
       "count    4319.000000\n",
       "mean        3.201695\n",
       "std        38.258219\n",
       "min         0.000000\n",
       "25%         0.850000\n",
       "50%         1.650000\n",
       "75%         2.950000\n",
       "max      2118.740000\n",
       "Name: mean_Invoice_Stock_Description_encode, dtype: float64"
      ]
     },
     "execution_count": 86,
     "metadata": {},
     "output_type": "execute_result"
    }
   ],
   "source": [
    "df_test['mean_Invoice_Stock_Description_encode'].describe()"
   ]
  },
  {
   "cell_type": "code",
   "execution_count": 87,
   "metadata": {},
   "outputs": [],
   "source": [
    "df_test['mean_Invoice_Stock_Description_encode'].fillna(df_test.mean_Invoice_Stock_Description_encode.median(),inplace=True)"
   ]
  },
  {
   "cell_type": "code",
   "execution_count": 88,
   "metadata": {},
   "outputs": [
    {
     "data": {
      "text/plain": [
       "InvoiceNo                                   0\n",
       "StockCode                                   0\n",
       "Description                                 0\n",
       "Quantity                                    0\n",
       "InvoiceDate                                 0\n",
       "CustomerID                                  0\n",
       "Country                                     0\n",
       "Invoice_Stock_Description                   0\n",
       "InvoiceAge                                  0\n",
       "weekday                                     0\n",
       "weekday_ordinal                             0\n",
       "CustomerID_freq                             0\n",
       "InvoiceNo_freq                              0\n",
       "StockCode_freq                              0\n",
       "Quantity_freq                               0\n",
       "InvoiceDate_freq                            0\n",
       "mean_InvoiceNo_ordinal_encode            1441\n",
       "mean_StockCode_ordinal_encode              91\n",
       "mean_Description_ordinal_encode           104\n",
       "mean_InvoiceDate_ordinal_encode             0\n",
       "mean_CustomerID_ordinal_encode             41\n",
       "mean_Country_ordinal_encode                 0\n",
       "mean_Invoice_Stock_Description_encode       0\n",
       "dtype: int64"
      ]
     },
     "execution_count": 88,
     "metadata": {},
     "output_type": "execute_result"
    }
   ],
   "source": [
    "df_test.isnull().sum()"
   ]
  },
  {
   "cell_type": "code",
   "execution_count": 92,
   "metadata": {},
   "outputs": [],
   "source": [
    "df_test['mean_InvoiceNo_ordinal_encode'].fillna(df_test.mean_InvoiceNo_ordinal_encode.median(),inplace=True)\n",
    "df_test['mean_StockCode_ordinal_encode'].fillna(df_test.mean_StockCode_ordinal_encode.median(),inplace=True)\n",
    "df_test['mean_Description_ordinal_encode'].fillna(df_test.mean_Description_ordinal_encode.median(),inplace=True)\n",
    "df_test['mean_CustomerID_ordinal_encode'].fillna(df_test.mean_CustomerID_ordinal_encode.median(),inplace=True)"
   ]
  },
  {
   "cell_type": "code",
   "execution_count": 93,
   "metadata": {},
   "outputs": [
    {
     "data": {
      "text/plain": [
       "InvoiceNo                                0\n",
       "StockCode                                0\n",
       "Description                              0\n",
       "Quantity                                 0\n",
       "InvoiceDate                              0\n",
       "CustomerID                               0\n",
       "Country                                  0\n",
       "Invoice_Stock_Description                0\n",
       "InvoiceAge                               0\n",
       "weekday                                  0\n",
       "weekday_ordinal                          0\n",
       "CustomerID_freq                          0\n",
       "InvoiceNo_freq                           0\n",
       "StockCode_freq                           0\n",
       "Quantity_freq                            0\n",
       "InvoiceDate_freq                         0\n",
       "mean_InvoiceNo_ordinal_encode            0\n",
       "mean_StockCode_ordinal_encode            0\n",
       "mean_Description_ordinal_encode          0\n",
       "mean_InvoiceDate_ordinal_encode          0\n",
       "mean_CustomerID_ordinal_encode           0\n",
       "mean_Country_ordinal_encode              0\n",
       "mean_Invoice_Stock_Description_encode    0\n",
       "dtype: int64"
      ]
     },
     "execution_count": 93,
     "metadata": {},
     "output_type": "execute_result"
    }
   ],
   "source": [
    "df_test.isnull().sum()"
   ]
  },
  {
   "cell_type": "code",
   "execution_count": 94,
   "metadata": {},
   "outputs": [],
   "source": [
    "df_train.to_csv('train_feature_engineered.csv', index=False)\n",
    "df_test.to_csv('test_feature_engineered.csv', index=False)"
   ]
  },
  {
   "cell_type": "code",
   "execution_count": 127,
   "metadata": {},
   "outputs": [
    {
     "data": {
      "image/png": "[encoded data removed]",
      "text/plain": [
       "<Figure size 1440x1440 with 2 Axes>"
      ]
     },
     "metadata": {
      "needs_background": "light"
     },
     "output_type": "display_data"
    }
   ],
   "source": [
    "#get correlations of each features in dataset\n",
    "corrmat = df_train.corr()\n",
    "top_corr_features = corrmat.index\n",
    "plt.figure(figsize=(20,20))\n",
    "#plot heat map\n",
    "g=sns.heatmap(df_train[top_corr_features].corr(),annot=True,cmap=\"RdYlGn\")"
   ]
  },
  {
   "cell_type": "markdown",
   "metadata": {},
   "source": [
    "### Standardising"
   ]
  },
  {
   "cell_type": "code",
   "execution_count": 78,
   "metadata": {},
   "outputs": [],
   "source": [
    "#### standarisation: We use the Standardscaler from sklearn library\n",
    "from sklearn.preprocessing import StandardScaler"
   ]
  },
  {
   "cell_type": "code",
   "execution_count": 96,
   "metadata": {},
   "outputs": [
    {
     "data": {
      "text/plain": [
       "Index(['InvoiceNo', 'StockCode', 'Description', 'Quantity', 'InvoiceDate',\n",
       "       'UnitPrice', 'CustomerID', 'Country', 'Invoice_Stock_Description',\n",
       "       'InvoiceAge', 'weekday', 'weekday_ordinal', 'CustomerID_freq',\n",
       "       'InvoiceNo_freq', 'StockCode_freq', 'Quantity_freq', 'InvoiceDate_freq',\n",
       "       'mean_Country_ordinal_encode', 'mean_InvoiceNo_ordinal_encode',\n",
       "       'mean_StockCode_ordinal_encode', 'mean_Description_ordinal_encode',\n",
       "       'mean_InvoiceDate_ordinal_encode', 'mean_CustomerID_ordinal_encode',\n",
       "       'mean_Invoice_Stock_Description_encode'],\n",
       "      dtype='object')"
      ]
     },
     "execution_count": 96,
     "metadata": {},
     "output_type": "execute_result"
    }
   ],
   "source": [
    "df_train.columns"
   ]
  },
  {
   "cell_type": "code",
   "execution_count": 97,
   "metadata": {},
   "outputs": [
    {
     "data": {
      "text/plain": [
       "Index(['InvoiceNo', 'StockCode', 'Description', 'Quantity', 'InvoiceDate',\n",
       "       'CustomerID', 'Country', 'Invoice_Stock_Description', 'InvoiceAge',\n",
       "       'weekday', 'weekday_ordinal', 'CustomerID_freq', 'InvoiceNo_freq',\n",
       "       'StockCode_freq', 'Quantity_freq', 'InvoiceDate_freq',\n",
       "       'mean_InvoiceNo_ordinal_encode', 'mean_StockCode_ordinal_encode',\n",
       "       'mean_Description_ordinal_encode', 'mean_InvoiceDate_ordinal_encode',\n",
       "       'mean_CustomerID_ordinal_encode', 'mean_Country_ordinal_encode',\n",
       "       'mean_Invoice_Stock_Description_encode'],\n",
       "      dtype='object')"
      ]
     },
     "execution_count": 97,
     "metadata": {},
     "output_type": "execute_result"
    }
   ],
   "source": [
    "df_test.columns"
   ]
  },
  {
   "cell_type": "code",
   "execution_count": 98,
   "metadata": {},
   "outputs": [],
   "source": [
    "df_train= df_train.drop(['InvoiceDate'],1)\n",
    "df_test= df_test.drop(['InvoiceDate'],1)"
   ]
  },
  {
   "cell_type": "code",
   "execution_count": 100,
   "metadata": {},
   "outputs": [],
   "source": [
    "df_train1 = df_train.drop(['weekday'],1)\n",
    "df_test1 = df_test.drop(['weekday'],1)\n"
   ]
  },
  {
   "cell_type": "code",
   "execution_count": 102,
   "metadata": {},
   "outputs": [
    {
     "data": {
      "text/html": [
       "<div>\n",
       "<style scoped>\n",
       "    .dataframe tbody tr th:only-of-type {\n",
       "        vertical-align: middle;\n",
       "    }\n",
       "\n",
       "    .dataframe tbody tr th {\n",
       "        vertical-align: top;\n",
       "    }\n",
       "\n",
       "    .dataframe thead th {\n",
       "        text-align: right;\n",
       "    }\n",
       "</style>\n",
       "<table border=\"1\" class=\"dataframe\">\n",
       "  <thead>\n",
       "    <tr style=\"text-align: right;\">\n",
       "      <th></th>\n",
       "      <th>InvoiceNo</th>\n",
       "      <th>StockCode</th>\n",
       "      <th>Description</th>\n",
       "      <th>Quantity</th>\n",
       "      <th>UnitPrice</th>\n",
       "      <th>CustomerID</th>\n",
       "      <th>Country</th>\n",
       "      <th>Invoice_Stock_Description</th>\n",
       "      <th>InvoiceAge</th>\n",
       "      <th>weekday_ordinal</th>\n",
       "      <th>...</th>\n",
       "      <th>StockCode_freq</th>\n",
       "      <th>Quantity_freq</th>\n",
       "      <th>InvoiceDate_freq</th>\n",
       "      <th>mean_Country_ordinal_encode</th>\n",
       "      <th>mean_InvoiceNo_ordinal_encode</th>\n",
       "      <th>mean_StockCode_ordinal_encode</th>\n",
       "      <th>mean_Description_ordinal_encode</th>\n",
       "      <th>mean_InvoiceDate_ordinal_encode</th>\n",
       "      <th>mean_CustomerID_ordinal_encode</th>\n",
       "      <th>mean_Invoice_Stock_Description_encode</th>\n",
       "    </tr>\n",
       "  </thead>\n",
       "  <tbody>\n",
       "    <tr>\n",
       "      <th>0</th>\n",
       "      <td>6141</td>\n",
       "      <td>1583</td>\n",
       "      <td>144</td>\n",
       "      <td>3</td>\n",
       "      <td>3.75</td>\n",
       "      <td>14056</td>\n",
       "      <td>253253</td>\n",
       "      <td>1399853232</td>\n",
       "      <td>9.465182</td>\n",
       "      <td>5</td>\n",
       "      <td>...</td>\n",
       "      <td>331</td>\n",
       "      <td>18794</td>\n",
       "      <td>901</td>\n",
       "      <td>3.239283</td>\n",
       "      <td>3.241765</td>\n",
       "      <td>3.745770</td>\n",
       "      <td>3.745770</td>\n",
       "      <td>2.939234</td>\n",
       "      <td>2.795714</td>\n",
       "      <td>3.75</td>\n",
       "    </tr>\n",
       "    <tr>\n",
       "      <th>1</th>\n",
       "      <td>6349</td>\n",
       "      <td>1300</td>\n",
       "      <td>3682</td>\n",
       "      <td>6</td>\n",
       "      <td>1.95</td>\n",
       "      <td>13098</td>\n",
       "      <td>253253</td>\n",
       "      <td>30390123400</td>\n",
       "      <td>9.046282</td>\n",
       "      <td>1</td>\n",
       "      <td>...</td>\n",
       "      <td>194</td>\n",
       "      <td>26375</td>\n",
       "      <td>1030</td>\n",
       "      <td>3.239283</td>\n",
       "      <td>3.028519</td>\n",
       "      <td>1.972887</td>\n",
       "      <td>1.972887</td>\n",
       "      <td>3.307942</td>\n",
       "      <td>2.917792</td>\n",
       "      <td>1.95</td>\n",
       "    </tr>\n",
       "    <tr>\n",
       "      <th>2</th>\n",
       "      <td>16783</td>\n",
       "      <td>2178</td>\n",
       "      <td>1939</td>\n",
       "      <td>4</td>\n",
       "      <td>5.95</td>\n",
       "      <td>15044</td>\n",
       "      <td>253253</td>\n",
       "      <td>70876992186</td>\n",
       "      <td>9.005213</td>\n",
       "      <td>5</td>\n",
       "      <td>...</td>\n",
       "      <td>317</td>\n",
       "      <td>22609</td>\n",
       "      <td>2190</td>\n",
       "      <td>3.239283</td>\n",
       "      <td>3.824634</td>\n",
       "      <td>5.896372</td>\n",
       "      <td>5.896372</td>\n",
       "      <td>2.573858</td>\n",
       "      <td>4.957427</td>\n",
       "      <td>5.95</td>\n",
       "    </tr>\n",
       "    <tr>\n",
       "      <th>3</th>\n",
       "      <td>16971</td>\n",
       "      <td>2115</td>\n",
       "      <td>2983</td>\n",
       "      <td>1</td>\n",
       "      <td>0.83</td>\n",
       "      <td>15525</td>\n",
       "      <td>253253</td>\n",
       "      <td>107070802695</td>\n",
       "      <td>8.999737</td>\n",
       "      <td>6</td>\n",
       "      <td>...</td>\n",
       "      <td>328</td>\n",
       "      <td>51253</td>\n",
       "      <td>1999</td>\n",
       "      <td>3.239283</td>\n",
       "      <td>1.532857</td>\n",
       "      <td>0.824970</td>\n",
       "      <td>0.824970</td>\n",
       "      <td>2.756038</td>\n",
       "      <td>2.888281</td>\n",
       "      <td>0.83</td>\n",
       "    </tr>\n",
       "    <tr>\n",
       "      <th>4</th>\n",
       "      <td>6080</td>\n",
       "      <td>1210</td>\n",
       "      <td>2886</td>\n",
       "      <td>12</td>\n",
       "      <td>1.65</td>\n",
       "      <td>13952</td>\n",
       "      <td>253253</td>\n",
       "      <td>21231724800</td>\n",
       "      <td>9.465182</td>\n",
       "      <td>5</td>\n",
       "      <td>...</td>\n",
       "      <td>114</td>\n",
       "      <td>42076</td>\n",
       "      <td>901</td>\n",
       "      <td>3.239283</td>\n",
       "      <td>3.426000</td>\n",
       "      <td>1.635965</td>\n",
       "      <td>1.635965</td>\n",
       "      <td>2.939234</td>\n",
       "      <td>3.778221</td>\n",
       "      <td>1.65</td>\n",
       "    </tr>\n",
       "  </tbody>\n",
       "</table>\n",
       "<p>5 rows × 22 columns</p>\n",
       "</div>"
      ],
      "text/plain": [
       "   InvoiceNo  StockCode  Description  Quantity  UnitPrice  CustomerID  \\\n",
       "0       6141       1583          144         3       3.75       14056   \n",
       "1       6349       1300         3682         6       1.95       13098   \n",
       "2      16783       2178         1939         4       5.95       15044   \n",
       "3      16971       2115         2983         1       0.83       15525   \n",
       "4       6080       1210         2886        12       1.65       13952   \n",
       "\n",
       "   Country  Invoice_Stock_Description  InvoiceAge  weekday_ordinal  ...  \\\n",
       "0   253253                 1399853232    9.465182                5  ...   \n",
       "1   253253                30390123400    9.046282                1  ...   \n",
       "2   253253                70876992186    9.005213                5  ...   \n",
       "3   253253               107070802695    8.999737                6  ...   \n",
       "4   253253                21231724800    9.465182                5  ...   \n",
       "\n",
       "   StockCode_freq  Quantity_freq  InvoiceDate_freq  \\\n",
       "0             331          18794               901   \n",
       "1             194          26375              1030   \n",
       "2             317          22609              2190   \n",
       "3             328          51253              1999   \n",
       "4             114          42076               901   \n",
       "\n",
       "   mean_Country_ordinal_encode  mean_InvoiceNo_ordinal_encode  \\\n",
       "0                     3.239283                       3.241765   \n",
       "1                     3.239283                       3.028519   \n",
       "2                     3.239283                       3.824634   \n",
       "3                     3.239283                       1.532857   \n",
       "4                     3.239283                       3.426000   \n",
       "\n",
       "   mean_StockCode_ordinal_encode  mean_Description_ordinal_encode  \\\n",
       "0                       3.745770                         3.745770   \n",
       "1                       1.972887                         1.972887   \n",
       "2                       5.896372                         5.896372   \n",
       "3                       0.824970                         0.824970   \n",
       "4                       1.635965                         1.635965   \n",
       "\n",
       "   mean_InvoiceDate_ordinal_encode  mean_CustomerID_ordinal_encode  \\\n",
       "0                         2.939234                        2.795714   \n",
       "1                         3.307942                        2.917792   \n",
       "2                         2.573858                        4.957427   \n",
       "3                         2.756038                        2.888281   \n",
       "4                         2.939234                        3.778221   \n",
       "\n",
       "   mean_Invoice_Stock_Description_encode  \n",
       "0                                   3.75  \n",
       "1                                   1.95  \n",
       "2                                   5.95  \n",
       "3                                   0.83  \n",
       "4                                   1.65  \n",
       "\n",
       "[5 rows x 22 columns]"
      ]
     },
     "execution_count": 102,
     "metadata": {},
     "output_type": "execute_result"
    }
   ],
   "source": [
    "df_train1.head()"
   ]
  },
  {
   "cell_type": "code",
   "execution_count": 104,
   "metadata": {},
   "outputs": [
    {
     "data": {
      "text/plain": [
       "InvoiceNo                                  int64\n",
       "StockCode                                  int64\n",
       "Description                                int64\n",
       "Quantity                                   int64\n",
       "UnitPrice                                float64\n",
       "CustomerID                                 int64\n",
       "Country                                    int64\n",
       "Invoice_Stock_Description                  int64\n",
       "InvoiceAge                               float64\n",
       "weekday_ordinal                            int64\n",
       "CustomerID_freq                            int64\n",
       "InvoiceNo_freq                             int64\n",
       "StockCode_freq                             int64\n",
       "Quantity_freq                              int64\n",
       "InvoiceDate_freq                           int64\n",
       "mean_Country_ordinal_encode              float64\n",
       "mean_InvoiceNo_ordinal_encode            float64\n",
       "mean_StockCode_ordinal_encode            float64\n",
       "mean_Description_ordinal_encode          float64\n",
       "mean_InvoiceDate_ordinal_encode          float64\n",
       "mean_CustomerID_ordinal_encode           float64\n",
       "mean_Invoice_Stock_Description_encode    float64\n",
       "dtype: object"
      ]
     },
     "execution_count": 104,
     "metadata": {},
     "output_type": "execute_result"
    }
   ],
   "source": [
    "df_train1.dtypes"
   ]
  },
  {
   "cell_type": "code",
   "execution_count": 105,
   "metadata": {},
   "outputs": [
    {
     "data": {
      "text/plain": [
       "InvoiceNo                                  int64\n",
       "StockCode                                  int64\n",
       "Description                                int64\n",
       "Quantity                                   int64\n",
       "CustomerID                                 int64\n",
       "Country                                    int64\n",
       "Invoice_Stock_Description                  int64\n",
       "InvoiceAge                               float64\n",
       "weekday_ordinal                            int64\n",
       "CustomerID_freq                            int64\n",
       "InvoiceNo_freq                             int64\n",
       "StockCode_freq                             int64\n",
       "Quantity_freq                              int64\n",
       "InvoiceDate_freq                           int64\n",
       "mean_InvoiceNo_ordinal_encode            float64\n",
       "mean_StockCode_ordinal_encode            float64\n",
       "mean_Description_ordinal_encode          float64\n",
       "mean_InvoiceDate_ordinal_encode          float64\n",
       "mean_CustomerID_ordinal_encode           float64\n",
       "mean_Country_ordinal_encode              float64\n",
       "mean_Invoice_Stock_Description_encode    float64\n",
       "dtype: object"
      ]
     },
     "execution_count": 105,
     "metadata": {},
     "output_type": "execute_result"
    }
   ],
   "source": [
    "df_test1.dtypes"
   ]
  },
  {
   "cell_type": "code",
   "execution_count": 107,
   "metadata": {},
   "outputs": [],
   "source": [
    "scaler=StandardScaler()\n",
    "### fit vs fit_transform\n",
    "df_train_scaled=scaler.fit_transform(df_train1)"
   ]
  },
  {
   "cell_type": "code",
   "execution_count": 108,
   "metadata": {},
   "outputs": [
    {
     "data": {
      "text/plain": [
       "array([[-6.87091350e-01,  1.13953919e-02, -1.72503032e+00, ...,\n",
       "        -1.43672925e-01, -1.74585510e-02,  3.81932069e-03],\n",
       "       [-6.49624062e-01, -3.24070258e-01,  1.52140665e+00, ...,\n",
       "        -4.02057651e-02, -1.42071511e-02, -1.91898597e-02],\n",
       "       [ 1.22986479e+00,  7.16703031e-01, -7.79544691e-02, ...,\n",
       "        -2.46205104e-01,  4.01162373e-02,  3.19416522e-02],\n",
       "       ...,\n",
       "       [-5.97025755e-01, -1.07442275e+00,  1.47552710e+00, ...,\n",
       "        -6.61762797e-02,  1.31250620e-02,  6.45379910e-02],\n",
       "       [ 6.96136068e-01,  3.09765501e-03,  9.77275183e-01, ...,\n",
       "        -1.38469436e-01, -7.57743384e-03, -1.55427012e-05],\n",
       "       [ 1.95731618e-01,  1.22049420e+00, -7.96428223e-01, ...,\n",
       "        -1.71387590e-01, -5.41722722e-02, -3.45293132e-02]])"
      ]
     },
     "execution_count": 108,
     "metadata": {},
     "output_type": "execute_result"
    }
   ],
   "source": [
    "df_train_scaled"
   ]
  },
  {
   "cell_type": "code",
   "execution_count": 109,
   "metadata": {},
   "outputs": [
    {
     "data": {
      "text/plain": [
       "(array([12489., 10865., 13548., 12835., 19343., 21938., 17959., 24073.,\n",
       "        28142., 21925., 16125., 29869.,  9211.,  3314.,  9548., 10759.,\n",
       "         6289., 13073.,  1505.,  1970.]),\n",
       " array([-1.86507854, -1.64678879, -1.42849904, -1.21020929, -0.99191954,\n",
       "        -0.77362979, -0.55534004, -0.33705029, -0.11876054,  0.09952921,\n",
       "         0.31781896,  0.53610871,  0.75439846,  0.97268821,  1.19097797,\n",
       "         1.40926772,  1.62755747,  1.84584722,  2.06413697,  2.28242672,\n",
       "         2.50071647]),\n",
       " <BarContainer object of 20 artists>)"
      ]
     },
     "execution_count": 109,
     "metadata": {},
     "output_type": "execute_result"
    },
    {
     "data": {
      "image/png": "[encoded data removed]",
      "text/plain": [
       "<Figure size 432x288 with 1 Axes>"
      ]
     },
     "metadata": {
      "needs_background": "light"
     },
     "output_type": "display_data"
    }
   ],
   "source": [
    "plt.hist(df_train_scaled[:,1],bins=20)"
   ]
  },
  {
   "cell_type": "code",
   "execution_count": 110,
   "metadata": {},
   "outputs": [
    {
     "data": {
      "text/plain": [
       "(array([15442., 10153.,  9304., 15403.,  8841., 13828., 11168., 11564.,\n",
       "        17907., 20363., 16206., 15600.,  9737., 15761., 20247., 20875.,\n",
       "        10831., 15987., 10260., 15303.]),\n",
       " array([-1.85716342, -1.67846257, -1.49976173, -1.32106088, -1.14236003,\n",
       "        -0.96365918, -0.78495834, -0.60625749, -0.42755664, -0.24885579,\n",
       "        -0.07015495,  0.1085459 ,  0.28724675,  0.4659476 ,  0.64464844,\n",
       "         0.82334929,  1.00205014,  1.18075099,  1.35945183,  1.53815268,\n",
       "         1.71685353]),\n",
       " <BarContainer object of 20 artists>)"
      ]
     },
     "execution_count": 110,
     "metadata": {},
     "output_type": "execute_result"
    },
    {
     "data": {
      "image/png": "[encoded data removed]",
      "text/plain": [
       "<Figure size 432x288 with 1 Axes>"
      ]
     },
     "metadata": {
      "needs_background": "light"
     },
     "output_type": "display_data"
    }
   ],
   "source": [
    "plt.hist(df_train_scaled[:,2],bins=20)"
   ]
  },
  {
   "cell_type": "code",
   "execution_count": 125,
   "metadata": {},
   "outputs": [
    {
     "data": {
      "text/plain": [
       "(array([284780.]),\n",
       " array([-4.40209459e-02,  4.97026088e+02]),\n",
       " <BarContainer object of 1 artists>)"
      ]
     },
     "execution_count": 125,
     "metadata": {},
     "output_type": "execute_result"
    },
    {
     "data": {
      "image/png": "[encoded data removed]",
      "text/plain": [
       "<Figure size 432x288 with 1 Axes>"
      ]
     },
     "metadata": {
      "needs_background": "light"
     },
     "output_type": "display_data"
    }
   ],
   "source": [
    "plt.hist(df_train_scaled[:,4],bins =1)"
   ]
  },
  {
   "cell_type": "code",
   "execution_count": 128,
   "metadata": {},
   "outputs": [],
   "source": [
    "import scipy.stats as stat\n",
    "import pylab "
   ]
  },
  {
   "cell_type": "code",
   "execution_count": 129,
   "metadata": {},
   "outputs": [],
   "source": [
    "#### If you want to check whether feature is guassian or normal distributed\n",
    "#### Q-Q plot\n",
    "def plot_data(df,feature):\n",
    "    plt.figure(figsize=(10,6))\n",
    "    plt.subplot(1,2,1)\n",
    "    df[feature].hist()\n",
    "    plt.subplot(1,2,2)\n",
    "    stat.probplot(df[feature],dist='norm',plot=pylab)\n",
    "    plt.show()"
   ]
  },
  {
   "cell_type": "code",
   "execution_count": 130,
   "metadata": {},
   "outputs": [
    {
     "data": {
      "image/png": "[encoded data removed]",
      "text/plain": [
       "<Figure size 720x432 with 2 Axes>"
      ]
     },
     "metadata": {
      "needs_background": "light"
     },
     "output_type": "display_data"
    }
   ],
   "source": [
    "plot_data(df_train,'Country')"
   ]
  },
  {
   "cell_type": "code",
   "execution_count": 131,
   "metadata": {},
   "outputs": [
    {
     "data": {
      "image/png": "[encoded data removed]",
      "text/plain": [
       "<Figure size 720x432 with 2 Axes>"
      ]
     },
     "metadata": {
      "needs_background": "light"
     },
     "output_type": "display_data"
    }
   ],
   "source": [
    "plot_data(df_train,'UnitPrice')"
   ]
  },
  {
   "cell_type": "markdown",
   "metadata": {},
   "source": [
    "### Feature Selection"
   ]
  },
  {
   "cell_type": "markdown",
   "metadata": {},
   "source": [
    "### Univariate Selection"
   ]
  },
  {
   "cell_type": "code",
   "execution_count": 133,
   "metadata": {},
   "outputs": [
    {
     "data": {
      "text/plain": [
       "Index(['InvoiceNo', 'StockCode', 'Description', 'Quantity', 'UnitPrice',\n",
       "       'CustomerID', 'Country', 'Invoice_Stock_Description', 'InvoiceAge',\n",
       "       'weekday', 'weekday_ordinal', 'CustomerID_freq', 'InvoiceNo_freq',\n",
       "       'StockCode_freq', 'Quantity_freq', 'InvoiceDate_freq',\n",
       "       'mean_Country_ordinal_encode', 'mean_InvoiceNo_ordinal_encode',\n",
       "       'mean_StockCode_ordinal_encode', 'mean_Description_ordinal_encode',\n",
       "       'mean_InvoiceDate_ordinal_encode', 'mean_CustomerID_ordinal_encode',\n",
       "       'mean_Invoice_Stock_Description_encode'],\n",
       "      dtype='object')"
      ]
     },
     "execution_count": 133,
     "metadata": {},
     "output_type": "execute_result"
    }
   ],
   "source": [
    "df_train.columns"
   ]
  },
  {
   "cell_type": "code",
   "execution_count": 156,
   "metadata": {},
   "outputs": [
    {
     "data": {
      "text/plain": [
       "['InvoiceNo',\n",
       " 'StockCode',\n",
       " 'Description',\n",
       " 'Quantity',\n",
       " 'CustomerID',\n",
       " 'Country',\n",
       " 'Invoice_Stock_Description',\n",
       " 'InvoiceAge',\n",
       " 'weekday_ordinal',\n",
       " 'CustomerID_freq',\n",
       " 'InvoiceNo_freq',\n",
       " 'StockCode_freq',\n",
       " 'Quantity_freq',\n",
       " 'InvoiceDate_freq',\n",
       " 'mean_Country_ordinal_encode',\n",
       " 'mean_InvoiceNo_ordinal_encode',\n",
       " 'mean_StockCode_ordinal_encode',\n",
       " 'mean_Description_ordinal_encode',\n",
       " 'mean_InvoiceDate_ordinal_encode',\n",
       " 'mean_CustomerID_ordinal_encode',\n",
       " 'mean_Invoice_Stock_Description_encode']"
      ]
     },
     "execution_count": 156,
     "metadata": {},
     "output_type": "execute_result"
    }
   ],
   "source": [
    "cols = [col for col in df_train.columns if col not in ['UnitPrice','weekday']]\n",
    "cols"
   ]
  },
  {
   "cell_type": "code",
   "execution_count": 157,
   "metadata": {},
   "outputs": [],
   "source": [
    "X=df_train[cols]\n",
    "y=df_train['UnitPrice']"
   ]
  },
  {
   "cell_type": "code",
   "execution_count": 152,
   "metadata": {},
   "outputs": [
    {
     "data": {
      "text/html": [
       "<div>\n",
       "<style scoped>\n",
       "    .dataframe tbody tr th:only-of-type {\n",
       "        vertical-align: middle;\n",
       "    }\n",
       "\n",
       "    .dataframe tbody tr th {\n",
       "        vertical-align: top;\n",
       "    }\n",
       "\n",
       "    .dataframe thead th {\n",
       "        text-align: right;\n",
       "    }\n",
       "</style>\n",
       "<table border=\"1\" class=\"dataframe\">\n",
       "  <thead>\n",
       "    <tr style=\"text-align: right;\">\n",
       "      <th></th>\n",
       "      <th>InvoiceNo</th>\n",
       "      <th>StockCode</th>\n",
       "      <th>Description</th>\n",
       "      <th>CustomerID</th>\n",
       "      <th>Country</th>\n",
       "      <th>Invoice_Stock_Description</th>\n",
       "      <th>InvoiceAge</th>\n",
       "      <th>weekday_ordinal</th>\n",
       "      <th>CustomerID_freq</th>\n",
       "      <th>InvoiceNo_freq</th>\n",
       "      <th>StockCode_freq</th>\n",
       "      <th>Quantity_freq</th>\n",
       "      <th>InvoiceDate_freq</th>\n",
       "      <th>mean_Country_ordinal_encode</th>\n",
       "      <th>mean_InvoiceNo_ordinal_encode</th>\n",
       "      <th>mean_StockCode_ordinal_encode</th>\n",
       "      <th>mean_Description_ordinal_encode</th>\n",
       "      <th>mean_InvoiceDate_ordinal_encode</th>\n",
       "      <th>mean_CustomerID_ordinal_encode</th>\n",
       "      <th>mean_Invoice_Stock_Description_encode</th>\n",
       "    </tr>\n",
       "  </thead>\n",
       "  <tbody>\n",
       "    <tr>\n",
       "      <th>0</th>\n",
       "      <td>6141</td>\n",
       "      <td>1583</td>\n",
       "      <td>144</td>\n",
       "      <td>14056</td>\n",
       "      <td>253253</td>\n",
       "      <td>1399853232</td>\n",
       "      <td>9.465182</td>\n",
       "      <td>5</td>\n",
       "      <td>791</td>\n",
       "      <td>34</td>\n",
       "      <td>331</td>\n",
       "      <td>18794</td>\n",
       "      <td>901</td>\n",
       "      <td>3.239283</td>\n",
       "      <td>3.241765</td>\n",
       "      <td>3.745770</td>\n",
       "      <td>3.745770</td>\n",
       "      <td>2.939234</td>\n",
       "      <td>2.795714</td>\n",
       "      <td>3.75</td>\n",
       "    </tr>\n",
       "    <tr>\n",
       "      <th>1</th>\n",
       "      <td>6349</td>\n",
       "      <td>1300</td>\n",
       "      <td>3682</td>\n",
       "      <td>13098</td>\n",
       "      <td>253253</td>\n",
       "      <td>30390123400</td>\n",
       "      <td>9.046282</td>\n",
       "      <td>1</td>\n",
       "      <td>394</td>\n",
       "      <td>27</td>\n",
       "      <td>194</td>\n",
       "      <td>26375</td>\n",
       "      <td>1030</td>\n",
       "      <td>3.239283</td>\n",
       "      <td>3.028519</td>\n",
       "      <td>1.972887</td>\n",
       "      <td>1.972887</td>\n",
       "      <td>3.307942</td>\n",
       "      <td>2.917792</td>\n",
       "      <td>1.95</td>\n",
       "    </tr>\n",
       "    <tr>\n",
       "      <th>2</th>\n",
       "      <td>16783</td>\n",
       "      <td>2178</td>\n",
       "      <td>1939</td>\n",
       "      <td>15044</td>\n",
       "      <td>253253</td>\n",
       "      <td>70876992186</td>\n",
       "      <td>9.005213</td>\n",
       "      <td>5</td>\n",
       "      <td>307</td>\n",
       "      <td>41</td>\n",
       "      <td>317</td>\n",
       "      <td>22609</td>\n",
       "      <td>2190</td>\n",
       "      <td>3.239283</td>\n",
       "      <td>3.824634</td>\n",
       "      <td>5.896372</td>\n",
       "      <td>5.896372</td>\n",
       "      <td>2.573858</td>\n",
       "      <td>4.957427</td>\n",
       "      <td>5.95</td>\n",
       "    </tr>\n",
       "    <tr>\n",
       "      <th>3</th>\n",
       "      <td>16971</td>\n",
       "      <td>2115</td>\n",
       "      <td>2983</td>\n",
       "      <td>15525</td>\n",
       "      <td>253253</td>\n",
       "      <td>107070802695</td>\n",
       "      <td>8.999737</td>\n",
       "      <td>6</td>\n",
       "      <td>128</td>\n",
       "      <td>28</td>\n",
       "      <td>328</td>\n",
       "      <td>51253</td>\n",
       "      <td>1999</td>\n",
       "      <td>3.239283</td>\n",
       "      <td>1.532857</td>\n",
       "      <td>0.824970</td>\n",
       "      <td>0.824970</td>\n",
       "      <td>2.756038</td>\n",
       "      <td>2.888281</td>\n",
       "      <td>0.83</td>\n",
       "    </tr>\n",
       "    <tr>\n",
       "      <th>4</th>\n",
       "      <td>6080</td>\n",
       "      <td>1210</td>\n",
       "      <td>2886</td>\n",
       "      <td>13952</td>\n",
       "      <td>253253</td>\n",
       "      <td>21231724800</td>\n",
       "      <td>9.465182</td>\n",
       "      <td>5</td>\n",
       "      <td>95</td>\n",
       "      <td>30</td>\n",
       "      <td>114</td>\n",
       "      <td>42076</td>\n",
       "      <td>901</td>\n",
       "      <td>3.239283</td>\n",
       "      <td>3.426000</td>\n",
       "      <td>1.635965</td>\n",
       "      <td>1.635965</td>\n",
       "      <td>2.939234</td>\n",
       "      <td>3.778221</td>\n",
       "      <td>1.65</td>\n",
       "    </tr>\n",
       "  </tbody>\n",
       "</table>\n",
       "</div>"
      ],
      "text/plain": [
       "   InvoiceNo  StockCode  Description  CustomerID  Country  \\\n",
       "0       6141       1583          144       14056   253253   \n",
       "1       6349       1300         3682       13098   253253   \n",
       "2      16783       2178         1939       15044   253253   \n",
       "3      16971       2115         2983       15525   253253   \n",
       "4       6080       1210         2886       13952   253253   \n",
       "\n",
       "   Invoice_Stock_Description  InvoiceAge  weekday_ordinal  CustomerID_freq  \\\n",
       "0                 1399853232    9.465182                5              791   \n",
       "1                30390123400    9.046282                1              394   \n",
       "2                70876992186    9.005213                5              307   \n",
       "3               107070802695    8.999737                6              128   \n",
       "4                21231724800    9.465182                5               95   \n",
       "\n",
       "   InvoiceNo_freq  StockCode_freq  Quantity_freq  InvoiceDate_freq  \\\n",
       "0              34             331          18794               901   \n",
       "1              27             194          26375              1030   \n",
       "2              41             317          22609              2190   \n",
       "3              28             328          51253              1999   \n",
       "4              30             114          42076               901   \n",
       "\n",
       "   mean_Country_ordinal_encode  mean_InvoiceNo_ordinal_encode  \\\n",
       "0                     3.239283                       3.241765   \n",
       "1                     3.239283                       3.028519   \n",
       "2                     3.239283                       3.824634   \n",
       "3                     3.239283                       1.532857   \n",
       "4                     3.239283                       3.426000   \n",
       "\n",
       "   mean_StockCode_ordinal_encode  mean_Description_ordinal_encode  \\\n",
       "0                       3.745770                         3.745770   \n",
       "1                       1.972887                         1.972887   \n",
       "2                       5.896372                         5.896372   \n",
       "3                       0.824970                         0.824970   \n",
       "4                       1.635965                         1.635965   \n",
       "\n",
       "   mean_InvoiceDate_ordinal_encode  mean_CustomerID_ordinal_encode  \\\n",
       "0                         2.939234                        2.795714   \n",
       "1                         3.307942                        2.917792   \n",
       "2                         2.573858                        4.957427   \n",
       "3                         2.756038                        2.888281   \n",
       "4                         2.939234                        3.778221   \n",
       "\n",
       "   mean_Invoice_Stock_Description_encode  \n",
       "0                                   3.75  \n",
       "1                                   1.95  \n",
       "2                                   5.95  \n",
       "3                                   0.83  \n",
       "4                                   1.65  "
      ]
     },
     "execution_count": 152,
     "metadata": {},
     "output_type": "execute_result"
    }
   ],
   "source": [
    "X.head()"
   ]
  },
  {
   "cell_type": "code",
   "execution_count": 153,
   "metadata": {},
   "outputs": [
    {
     "data": {
      "text/plain": [
       "0    3.75\n",
       "1    1.95\n",
       "2    5.95\n",
       "3    0.83\n",
       "4    1.65\n",
       "Name: UnitPrice, dtype: float64"
      ]
     },
     "execution_count": 153,
     "metadata": {},
     "output_type": "execute_result"
    }
   ],
   "source": [
    "y.head()"
   ]
  },
  {
   "cell_type": "code",
   "execution_count": 145,
   "metadata": {},
   "outputs": [],
   "source": [
    "from sklearn.feature_selection import SelectKBest\n",
    "from sklearn.feature_selection import chi2"
   ]
  },
  {
   "cell_type": "code",
   "execution_count": 146,
   "metadata": {},
   "outputs": [
    {
     "data": {
      "text/plain": [
       "(284780, 23)"
      ]
     },
     "execution_count": 146,
     "metadata": {},
     "output_type": "execute_result"
    }
   ],
   "source": [
    "df_train.shape"
   ]
  },
  {
   "cell_type": "code",
   "execution_count": 149,
   "metadata": {},
   "outputs": [
    {
     "data": {
      "text/plain": [
       "['Quantity']"
      ]
     },
     "execution_count": 149,
     "metadata": {},
     "output_type": "execute_result"
    }
   ],
   "source": [
    "# Check for columns which are having negative columns\n",
    "X.columns[(X < 0).any()].tolist()"
   ]
  },
  {
   "cell_type": "markdown",
   "metadata": {},
   "source": [
    "#### Quantity has negative values"
   ]
  },
  {
   "cell_type": "code",
   "execution_count": 150,
   "metadata": {},
   "outputs": [],
   "source": [
    "cols = [col for col in df_train.columns if col not in ['UnitPrice','weekday','Quantity']]\n",
    "X=df_train[cols]\n",
    "y=df_train['UnitPrice']"
   ]
  },
  {
   "cell_type": "code",
   "execution_count": 155,
   "metadata": {},
   "outputs": [
    {
     "data": {
      "text/plain": [
       "'\\nordered_feature=ordered_rank_features.fit(X,y)\\ndfscores=pd.DataFrame(ordered_feature.scores_,columns=[\"Score\"])\\ndfcolumns=pd.DataFrame(X.columns)\\nfeatures_rank=pd.concat([dfcolumns,dfscores],axis=1)\\nfeatures_rank.columns=[\\'Features\\',\\'Score\\']\\nfeatures_rank\\n'"
      ]
     },
     "execution_count": 155,
     "metadata": {},
     "output_type": "execute_result"
    }
   ],
   "source": [
    "### Apply SelectKBest Algorithm\n",
    "#ordered_rank_features=SelectKBest(score_func=chi2,k=20)\n",
    "'''\n",
    "ordered_feature=ordered_rank_features.fit(X,y)\n",
    "dfscores=pd.DataFrame(ordered_feature.scores_,columns=[\"Score\"])\n",
    "dfcolumns=pd.DataFrame(X.columns)\n",
    "features_rank=pd.concat([dfcolumns,dfscores],axis=1)\n",
    "features_rank.columns=['Features','Score']\n",
    "features_rank\n",
    "'''"
   ]
  },
  {
   "cell_type": "markdown",
   "metadata": {},
   "source": [
    "### Feature Importance\n",
    "This technique gives you a score for each feature of your data,the higher the score mor relevant it is"
   ]
  },
  {
   "cell_type": "code",
   "execution_count": 5,
   "metadata": {},
   "outputs": [],
   "source": [
    "    df_train=pd.read_csv(r'train_feature_engineered.csv')\n",
    "    df_test=pd.read_csv(r'test_feature_engineered.csv')"
   ]
  },
  {
   "cell_type": "code",
   "execution_count": 6,
   "metadata": {},
   "outputs": [
    {
     "data": {
      "text/html": [
       "<div>\n",
       "<style scoped>\n",
       "    .dataframe tbody tr th:only-of-type {\n",
       "        vertical-align: middle;\n",
       "    }\n",
       "\n",
       "    .dataframe tbody tr th {\n",
       "        vertical-align: top;\n",
       "    }\n",
       "\n",
       "    .dataframe thead th {\n",
       "        text-align: right;\n",
       "    }\n",
       "</style>\n",
       "<table border=\"1\" class=\"dataframe\">\n",
       "  <thead>\n",
       "    <tr style=\"text-align: right;\">\n",
       "      <th></th>\n",
       "      <th>InvoiceNo</th>\n",
       "      <th>StockCode</th>\n",
       "      <th>Description</th>\n",
       "      <th>Quantity</th>\n",
       "      <th>InvoiceDate</th>\n",
       "      <th>UnitPrice</th>\n",
       "      <th>CustomerID</th>\n",
       "      <th>Country</th>\n",
       "      <th>Invoice_Stock_Description</th>\n",
       "      <th>InvoiceAge</th>\n",
       "      <th>...</th>\n",
       "      <th>StockCode_freq</th>\n",
       "      <th>Quantity_freq</th>\n",
       "      <th>InvoiceDate_freq</th>\n",
       "      <th>mean_Country_ordinal_encode</th>\n",
       "      <th>mean_InvoiceNo_ordinal_encode</th>\n",
       "      <th>mean_StockCode_ordinal_encode</th>\n",
       "      <th>mean_Description_ordinal_encode</th>\n",
       "      <th>mean_InvoiceDate_ordinal_encode</th>\n",
       "      <th>mean_CustomerID_ordinal_encode</th>\n",
       "      <th>mean_Invoice_Stock_Description_encode</th>\n",
       "    </tr>\n",
       "  </thead>\n",
       "  <tbody>\n",
       "    <tr>\n",
       "      <th>0</th>\n",
       "      <td>6141</td>\n",
       "      <td>1583</td>\n",
       "      <td>144</td>\n",
       "      <td>3</td>\n",
       "      <td>2011-06-05</td>\n",
       "      <td>3.75</td>\n",
       "      <td>14056</td>\n",
       "      <td>253253</td>\n",
       "      <td>1399853232</td>\n",
       "      <td>9.465182</td>\n",
       "      <td>...</td>\n",
       "      <td>331</td>\n",
       "      <td>18794</td>\n",
       "      <td>901</td>\n",
       "      <td>3.239283</td>\n",
       "      <td>3.241765</td>\n",
       "      <td>3.745770</td>\n",
       "      <td>3.745770</td>\n",
       "      <td>2.939234</td>\n",
       "      <td>2.795714</td>\n",
       "      <td>3.75</td>\n",
       "    </tr>\n",
       "    <tr>\n",
       "      <th>1</th>\n",
       "      <td>6349</td>\n",
       "      <td>1300</td>\n",
       "      <td>3682</td>\n",
       "      <td>6</td>\n",
       "      <td>2011-11-05</td>\n",
       "      <td>1.95</td>\n",
       "      <td>13098</td>\n",
       "      <td>253253</td>\n",
       "      <td>30390123400</td>\n",
       "      <td>9.046282</td>\n",
       "      <td>...</td>\n",
       "      <td>194</td>\n",
       "      <td>26375</td>\n",
       "      <td>1030</td>\n",
       "      <td>3.239283</td>\n",
       "      <td>3.028519</td>\n",
       "      <td>1.972887</td>\n",
       "      <td>1.972887</td>\n",
       "      <td>3.307942</td>\n",
       "      <td>2.917792</td>\n",
       "      <td>1.95</td>\n",
       "    </tr>\n",
       "    <tr>\n",
       "      <th>2</th>\n",
       "      <td>16783</td>\n",
       "      <td>2178</td>\n",
       "      <td>1939</td>\n",
       "      <td>4</td>\n",
       "      <td>2011-11-20</td>\n",
       "      <td>5.95</td>\n",
       "      <td>15044</td>\n",
       "      <td>253253</td>\n",
       "      <td>70876992186</td>\n",
       "      <td>9.005213</td>\n",
       "      <td>...</td>\n",
       "      <td>317</td>\n",
       "      <td>22609</td>\n",
       "      <td>2190</td>\n",
       "      <td>3.239283</td>\n",
       "      <td>3.824634</td>\n",
       "      <td>5.896372</td>\n",
       "      <td>5.896372</td>\n",
       "      <td>2.573858</td>\n",
       "      <td>4.957427</td>\n",
       "      <td>5.95</td>\n",
       "    </tr>\n",
       "    <tr>\n",
       "      <th>3</th>\n",
       "      <td>16971</td>\n",
       "      <td>2115</td>\n",
       "      <td>2983</td>\n",
       "      <td>1</td>\n",
       "      <td>2011-11-22</td>\n",
       "      <td>0.83</td>\n",
       "      <td>15525</td>\n",
       "      <td>253253</td>\n",
       "      <td>107070802695</td>\n",
       "      <td>8.999737</td>\n",
       "      <td>...</td>\n",
       "      <td>328</td>\n",
       "      <td>51253</td>\n",
       "      <td>1999</td>\n",
       "      <td>3.239283</td>\n",
       "      <td>1.532857</td>\n",
       "      <td>0.824970</td>\n",
       "      <td>0.824970</td>\n",
       "      <td>2.756038</td>\n",
       "      <td>2.888281</td>\n",
       "      <td>0.83</td>\n",
       "    </tr>\n",
       "    <tr>\n",
       "      <th>4</th>\n",
       "      <td>6080</td>\n",
       "      <td>1210</td>\n",
       "      <td>2886</td>\n",
       "      <td>12</td>\n",
       "      <td>2011-06-05</td>\n",
       "      <td>1.65</td>\n",
       "      <td>13952</td>\n",
       "      <td>253253</td>\n",
       "      <td>21231724800</td>\n",
       "      <td>9.465182</td>\n",
       "      <td>...</td>\n",
       "      <td>114</td>\n",
       "      <td>42076</td>\n",
       "      <td>901</td>\n",
       "      <td>3.239283</td>\n",
       "      <td>3.426000</td>\n",
       "      <td>1.635965</td>\n",
       "      <td>1.635965</td>\n",
       "      <td>2.939234</td>\n",
       "      <td>3.778221</td>\n",
       "      <td>1.65</td>\n",
       "    </tr>\n",
       "  </tbody>\n",
       "</table>\n",
       "<p>5 rows × 24 columns</p>\n",
       "</div>"
      ],
      "text/plain": [
       "   InvoiceNo  StockCode  Description  Quantity InvoiceDate  UnitPrice  \\\n",
       "0       6141       1583          144         3  2011-06-05       3.75   \n",
       "1       6349       1300         3682         6  2011-11-05       1.95   \n",
       "2      16783       2178         1939         4  2011-11-20       5.95   \n",
       "3      16971       2115         2983         1  2011-11-22       0.83   \n",
       "4       6080       1210         2886        12  2011-06-05       1.65   \n",
       "\n",
       "   CustomerID  Country  Invoice_Stock_Description  InvoiceAge  ...  \\\n",
       "0       14056   253253                 1399853232    9.465182  ...   \n",
       "1       13098   253253                30390123400    9.046282  ...   \n",
       "2       15044   253253                70876992186    9.005213  ...   \n",
       "3       15525   253253               107070802695    8.999737  ...   \n",
       "4       13952   253253                21231724800    9.465182  ...   \n",
       "\n",
       "  StockCode_freq  Quantity_freq  InvoiceDate_freq  \\\n",
       "0            331          18794               901   \n",
       "1            194          26375              1030   \n",
       "2            317          22609              2190   \n",
       "3            328          51253              1999   \n",
       "4            114          42076               901   \n",
       "\n",
       "   mean_Country_ordinal_encode  mean_InvoiceNo_ordinal_encode  \\\n",
       "0                     3.239283                       3.241765   \n",
       "1                     3.239283                       3.028519   \n",
       "2                     3.239283                       3.824634   \n",
       "3                     3.239283                       1.532857   \n",
       "4                     3.239283                       3.426000   \n",
       "\n",
       "   mean_StockCode_ordinal_encode  mean_Description_ordinal_encode  \\\n",
       "0                       3.745770                         3.745770   \n",
       "1                       1.972887                         1.972887   \n",
       "2                       5.896372                         5.896372   \n",
       "3                       0.824970                         0.824970   \n",
       "4                       1.635965                         1.635965   \n",
       "\n",
       "   mean_InvoiceDate_ordinal_encode  mean_CustomerID_ordinal_encode  \\\n",
       "0                         2.939234                        2.795714   \n",
       "1                         3.307942                        2.917792   \n",
       "2                         2.573858                        4.957427   \n",
       "3                         2.756038                        2.888281   \n",
       "4                         2.939234                        3.778221   \n",
       "\n",
       "   mean_Invoice_Stock_Description_encode  \n",
       "0                                   3.75  \n",
       "1                                   1.95  \n",
       "2                                   5.95  \n",
       "3                                   0.83  \n",
       "4                                   1.65  \n",
       "\n",
       "[5 rows x 24 columns]"
      ]
     },
     "execution_count": 6,
     "metadata": {},
     "output_type": "execute_result"
    }
   ],
   "source": [
    "df_train.head()"
   ]
  },
  {
   "cell_type": "code",
   "execution_count": 9,
   "metadata": {},
   "outputs": [
    {
     "data": {
      "text/plain": [
       "Index(['InvoiceNo', 'StockCode', 'Description', 'Quantity', 'InvoiceDate',\n",
       "       'UnitPrice', 'CustomerID', 'Country', 'Invoice_Stock_Description',\n",
       "       'InvoiceAge', 'weekday', 'weekday_ordinal', 'CustomerID_freq',\n",
       "       'InvoiceNo_freq', 'StockCode_freq', 'Quantity_freq', 'InvoiceDate_freq',\n",
       "       'mean_Country_ordinal_encode', 'mean_InvoiceNo_ordinal_encode',\n",
       "       'mean_StockCode_ordinal_encode', 'mean_Description_ordinal_encode',\n",
       "       'mean_InvoiceDate_ordinal_encode', 'mean_CustomerID_ordinal_encode',\n",
       "       'mean_Invoice_Stock_Description_encode'],\n",
       "      dtype='object')"
      ]
     },
     "execution_count": 9,
     "metadata": {},
     "output_type": "execute_result"
    }
   ],
   "source": [
    "df_train.columns"
   ]
  },
  {
   "cell_type": "code",
   "execution_count": 10,
   "metadata": {},
   "outputs": [],
   "source": [
    "X=df_train.drop(['UnitPrice','InvoiceDate','weekday'], axis=1)\n",
    "y=df_train['UnitPrice']"
   ]
  },
  {
   "cell_type": "code",
   "execution_count": 11,
   "metadata": {},
   "outputs": [
    {
     "data": {
      "text/plain": [
       "ExtraTreesRegressor()"
      ]
     },
     "execution_count": 11,
     "metadata": {},
     "output_type": "execute_result"
    }
   ],
   "source": [
    "### Feature Importance\n",
    "\n",
    "from sklearn.ensemble import ExtraTreesRegressor\n",
    "import matplotlib.pyplot as plt\n",
    "model = ExtraTreesRegressor()\n",
    "model.fit(X,y)"
   ]
  },
  {
   "cell_type": "code",
   "execution_count": 12,
   "metadata": {},
   "outputs": [
    {
     "name": "stdout",
     "output_type": "stream",
     "text": [
      "[4.19795223e-05 1.24948195e-03 4.29256238e-04 2.56034454e-05\n",
      " 1.31580545e-04 9.33854317e-05 4.51923769e-04 3.73396365e-04\n",
      " 7.00251343e-04 7.16935410e-05 2.12944742e-04 8.16168842e-04\n",
      " 2.80112855e-05 2.97824083e-03 4.66999074e-05 5.24997055e-01\n",
      " 1.18290313e-03 1.02694353e-03 6.99872015e-04 7.06917229e-05\n",
      " 4.64371917e-01]\n"
     ]
    }
   ],
   "source": [
    "print(model.feature_importances_)"
   ]
  },
  {
   "cell_type": "code",
   "execution_count": 15,
   "metadata": {},
   "outputs": [
    {
     "data": {
      "image/png": "[encoded data removed]",
      "text/plain": [
       "<Figure size 432x288 with 1 Axes>"
      ]
     },
     "metadata": {
      "needs_background": "light"
     },
     "output_type": "display_data"
    }
   ],
   "source": [
    "#plot graph of feature importances for better visualization\n",
    "feat_importances = pd.Series(model.feature_importances_, index=X.columns)\n",
    "feat_importances.nlargest(20).plot(kind='barh')\n",
    "plt.show()"
   ]
  },
  {
   "cell_type": "code",
   "execution_count": 42,
   "metadata": {},
   "outputs": [
    {
     "data": {
      "text/html": [
       "<div>\n",
       "<style scoped>\n",
       "    .dataframe tbody tr th:only-of-type {\n",
       "        vertical-align: middle;\n",
       "    }\n",
       "\n",
       "    .dataframe tbody tr th {\n",
       "        vertical-align: top;\n",
       "    }\n",
       "\n",
       "    .dataframe thead th {\n",
       "        text-align: right;\n",
       "    }\n",
       "</style>\n",
       "<table border=\"1\" class=\"dataframe\">\n",
       "  <thead>\n",
       "    <tr style=\"text-align: right;\">\n",
       "      <th></th>\n",
       "      <th>0</th>\n",
       "    </tr>\n",
       "  </thead>\n",
       "  <tbody>\n",
       "    <tr>\n",
       "      <th>mean_InvoiceNo_ordinal_encode</th>\n",
       "      <td>0.524997</td>\n",
       "    </tr>\n",
       "    <tr>\n",
       "      <th>mean_Invoice_Stock_Description_encode</th>\n",
       "      <td>0.464372</td>\n",
       "    </tr>\n",
       "    <tr>\n",
       "      <th>InvoiceDate_freq</th>\n",
       "      <td>0.002978</td>\n",
       "    </tr>\n",
       "    <tr>\n",
       "      <th>StockCode</th>\n",
       "      <td>0.001249</td>\n",
       "    </tr>\n",
       "    <tr>\n",
       "      <th>mean_StockCode_ordinal_encode</th>\n",
       "      <td>0.001183</td>\n",
       "    </tr>\n",
       "    <tr>\n",
       "      <th>mean_Description_ordinal_encode</th>\n",
       "      <td>0.001027</td>\n",
       "    </tr>\n",
       "    <tr>\n",
       "      <th>StockCode_freq</th>\n",
       "      <td>0.000816</td>\n",
       "    </tr>\n",
       "    <tr>\n",
       "      <th>weekday_ordinal</th>\n",
       "      <td>0.000700</td>\n",
       "    </tr>\n",
       "    <tr>\n",
       "      <th>mean_InvoiceDate_ordinal_encode</th>\n",
       "      <td>0.000700</td>\n",
       "    </tr>\n",
       "    <tr>\n",
       "      <th>Invoice_Stock_Description</th>\n",
       "      <td>0.000452</td>\n",
       "    </tr>\n",
       "    <tr>\n",
       "      <th>Description</th>\n",
       "      <td>0.000429</td>\n",
       "    </tr>\n",
       "    <tr>\n",
       "      <th>InvoiceAge</th>\n",
       "      <td>0.000373</td>\n",
       "    </tr>\n",
       "    <tr>\n",
       "      <th>InvoiceNo_freq</th>\n",
       "      <td>0.000213</td>\n",
       "    </tr>\n",
       "    <tr>\n",
       "      <th>CustomerID</th>\n",
       "      <td>0.000132</td>\n",
       "    </tr>\n",
       "    <tr>\n",
       "      <th>Country</th>\n",
       "      <td>0.000093</td>\n",
       "    </tr>\n",
       "    <tr>\n",
       "      <th>CustomerID_freq</th>\n",
       "      <td>0.000072</td>\n",
       "    </tr>\n",
       "    <tr>\n",
       "      <th>mean_CustomerID_ordinal_encode</th>\n",
       "      <td>0.000071</td>\n",
       "    </tr>\n",
       "    <tr>\n",
       "      <th>mean_Country_ordinal_encode</th>\n",
       "      <td>0.000047</td>\n",
       "    </tr>\n",
       "    <tr>\n",
       "      <th>InvoiceNo</th>\n",
       "      <td>0.000042</td>\n",
       "    </tr>\n",
       "    <tr>\n",
       "      <th>Quantity_freq</th>\n",
       "      <td>0.000028</td>\n",
       "    </tr>\n",
       "    <tr>\n",
       "      <th>Quantity</th>\n",
       "      <td>0.000026</td>\n",
       "    </tr>\n",
       "  </tbody>\n",
       "</table>\n",
       "</div>"
      ],
      "text/plain": [
       "                                              0\n",
       "mean_InvoiceNo_ordinal_encode          0.524997\n",
       "mean_Invoice_Stock_Description_encode  0.464372\n",
       "InvoiceDate_freq                       0.002978\n",
       "StockCode                              0.001249\n",
       "mean_StockCode_ordinal_encode          0.001183\n",
       "mean_Description_ordinal_encode        0.001027\n",
       "StockCode_freq                         0.000816\n",
       "weekday_ordinal                        0.000700\n",
       "mean_InvoiceDate_ordinal_encode        0.000700\n",
       "Invoice_Stock_Description              0.000452\n",
       "Description                            0.000429\n",
       "InvoiceAge                             0.000373\n",
       "InvoiceNo_freq                         0.000213\n",
       "CustomerID                             0.000132\n",
       "Country                                0.000093\n",
       "CustomerID_freq                        0.000072\n",
       "mean_CustomerID_ordinal_encode         0.000071\n",
       "mean_Country_ordinal_encode            0.000047\n",
       "InvoiceNo                              0.000042\n",
       "Quantity_freq                          0.000028\n",
       "Quantity                               0.000026"
      ]
     },
     "execution_count": 42,
     "metadata": {},
     "output_type": "execute_result"
    }
   ],
   "source": [
    "feat_importances_df= pd.DataFrame(feat_importances)\n",
    "feat_importances_df.sort_values(0, ascending=False)"
   ]
  },
  {
   "cell_type": "code",
   "execution_count": 44,
   "metadata": {},
   "outputs": [
    {
     "data": {
      "text/plain": [
       "Index(['mean_InvoiceNo_ordinal_encode',\n",
       "       'mean_Invoice_Stock_Description_encode', 'InvoiceDate_freq',\n",
       "       'StockCode', 'mean_StockCode_ordinal_encode',\n",
       "       'mean_Description_ordinal_encode', 'StockCode_freq', 'weekday_ordinal',\n",
       "       'mean_InvoiceDate_ordinal_encode', 'Invoice_Stock_Description',\n",
       "       'Description', 'InvoiceAge', 'InvoiceNo_freq', 'CustomerID', 'Country',\n",
       "       'CustomerID_freq', 'mean_CustomerID_ordinal_encode',\n",
       "       'mean_Country_ordinal_encode', 'InvoiceNo', 'Quantity_freq',\n",
       "       'Quantity'],\n",
       "      dtype='object')"
      ]
     },
     "execution_count": 44,
     "metadata": {},
     "output_type": "execute_result"
    }
   ],
   "source": [
    "feat_importances_df.sort_values(0, ascending=False).index"
   ]
  },
  {
   "cell_type": "markdown",
   "metadata": {},
   "source": [
    "### Prediciton and selecting the Algorithm"
   ]
  },
  {
   "cell_type": "markdown",
   "metadata": {},
   "source": [
    "### XGBoost Regressor"
   ]
  },
  {
   "cell_type": "code",
   "execution_count": 46,
   "metadata": {},
   "outputs": [],
   "source": [
    "import xgboost\n",
    "regressor=xgboost.XGBRegressor()"
   ]
  },
  {
   "cell_type": "code",
   "execution_count": 47,
   "metadata": {},
   "outputs": [],
   "source": [
    "booster=['gbtree','gblinear']\n",
    "base_score=[0.25,0.5,0.75,1]\n",
    "\n",
    "## Hyper Parameter Optimization\n",
    "n_estimators = [100, 500, 900, 1100, 1500]\n",
    "max_depth = [2, 3, 5, 10, 15]\n",
    "booster=['gbtree','gblinear']\n",
    "learning_rate=[0.05,0.1,0.15,0.20]\n",
    "min_child_weight=[1,2,3,4]\n",
    "\n",
    "# Define the grid of hyperparameters to search\n",
    "hyperparameter_grid = {\n",
    "    'n_estimators': n_estimators,\n",
    "    'max_depth':max_depth,\n",
    "    'learning_rate':learning_rate,\n",
    "    'min_child_weight':min_child_weight,\n",
    "    'booster':booster,\n",
    "    'base_score':base_score\n",
    "    }"
   ]
  },
  {
   "cell_type": "code",
   "execution_count": 48,
   "metadata": {},
   "outputs": [],
   "source": [
    "from sklearn.model_selection import GridSearchCV, KFold,RandomizedSearchCV"
   ]
  },
  {
   "cell_type": "code",
   "execution_count": 49,
   "metadata": {},
   "outputs": [],
   "source": [
    "# Set up the random search with 4-fold cross validation\n",
    "random_cv = RandomizedSearchCV(estimator=regressor,\n",
    "            param_distributions=hyperparameter_grid,\n",
    "            cv=5, n_iter=50,\n",
    "            scoring = 'neg_mean_absolute_error',n_jobs = 4,\n",
    "            verbose = 5, \n",
    "            return_train_score = True,\n",
    "            random_state=42)"
   ]
  },
  {
   "cell_type": "code",
   "execution_count": 59,
   "metadata": {},
   "outputs": [],
   "source": [
    "cols = ['mean_InvoiceNo_ordinal_encode',\n",
    "       'mean_Invoice_Stock_Description_encode', 'InvoiceDate_freq',\n",
    "       'StockCode', 'mean_StockCode_ordinal_encode',\n",
    "       'mean_Description_ordinal_encode', 'StockCode_freq', 'weekday_ordinal',\n",
    "       'mean_InvoiceDate_ordinal_encode', 'Invoice_Stock_Description',\n",
    "       'Description', 'InvoiceAge', 'InvoiceNo_freq']\n",
    "cols_remove =[ 'Invoice_Stock_Description',\n",
    "       'Description', 'InvoiceAge', 'InvoiceNo_freq', 'CustomerID', 'Country',\n",
    "       'CustomerID_freq', 'mean_CustomerID_ordinal_encode',\n",
    "       'mean_Country_ordinal_encode', 'InvoiceNo', 'Quantity_freq',\n",
    "       'Quantity']"
   ]
  },
  {
   "cell_type": "code",
   "execution_count": 60,
   "metadata": {},
   "outputs": [],
   "source": [
    "X_train=X.drop(cols_remove,axis=1)\n",
    "y_train=df_train['UnitPrice']"
   ]
  },
  {
   "cell_type": "code",
   "execution_count": 61,
   "metadata": {},
   "outputs": [
    {
     "data": {
      "text/plain": [
       "Index(['StockCode', 'weekday_ordinal', 'StockCode_freq', 'InvoiceDate_freq',\n",
       "       'mean_InvoiceNo_ordinal_encode', 'mean_StockCode_ordinal_encode',\n",
       "       'mean_Description_ordinal_encode', 'mean_InvoiceDate_ordinal_encode',\n",
       "       'mean_Invoice_Stock_Description_encode'],\n",
       "      dtype='object')"
      ]
     },
     "execution_count": 61,
     "metadata": {},
     "output_type": "execute_result"
    }
   ],
   "source": [
    "X_train.columns"
   ]
  },
  {
   "cell_type": "code",
   "execution_count": 62,
   "metadata": {},
   "outputs": [
    {
     "name": "stdout",
     "output_type": "stream",
     "text": [
      "Fitting 5 folds for each of 50 candidates, totalling 250 fits\n"
     ]
    },
    {
     "name": "stderr",
     "output_type": "stream",
     "text": [
      "[Parallel(n_jobs=4)]: Using backend LokyBackend with 4 concurrent workers.\n",
      "[Parallel(n_jobs=4)]: Done  10 tasks      | elapsed:  4.3min\n",
      "[Parallel(n_jobs=4)]: Done  64 tasks      | elapsed: 43.1min\n",
      "[Parallel(n_jobs=4)]: Done 154 tasks      | elapsed: 72.8min\n",
      "[Parallel(n_jobs=4)]: Done 250 out of 250 | elapsed: 110.0min finished\n"
     ]
    },
    {
     "data": {
      "text/plain": [
       "RandomizedSearchCV(cv=5,\n",
       "                   estimator=XGBRegressor(base_score=None, booster=None,\n",
       "                                          colsample_bylevel=None,\n",
       "                                          colsample_bynode=None,\n",
       "                                          colsample_bytree=None, gamma=None,\n",
       "                                          gpu_id=None, importance_type='gain',\n",
       "                                          interaction_constraints=None,\n",
       "                                          learning_rate=None,\n",
       "                                          max_delta_step=None, max_depth=None,\n",
       "                                          min_child_weight=None, missing=nan,\n",
       "                                          monotone_constraints=None,\n",
       "                                          n_estimators=100, n...\n",
       "                                          validate_parameters=None,\n",
       "                                          verbosity=None),\n",
       "                   n_iter=50, n_jobs=4,\n",
       "                   param_distributions={'base_score': [0.25, 0.5, 0.75, 1],\n",
       "                                        'booster': ['gbtree', 'gblinear'],\n",
       "                                        'learning_rate': [0.05, 0.1, 0.15, 0.2],\n",
       "                                        'max_depth': [2, 3, 5, 10, 15],\n",
       "                                        'min_child_weight': [1, 2, 3, 4],\n",
       "                                        'n_estimators': [100, 500, 900, 1100,\n",
       "                                                         1500]},\n",
       "                   random_state=42, return_train_score=True,\n",
       "                   scoring='neg_mean_absolute_error', verbose=5)"
      ]
     },
     "execution_count": 62,
     "metadata": {},
     "output_type": "execute_result"
    }
   ],
   "source": [
    "random_cv.fit(X_train,y_train)"
   ]
  },
  {
   "cell_type": "code",
   "execution_count": 63,
   "metadata": {},
   "outputs": [
    {
     "data": {
      "text/plain": [
       "XGBRegressor(base_score=1, booster='gbtree', colsample_bylevel=1,\n",
       "             colsample_bynode=1, colsample_bytree=1, gamma=0, gpu_id=-1,\n",
       "             importance_type='gain', interaction_constraints='',\n",
       "             learning_rate=0.1, max_delta_step=0, max_depth=15,\n",
       "             min_child_weight=1, missing=nan, monotone_constraints='()',\n",
       "             n_estimators=900, n_jobs=0, num_parallel_tree=1, random_state=0,\n",
       "             reg_alpha=0, reg_lambda=1, scale_pos_weight=1, subsample=1,\n",
       "             tree_method='exact', validate_parameters=1, verbosity=None)"
      ]
     },
     "execution_count": 63,
     "metadata": {},
     "output_type": "execute_result"
    }
   ],
   "source": [
    "random_cv.best_estimator_"
   ]
  },
  {
   "cell_type": "code",
   "execution_count": 64,
   "metadata": {},
   "outputs": [],
   "source": [
    "regressor=xgboost.XGBRegressor(base_score=1, booster='gbtree', colsample_bylevel=1,\n",
    "             colsample_bynode=1, colsample_bytree=1, gamma=0, gpu_id=-1,\n",
    "             importance_type='gain', interaction_constraints='',\n",
    "             learning_rate=0.1, max_delta_step=0, max_depth=15,\n",
    "             min_child_weight=1, monotone_constraints='()',\n",
    "             n_estimators=900, n_jobs=0, num_parallel_tree=1, random_state=0,\n",
    "             reg_alpha=0, reg_lambda=1, scale_pos_weight=1, subsample=1,tree_method='exact',validate_parameters=1)"
   ]
  },
  {
   "cell_type": "code",
   "execution_count": 65,
   "metadata": {},
   "outputs": [
    {
     "data": {
      "text/plain": [
       "XGBRegressor(base_score=1, booster='gbtree', colsample_bylevel=1,\n",
       "             colsample_bynode=1, colsample_bytree=1, gamma=0, gpu_id=-1,\n",
       "             importance_type='gain', interaction_constraints='',\n",
       "             learning_rate=0.1, max_delta_step=0, max_depth=15,\n",
       "             min_child_weight=1, missing=nan, monotone_constraints='()',\n",
       "             n_estimators=900, n_jobs=0, num_parallel_tree=1, random_state=0,\n",
       "             reg_alpha=0, reg_lambda=1, scale_pos_weight=1, subsample=1,\n",
       "             tree_method='exact', validate_parameters=1, verbosity=None)"
      ]
     },
     "execution_count": 65,
     "metadata": {},
     "output_type": "execute_result"
    }
   ],
   "source": [
    "regressor.fit(X_train,y_train)"
   ]
  },
  {
   "cell_type": "code",
   "execution_count": null,
   "metadata": {},
   "outputs": [],
   "source": [
    "import pickle\n",
    "filename = 'finalized_model_rf1.pkl'\n",
    "pickle.dump(regressor, open(filename, 'wb'))"
   ]
  },
  {
   "cell_type": "code",
   "execution_count": 68,
   "metadata": {},
   "outputs": [],
   "source": [
    "cols_remove =[ 'Invoice_Stock_Description',\n",
    "       'Description', 'InvoiceAge', 'InvoiceNo_freq', 'CustomerID', 'Country',\n",
    "       'CustomerID_freq', 'mean_CustomerID_ordinal_encode',\n",
    "       'mean_Country_ordinal_encode', 'InvoiceNo', 'Quantity_freq',\n",
    "       'Quantity','InvoiceDate', 'weekday']"
   ]
  },
  {
   "cell_type": "code",
   "execution_count": 69,
   "metadata": {},
   "outputs": [],
   "source": [
    "df_test1=df_test.drop(cols_remove,axis=1)"
   ]
  },
  {
   "cell_type": "code",
   "execution_count": 70,
   "metadata": {},
   "outputs": [],
   "source": [
    "y_pred=regressor.predict(df_test1)"
   ]
  },
  {
   "cell_type": "code",
   "execution_count": 71,
   "metadata": {},
   "outputs": [
    {
     "data": {
      "text/plain": [
       "array([1.649524 , 1.6495059, 1.6530111, ..., 1.6498376, 1.688838 ,\n",
       "       1.6559143], dtype=float32)"
      ]
     },
     "execution_count": 71,
     "metadata": {},
     "output_type": "execute_result"
    }
   ],
   "source": [
    "y_pred"
   ]
  },
  {
   "cell_type": "code",
   "execution_count": 72,
   "metadata": {},
   "outputs": [],
   "source": [
    "##Create Sample Submission file and Submit using ANN\n",
    "pred=pd.DataFrame(y_pred)\n",
    "#sub_df=pd.read_csv('sample_submission.csv')\n",
    "datasets=pd.concat([pred],axis=1)\n",
    "datasets.columns=['UnitPrice']\n",
    "datasets.to_csv('sample_submission2_xgboost.csv',index=False)"
   ]
  },
  {
   "cell_type": "code",
   "execution_count": 74,
   "metadata": {},
   "outputs": [
    {
     "name": "stdout",
     "output_type": "stream",
     "text": [
      "<class 'pandas.core.frame.DataFrame'>\n",
      "RangeIndex: 122049 entries, 0 to 122048\n",
      "Data columns (total 1 columns):\n",
      " #   Column     Non-Null Count   Dtype  \n",
      "---  ------     --------------   -----  \n",
      " 0   UnitPrice  122049 non-null  float32\n",
      "dtypes: float32(1)\n",
      "memory usage: 476.9 KB\n"
     ]
    }
   ],
   "source": [
    "datasets.info()"
   ]
  },
  {
   "cell_type": "code",
   "execution_count": 75,
   "metadata": {},
   "outputs": [
    {
     "data": {
      "text/html": [
       "<div>\n",
       "<style scoped>\n",
       "    .dataframe tbody tr th:only-of-type {\n",
       "        vertical-align: middle;\n",
       "    }\n",
       "\n",
       "    .dataframe tbody tr th {\n",
       "        vertical-align: top;\n",
       "    }\n",
       "\n",
       "    .dataframe thead th {\n",
       "        text-align: right;\n",
       "    }\n",
       "</style>\n",
       "<table border=\"1\" class=\"dataframe\">\n",
       "  <thead>\n",
       "    <tr style=\"text-align: right;\">\n",
       "      <th></th>\n",
       "      <th>UnitPrice</th>\n",
       "    </tr>\n",
       "  </thead>\n",
       "  <tbody>\n",
       "    <tr>\n",
       "      <th>count</th>\n",
       "      <td>122049.000000</td>\n",
       "    </tr>\n",
       "    <tr>\n",
       "      <th>mean</th>\n",
       "      <td>1.846256</td>\n",
       "    </tr>\n",
       "    <tr>\n",
       "      <th>std</th>\n",
       "      <td>7.206360</td>\n",
       "    </tr>\n",
       "    <tr>\n",
       "      <th>min</th>\n",
       "      <td>-0.003303</td>\n",
       "    </tr>\n",
       "    <tr>\n",
       "      <th>25%</th>\n",
       "      <td>1.649915</td>\n",
       "    </tr>\n",
       "    <tr>\n",
       "      <th>50%</th>\n",
       "      <td>1.650546</td>\n",
       "    </tr>\n",
       "    <tr>\n",
       "      <th>75%</th>\n",
       "      <td>1.693084</td>\n",
       "    </tr>\n",
       "    <tr>\n",
       "      <th>max</th>\n",
       "      <td>2118.413818</td>\n",
       "    </tr>\n",
       "  </tbody>\n",
       "</table>\n",
       "</div>"
      ],
      "text/plain": [
       "           UnitPrice\n",
       "count  122049.000000\n",
       "mean        1.846256\n",
       "std         7.206360\n",
       "min        -0.003303\n",
       "25%         1.649915\n",
       "50%         1.650546\n",
       "75%         1.693084\n",
       "max      2118.413818"
      ]
     },
     "execution_count": 75,
     "metadata": {},
     "output_type": "execute_result"
    }
   ],
   "source": [
    "datasets.describe()"
   ]
  },
  {
   "cell_type": "code",
   "execution_count": 76,
   "metadata": {},
   "outputs": [
    {
     "data": {
      "text/plain": [
       "count    284780.000000\n",
       "mean          3.451216\n",
       "std          78.399541\n",
       "min           0.000000\n",
       "25%           1.250000\n",
       "50%           1.950000\n",
       "75%           3.750000\n",
       "max       38970.000000\n",
       "Name: UnitPrice, dtype: float64"
      ]
     },
     "execution_count": 76,
     "metadata": {},
     "output_type": "execute_result"
    }
   ],
   "source": [
    "df_train['UnitPrice'].describe()"
   ]
  },
  {
   "cell_type": "markdown",
   "metadata": {},
   "source": [
    "### Random Forest"
   ]
  },
  {
   "cell_type": "code",
   "execution_count": 77,
   "metadata": {},
   "outputs": [],
   "source": [
    "from sklearn.ensemble import RandomForestRegressor\n",
    "from sklearn.model_selection import train_test_split\n",
    "X_train, X_test, y_train, y_test = train_test_split(X, y, test_size=0.3, random_state=0)"
   ]
  },
  {
   "cell_type": "code",
   "execution_count": 78,
   "metadata": {},
   "outputs": [],
   "source": [
    "regressor=RandomForestRegressor()"
   ]
  },
  {
   "cell_type": "code",
   "execution_count": 79,
   "metadata": {},
   "outputs": [
    {
     "name": "stdout",
     "output_type": "stream",
     "text": [
      "[100, 200, 300, 400, 500, 600, 700, 800, 900, 1000, 1100, 1200]\n"
     ]
    }
   ],
   "source": [
    "n_estimators = [int(x) for x in np.linspace(start = 100, stop = 1200, num = 12)]\n",
    "print(n_estimators)"
   ]
  },
  {
   "cell_type": "code",
   "execution_count": 80,
   "metadata": {},
   "outputs": [],
   "source": [
    "from sklearn.model_selection import RandomizedSearchCV"
   ]
  },
  {
   "cell_type": "code",
   "execution_count": 81,
   "metadata": {},
   "outputs": [],
   "source": [
    "#Randomized Search CV\n",
    "\n",
    "# Number of trees in random forest\n",
    "n_estimators = [int(x) for x in np.linspace(start = 100, stop = 1200, num = 12)]\n",
    "# Number of features to consider at every split\n",
    "max_features = ['auto', 'sqrt']\n",
    "# Maximum number of levels in tree\n",
    "max_depth = [int(x) for x in np.linspace(5, 30, num = 6)]\n",
    "# max_depth.append(None)\n",
    "# Minimum number of samples required to split a node\n",
    "min_samples_split = [2, 5, 10, 15, 100]\n",
    "# Minimum number of samples required at each leaf node\n",
    "min_samples_leaf = [1, 2, 5, 10]"
   ]
  },
  {
   "cell_type": "code",
   "execution_count": 82,
   "metadata": {},
   "outputs": [
    {
     "name": "stdout",
     "output_type": "stream",
     "text": [
      "{'n_estimators': [100, 200, 300, 400, 500, 600, 700, 800, 900, 1000, 1100, 1200], 'max_features': ['auto', 'sqrt'], 'max_depth': [5, 10, 15, 20, 25, 30], 'min_samples_split': [2, 5, 10, 15, 100], 'min_samples_leaf': [1, 2, 5, 10]}\n"
     ]
    }
   ],
   "source": [
    "# Create the random grid\n",
    "random_grid = {'n_estimators': n_estimators,\n",
    "               'max_features': max_features,\n",
    "               'max_depth': max_depth,\n",
    "               'min_samples_split': min_samples_split,\n",
    "               'min_samples_leaf': min_samples_leaf}\n",
    "\n",
    "print(random_grid)"
   ]
  },
  {
   "cell_type": "code",
   "execution_count": 83,
   "metadata": {},
   "outputs": [],
   "source": [
    "# Use the random grid to search for best hyperparameters\n",
    "# First create the base model to tune\n",
    "rf = RandomForestRegressor()"
   ]
  },
  {
   "cell_type": "code",
   "execution_count": 84,
   "metadata": {},
   "outputs": [],
   "source": [
    "# Random search of parameters, using 3 fold cross validation, \n",
    "# search across 100 different combinations\n",
    "rf_random = RandomizedSearchCV(estimator = rf, param_distributions = random_grid,scoring='neg_mean_squared_error',\n",
    "                               n_iter = 10, cv = 5, verbose=2, random_state=42, n_jobs = 1)"
   ]
  },
  {
   "cell_type": "code",
   "execution_count": 85,
   "metadata": {
    "scrolled": true
   },
   "outputs": [
    {
     "name": "stdout",
     "output_type": "stream",
     "text": [
      "Fitting 5 folds for each of 10 candidates, totalling 50 fits\n",
      "[CV] n_estimators=900, min_samples_split=5, min_samples_leaf=5, max_features=sqrt, max_depth=10 \n"
     ]
    },
    {
     "name": "stderr",
     "output_type": "stream",
     "text": [
      "[Parallel(n_jobs=1)]: Using backend SequentialBackend with 1 concurrent workers.\n"
     ]
    },
    {
     "name": "stdout",
     "output_type": "stream",
     "text": [
      "[CV]  n_estimators=900, min_samples_split=5, min_samples_leaf=5, max_features=sqrt, max_depth=10, total= 3.1min\n",
      "[CV] n_estimators=900, min_samples_split=5, min_samples_leaf=5, max_features=sqrt, max_depth=10 \n"
     ]
    },
    {
     "name": "stderr",
     "output_type": "stream",
     "text": [
      "[Parallel(n_jobs=1)]: Done   1 out of   1 | elapsed:  3.1min remaining:    0.0s\n"
     ]
    },
    {
     "name": "stdout",
     "output_type": "stream",
     "text": [
      "[CV]  n_estimators=900, min_samples_split=5, min_samples_leaf=5, max_features=sqrt, max_depth=10, total= 3.1min\n",
      "[CV] n_estimators=900, min_samples_split=5, min_samples_leaf=5, max_features=sqrt, max_depth=10 \n",
      "[CV]  n_estimators=900, min_samples_split=5, min_samples_leaf=5, max_features=sqrt, max_depth=10, total= 3.1min\n",
      "[CV] n_estimators=900, min_samples_split=5, min_samples_leaf=5, max_features=sqrt, max_depth=10 \n",
      "[CV]  n_estimators=900, min_samples_split=5, min_samples_leaf=5, max_features=sqrt, max_depth=10, total= 3.1min\n",
      "[CV] n_estimators=900, min_samples_split=5, min_samples_leaf=5, max_features=sqrt, max_depth=10 \n",
      "[CV]  n_estimators=900, min_samples_split=5, min_samples_leaf=5, max_features=sqrt, max_depth=10, total= 3.1min\n",
      "[CV] n_estimators=1100, min_samples_split=10, min_samples_leaf=2, max_features=sqrt, max_depth=15 \n",
      "[CV]  n_estimators=1100, min_samples_split=10, min_samples_leaf=2, max_features=sqrt, max_depth=15, total= 5.7min\n",
      "[CV] n_estimators=1100, min_samples_split=10, min_samples_leaf=2, max_features=sqrt, max_depth=15 \n",
      "[CV]  n_estimators=1100, min_samples_split=10, min_samples_leaf=2, max_features=sqrt, max_depth=15, total= 5.4min\n",
      "[CV] n_estimators=1100, min_samples_split=10, min_samples_leaf=2, max_features=sqrt, max_depth=15 \n",
      "[CV]  n_estimators=1100, min_samples_split=10, min_samples_leaf=2, max_features=sqrt, max_depth=15, total= 5.4min\n",
      "[CV] n_estimators=1100, min_samples_split=10, min_samples_leaf=2, max_features=sqrt, max_depth=15 \n",
      "[CV]  n_estimators=1100, min_samples_split=10, min_samples_leaf=2, max_features=sqrt, max_depth=15, total= 5.2min\n",
      "[CV] n_estimators=1100, min_samples_split=10, min_samples_leaf=2, max_features=sqrt, max_depth=15 \n",
      "[CV]  n_estimators=1100, min_samples_split=10, min_samples_leaf=2, max_features=sqrt, max_depth=15, total= 5.0min\n",
      "[CV] n_estimators=300, min_samples_split=100, min_samples_leaf=5, max_features=auto, max_depth=15 \n",
      "[CV]  n_estimators=300, min_samples_split=100, min_samples_leaf=5, max_features=auto, max_depth=15, total= 6.3min\n",
      "[CV] n_estimators=300, min_samples_split=100, min_samples_leaf=5, max_features=auto, max_depth=15 \n",
      "[CV]  n_estimators=300, min_samples_split=100, min_samples_leaf=5, max_features=auto, max_depth=15, total= 6.1min\n",
      "[CV] n_estimators=300, min_samples_split=100, min_samples_leaf=5, max_features=auto, max_depth=15 \n",
      "[CV]  n_estimators=300, min_samples_split=100, min_samples_leaf=5, max_features=auto, max_depth=15, total= 6.3min\n",
      "[CV] n_estimators=300, min_samples_split=100, min_samples_leaf=5, max_features=auto, max_depth=15 \n",
      "[CV]  n_estimators=300, min_samples_split=100, min_samples_leaf=5, max_features=auto, max_depth=15, total= 6.1min\n",
      "[CV] n_estimators=300, min_samples_split=100, min_samples_leaf=5, max_features=auto, max_depth=15 \n",
      "[CV]  n_estimators=300, min_samples_split=100, min_samples_leaf=5, max_features=auto, max_depth=15, total= 6.3min\n",
      "[CV] n_estimators=400, min_samples_split=5, min_samples_leaf=5, max_features=auto, max_depth=15 \n",
      "[CV]  n_estimators=400, min_samples_split=5, min_samples_leaf=5, max_features=auto, max_depth=15, total= 8.4min\n",
      "[CV] n_estimators=400, min_samples_split=5, min_samples_leaf=5, max_features=auto, max_depth=15 \n",
      "[CV]  n_estimators=400, min_samples_split=5, min_samples_leaf=5, max_features=auto, max_depth=15, total= 8.2min\n",
      "[CV] n_estimators=400, min_samples_split=5, min_samples_leaf=5, max_features=auto, max_depth=15 \n",
      "[CV]  n_estimators=400, min_samples_split=5, min_samples_leaf=5, max_features=auto, max_depth=15, total= 8.4min\n",
      "[CV] n_estimators=400, min_samples_split=5, min_samples_leaf=5, max_features=auto, max_depth=15 \n",
      "[CV]  n_estimators=400, min_samples_split=5, min_samples_leaf=5, max_features=auto, max_depth=15, total= 8.2min\n",
      "[CV] n_estimators=400, min_samples_split=5, min_samples_leaf=5, max_features=auto, max_depth=15 \n",
      "[CV]  n_estimators=400, min_samples_split=5, min_samples_leaf=5, max_features=auto, max_depth=15, total= 8.3min\n",
      "[CV] n_estimators=700, min_samples_split=5, min_samples_leaf=10, max_features=auto, max_depth=20 \n",
      "[CV]  n_estimators=700, min_samples_split=5, min_samples_leaf=10, max_features=auto, max_depth=20, total=15.4min\n",
      "[CV] n_estimators=700, min_samples_split=5, min_samples_leaf=10, max_features=auto, max_depth=20 \n",
      "[CV]  n_estimators=700, min_samples_split=5, min_samples_leaf=10, max_features=auto, max_depth=20, total=14.3min\n",
      "[CV] n_estimators=700, min_samples_split=5, min_samples_leaf=10, max_features=auto, max_depth=20 \n",
      "[CV]  n_estimators=700, min_samples_split=5, min_samples_leaf=10, max_features=auto, max_depth=20, total=14.7min\n",
      "[CV] n_estimators=700, min_samples_split=5, min_samples_leaf=10, max_features=auto, max_depth=20 \n",
      "[CV]  n_estimators=700, min_samples_split=5, min_samples_leaf=10, max_features=auto, max_depth=20, total=15.0min\n",
      "[CV] n_estimators=700, min_samples_split=5, min_samples_leaf=10, max_features=auto, max_depth=20 \n",
      "[CV]  n_estimators=700, min_samples_split=5, min_samples_leaf=10, max_features=auto, max_depth=20, total=15.1min\n",
      "[CV] n_estimators=1000, min_samples_split=2, min_samples_leaf=1, max_features=sqrt, max_depth=25 \n",
      "[CV]  n_estimators=1000, min_samples_split=2, min_samples_leaf=1, max_features=sqrt, max_depth=25, total= 6.7min\n",
      "[CV] n_estimators=1000, min_samples_split=2, min_samples_leaf=1, max_features=sqrt, max_depth=25 \n",
      "[CV]  n_estimators=1000, min_samples_split=2, min_samples_leaf=1, max_features=sqrt, max_depth=25, total= 6.8min\n",
      "[CV] n_estimators=1000, min_samples_split=2, min_samples_leaf=1, max_features=sqrt, max_depth=25 \n",
      "[CV]  n_estimators=1000, min_samples_split=2, min_samples_leaf=1, max_features=sqrt, max_depth=25, total= 7.1min\n",
      "[CV] n_estimators=1000, min_samples_split=2, min_samples_leaf=1, max_features=sqrt, max_depth=25 \n",
      "[CV]  n_estimators=1000, min_samples_split=2, min_samples_leaf=1, max_features=sqrt, max_depth=25, total= 6.9min\n",
      "[CV] n_estimators=1000, min_samples_split=2, min_samples_leaf=1, max_features=sqrt, max_depth=25 \n",
      "[CV]  n_estimators=1000, min_samples_split=2, min_samples_leaf=1, max_features=sqrt, max_depth=25, total= 7.0min\n",
      "[CV] n_estimators=1100, min_samples_split=15, min_samples_leaf=10, max_features=sqrt, max_depth=5 \n",
      "[CV]  n_estimators=1100, min_samples_split=15, min_samples_leaf=10, max_features=sqrt, max_depth=5, total= 1.9min\n",
      "[CV] n_estimators=1100, min_samples_split=15, min_samples_leaf=10, max_features=sqrt, max_depth=5 \n",
      "[CV]  n_estimators=1100, min_samples_split=15, min_samples_leaf=10, max_features=sqrt, max_depth=5, total= 1.9min\n",
      "[CV] n_estimators=1100, min_samples_split=15, min_samples_leaf=10, max_features=sqrt, max_depth=5 \n",
      "[CV]  n_estimators=1100, min_samples_split=15, min_samples_leaf=10, max_features=sqrt, max_depth=5, total= 2.0min\n",
      "[CV] n_estimators=1100, min_samples_split=15, min_samples_leaf=10, max_features=sqrt, max_depth=5 \n",
      "[CV]  n_estimators=1100, min_samples_split=15, min_samples_leaf=10, max_features=sqrt, max_depth=5, total= 2.0min\n",
      "[CV] n_estimators=1100, min_samples_split=15, min_samples_leaf=10, max_features=sqrt, max_depth=5 \n",
      "[CV]  n_estimators=1100, min_samples_split=15, min_samples_leaf=10, max_features=sqrt, max_depth=5, total= 1.9min\n",
      "[CV] n_estimators=300, min_samples_split=15, min_samples_leaf=1, max_features=sqrt, max_depth=15 \n",
      "[CV]  n_estimators=300, min_samples_split=15, min_samples_leaf=1, max_features=sqrt, max_depth=15, total= 1.5min\n",
      "[CV] n_estimators=300, min_samples_split=15, min_samples_leaf=1, max_features=sqrt, max_depth=15 \n",
      "[CV]  n_estimators=300, min_samples_split=15, min_samples_leaf=1, max_features=sqrt, max_depth=15, total= 1.5min\n",
      "[CV] n_estimators=300, min_samples_split=15, min_samples_leaf=1, max_features=sqrt, max_depth=15 \n",
      "[CV]  n_estimators=300, min_samples_split=15, min_samples_leaf=1, max_features=sqrt, max_depth=15, total= 1.5min\n",
      "[CV] n_estimators=300, min_samples_split=15, min_samples_leaf=1, max_features=sqrt, max_depth=15 \n",
      "[CV]  n_estimators=300, min_samples_split=15, min_samples_leaf=1, max_features=sqrt, max_depth=15, total= 1.5min\n",
      "[CV] n_estimators=300, min_samples_split=15, min_samples_leaf=1, max_features=sqrt, max_depth=15 \n",
      "[CV]  n_estimators=300, min_samples_split=15, min_samples_leaf=1, max_features=sqrt, max_depth=15, total= 1.5min\n",
      "[CV] n_estimators=700, min_samples_split=10, min_samples_leaf=2, max_features=sqrt, max_depth=5 \n"
     ]
    },
    {
     "name": "stdout",
     "output_type": "stream",
     "text": [
      "[CV]  n_estimators=700, min_samples_split=10, min_samples_leaf=2, max_features=sqrt, max_depth=5, total= 1.2min\n",
      "[CV] n_estimators=700, min_samples_split=10, min_samples_leaf=2, max_features=sqrt, max_depth=5 \n",
      "[CV]  n_estimators=700, min_samples_split=10, min_samples_leaf=2, max_features=sqrt, max_depth=5, total= 1.2min\n",
      "[CV] n_estimators=700, min_samples_split=10, min_samples_leaf=2, max_features=sqrt, max_depth=5 \n",
      "[CV]  n_estimators=700, min_samples_split=10, min_samples_leaf=2, max_features=sqrt, max_depth=5, total= 1.2min\n",
      "[CV] n_estimators=700, min_samples_split=10, min_samples_leaf=2, max_features=sqrt, max_depth=5 \n",
      "[CV]  n_estimators=700, min_samples_split=10, min_samples_leaf=2, max_features=sqrt, max_depth=5, total= 1.2min\n",
      "[CV] n_estimators=700, min_samples_split=10, min_samples_leaf=2, max_features=sqrt, max_depth=5 \n",
      "[CV]  n_estimators=700, min_samples_split=10, min_samples_leaf=2, max_features=sqrt, max_depth=5, total= 1.2min\n",
      "[CV] n_estimators=700, min_samples_split=15, min_samples_leaf=1, max_features=auto, max_depth=20 \n",
      "[CV]  n_estimators=700, min_samples_split=15, min_samples_leaf=1, max_features=auto, max_depth=20, total=16.3min\n",
      "[CV] n_estimators=700, min_samples_split=15, min_samples_leaf=1, max_features=auto, max_depth=20 \n",
      "[CV]  n_estimators=700, min_samples_split=15, min_samples_leaf=1, max_features=auto, max_depth=20, total=15.1min\n",
      "[CV] n_estimators=700, min_samples_split=15, min_samples_leaf=1, max_features=auto, max_depth=20 \n",
      "[CV]  n_estimators=700, min_samples_split=15, min_samples_leaf=1, max_features=auto, max_depth=20, total=16.7min\n",
      "[CV] n_estimators=700, min_samples_split=15, min_samples_leaf=1, max_features=auto, max_depth=20 \n",
      "[CV]  n_estimators=700, min_samples_split=15, min_samples_leaf=1, max_features=auto, max_depth=20, total=15.8min\n",
      "[CV] n_estimators=700, min_samples_split=15, min_samples_leaf=1, max_features=auto, max_depth=20 \n",
      "[CV]  n_estimators=700, min_samples_split=15, min_samples_leaf=1, max_features=auto, max_depth=20, total=17.6min\n"
     ]
    },
    {
     "name": "stderr",
     "output_type": "stream",
     "text": [
      "[Parallel(n_jobs=1)]: Done  50 out of  50 | elapsed: 328.5min finished\n"
     ]
    },
    {
     "data": {
      "text/plain": [
       "RandomizedSearchCV(cv=5, estimator=RandomForestRegressor(), n_jobs=1,\n",
       "                   param_distributions={'max_depth': [5, 10, 15, 20, 25, 30],\n",
       "                                        'max_features': ['auto', 'sqrt'],\n",
       "                                        'min_samples_leaf': [1, 2, 5, 10],\n",
       "                                        'min_samples_split': [2, 5, 10, 15,\n",
       "                                                              100],\n",
       "                                        'n_estimators': [100, 200, 300, 400,\n",
       "                                                         500, 600, 700, 800,\n",
       "                                                         900, 1000, 1100,\n",
       "                                                         1200]},\n",
       "                   random_state=42, scoring='neg_mean_squared_error',\n",
       "                   verbose=2)"
      ]
     },
     "execution_count": 85,
     "metadata": {},
     "output_type": "execute_result"
    }
   ],
   "source": [
    "rf_random.fit(X_train,y_train)"
   ]
  },
  {
   "cell_type": "code",
   "execution_count": 86,
   "metadata": {},
   "outputs": [
    {
     "data": {
      "text/plain": [
       "{'n_estimators': 700,\n",
       " 'min_samples_split': 10,\n",
       " 'min_samples_leaf': 2,\n",
       " 'max_features': 'sqrt',\n",
       " 'max_depth': 5}"
      ]
     },
     "execution_count": 86,
     "metadata": {},
     "output_type": "execute_result"
    }
   ],
   "source": [
    "rf_random.best_params_"
   ]
  },
  {
   "cell_type": "code",
   "execution_count": 87,
   "metadata": {},
   "outputs": [
    {
     "data": {
      "text/plain": [
       "-6544.210104766312"
      ]
     },
     "execution_count": 87,
     "metadata": {},
     "output_type": "execute_result"
    }
   ],
   "source": [
    "rf_random.best_score_"
   ]
  },
  {
   "cell_type": "code",
   "execution_count": 88,
   "metadata": {},
   "outputs": [],
   "source": [
    "predictions=rf_random.predict(X_test)"
   ]
  },
  {
   "cell_type": "code",
   "execution_count": 89,
   "metadata": {},
   "outputs": [
    {
     "data": {
      "text/plain": [
       "<AxesSubplot:xlabel='UnitPrice'>"
      ]
     },
     "execution_count": 89,
     "metadata": {},
     "output_type": "execute_result"
    },
    {
     "data": {
      "image/png": "[encoded data removed]",
      "text/plain": [
       "<Figure size 432x288 with 1 Axes>"
      ]
     },
     "metadata": {
      "needs_background": "light"
     },
     "output_type": "display_data"
    }
   ],
   "source": [
    "sns.distplot(y_test-predictions)"
   ]
  },
  {
   "cell_type": "code",
   "execution_count": 90,
   "metadata": {},
   "outputs": [
    {
     "data": {
      "text/plain": [
       "<matplotlib.collections.PathCollection at 0x1f78007c588>"
      ]
     },
     "execution_count": 90,
     "metadata": {},
     "output_type": "execute_result"
    },
    {
     "data": {
      "image/png": "[encoded data removed]",
      "text/plain": [
       "<Figure size 432x288 with 1 Axes>"
      ]
     },
     "metadata": {
      "needs_background": "light"
     },
     "output_type": "display_data"
    }
   ],
   "source": [
    "plt.scatter(y_test,predictions)"
   ]
  },
  {
   "cell_type": "code",
   "execution_count": 91,
   "metadata": {},
   "outputs": [],
   "source": [
    "import pickle\n",
    "# open a file, where you ant to store the data\n",
    "file = open('random_forest_regression_model3.pkl', 'wb')\n",
    "\n",
    "# dump information to that file\n",
    "pickle.dump(rf_random, file)"
   ]
  },
  {
   "cell_type": "code",
   "execution_count": 108,
   "metadata": {},
   "outputs": [],
   "source": [
    "cols_remove_test =[  'InvoiceDate','weekday']"
   ]
  },
  {
   "cell_type": "code",
   "execution_count": 96,
   "metadata": {},
   "outputs": [
    {
     "name": "stdout",
     "output_type": "stream",
     "text": [
      "<class 'pandas.core.frame.DataFrame'>\n",
      "RangeIndex: 122049 entries, 0 to 122048\n",
      "Data columns (total 23 columns):\n",
      " #   Column                                 Non-Null Count   Dtype  \n",
      "---  ------                                 --------------   -----  \n",
      " 0   InvoiceNo                              122049 non-null  int64  \n",
      " 1   StockCode                              122049 non-null  int64  \n",
      " 2   Description                            122049 non-null  int64  \n",
      " 3   Quantity                               122049 non-null  int64  \n",
      " 4   InvoiceDate                            122049 non-null  object \n",
      " 5   CustomerID                             122049 non-null  int64  \n",
      " 6   Country                                122049 non-null  int64  \n",
      " 7   Invoice_Stock_Description              122049 non-null  int64  \n",
      " 8   InvoiceAge                             122049 non-null  float64\n",
      " 9   weekday                                122049 non-null  object \n",
      " 10  weekday_ordinal                        122049 non-null  int64  \n",
      " 11  CustomerID_freq                        122049 non-null  int64  \n",
      " 12  InvoiceNo_freq                         122049 non-null  int64  \n",
      " 13  StockCode_freq                         122049 non-null  int64  \n",
      " 14  Quantity_freq                          122049 non-null  int64  \n",
      " 15  InvoiceDate_freq                       122049 non-null  int64  \n",
      " 16  mean_InvoiceNo_ordinal_encode          122049 non-null  float64\n",
      " 17  mean_StockCode_ordinal_encode          122049 non-null  float64\n",
      " 18  mean_Description_ordinal_encode        122049 non-null  float64\n",
      " 19  mean_InvoiceDate_ordinal_encode        122049 non-null  float64\n",
      " 20  mean_CustomerID_ordinal_encode         122049 non-null  float64\n",
      " 21  mean_Country_ordinal_encode            122049 non-null  float64\n",
      " 22  mean_Invoice_Stock_Description_encode  122049 non-null  float64\n",
      "dtypes: float64(8), int64(13), object(2)\n",
      "memory usage: 21.4+ MB\n"
     ]
    }
   ],
   "source": [
    "df_test.info()"
   ]
  },
  {
   "cell_type": "code",
   "execution_count": 97,
   "metadata": {},
   "outputs": [
    {
     "data": {
      "text/plain": [
       "Index(['InvoiceNo', 'StockCode', 'Description', 'Quantity', 'CustomerID',\n",
       "       'Country', 'Invoice_Stock_Description', 'InvoiceAge', 'weekday_ordinal',\n",
       "       'CustomerID_freq', 'InvoiceNo_freq', 'StockCode_freq', 'Quantity_freq',\n",
       "       'InvoiceDate_freq', 'mean_Country_ordinal_encode',\n",
       "       'mean_InvoiceNo_ordinal_encode', 'mean_StockCode_ordinal_encode',\n",
       "       'mean_Description_ordinal_encode', 'mean_InvoiceDate_ordinal_encode',\n",
       "       'mean_CustomerID_ordinal_encode',\n",
       "       'mean_Invoice_Stock_Description_encode'],\n",
       "      dtype='object')"
      ]
     },
     "execution_count": 97,
     "metadata": {},
     "output_type": "execute_result"
    }
   ],
   "source": [
    "X_train.columns"
   ]
  },
  {
   "cell_type": "code",
   "execution_count": 109,
   "metadata": {},
   "outputs": [],
   "source": [
    "df_test1 = df_test.drop(cols_remove_test,axis=1)"
   ]
  },
  {
   "cell_type": "code",
   "execution_count": 110,
   "metadata": {},
   "outputs": [],
   "source": [
    "y_pred=rf_random.predict(df_test1)"
   ]
  },
  {
   "cell_type": "code",
   "execution_count": 111,
   "metadata": {},
   "outputs": [],
   "source": [
    "##Create Sample Submission file and Submit using ANN\n",
    "pred=pd.DataFrame(y_pred)\n",
    "#sub_df=pd.read_csv('sample_submission.csv')\n",
    "datasets=pd.concat([pred],axis=1)\n",
    "datasets.columns=['UnitPrice']\n",
    "datasets.to_csv('sample_submission3_rf.csv',index=False)"
   ]
  },
  {
   "cell_type": "markdown",
   "metadata": {},
   "source": [
    "### KNN"
   ]
  },
  {
   "cell_type": "code",
   "execution_count": null,
   "metadata": {},
   "outputs": [],
   "source": [
    "# Using K_Nearest neighbour regressor\n",
    "# running for different K values to know which yields the max accuracy.\n",
    "from sklearn.neighbors import KNeighborsRegressor\n",
    "score = []\n",
    "for k in range(1,20):    \n",
    "    clf = KNeighborsRegressor(n_neighbors = k,  weights = 'distance', p=1)\n",
    "    clf.fit(X_train, y_train)\n",
    "    score.append(clf.score(X_test,y_test))"
   ]
  },
  {
   "cell_type": "code",
   "execution_count": null,
   "metadata": {},
   "outputs": [],
   "source": [
    "k_max = score.index(max(score))+1\n",
    "print( \"At K = {}, Max Accuracy = {}\".format(k_max, max(score)*100))"
   ]
  },
  {
   "cell_type": "code",
   "execution_count": 113,
   "metadata": {},
   "outputs": [],
   "source": [
    "from sklearn.linear_model import LinearRegression\n",
    "from sklearn.linear_model import Lasso\n",
    "from sklearn.linear_model import ElasticNet\n",
    "from sklearn.tree import DecisionTreeRegressor\n",
    "from sklearn.neighbors import KNeighborsRegressor\n",
    "from sklearn.ensemble import GradientBoostingRegressor\n",
    "from sklearn.preprocessing import MinMaxScaler\n",
    "from sklearn.model_selection import KFold\n",
    "from sklearn.model_selection import cross_val_score\n",
    "\n",
    "import warnings\n",
    "warnings.filterwarnings(\"ignore\")"
   ]
  },
  {
   "cell_type": "code",
   "execution_count": 114,
   "metadata": {},
   "outputs": [],
   "source": [
    "from sklearn.pipeline import Pipeline\n",
    "pipelines = []\n",
    "pipelines.append(('ScaledLR', Pipeline([('Scaler', MinMaxScaler()),('LR',LinearRegression())])))\n",
    "pipelines.append(('ScaledLASSO', Pipeline([('Scaler', MinMaxScaler()),('LASSO', Lasso())])))\n",
    "pipelines.append(('ScaledEN', Pipeline([('Scaler', MinMaxScaler()),('EN', ElasticNet())])))\n",
    "pipelines.append(('ScaledKNN', Pipeline([('Scaler', MinMaxScaler()),('KNN', KNeighborsRegressor())])))\n",
    "pipelines.append(('ScaledCART', Pipeline([('Scaler', MinMaxScaler()),('CART', DecisionTreeRegressor())])))\n",
    "pipelines.append(('ScaledGBM', Pipeline([('Scaler', MinMaxScaler()),('GBM', GradientBoostingRegressor())])))"
   ]
  },
  {
   "cell_type": "code",
   "execution_count": 115,
   "metadata": {},
   "outputs": [
    {
     "data": {
      "text/html": [
       "<div>\n",
       "<style scoped>\n",
       "    .dataframe tbody tr th:only-of-type {\n",
       "        vertical-align: middle;\n",
       "    }\n",
       "\n",
       "    .dataframe tbody tr th {\n",
       "        vertical-align: top;\n",
       "    }\n",
       "\n",
       "    .dataframe thead th {\n",
       "        text-align: right;\n",
       "    }\n",
       "</style>\n",
       "<table border=\"1\" class=\"dataframe\">\n",
       "  <thead>\n",
       "    <tr style=\"text-align: right;\">\n",
       "      <th></th>\n",
       "      <th>InvoiceNo</th>\n",
       "      <th>StockCode</th>\n",
       "      <th>Description</th>\n",
       "      <th>Quantity</th>\n",
       "      <th>CustomerID</th>\n",
       "      <th>Country</th>\n",
       "      <th>Invoice_Stock_Description</th>\n",
       "      <th>InvoiceAge</th>\n",
       "      <th>weekday_ordinal</th>\n",
       "      <th>CustomerID_freq</th>\n",
       "      <th>...</th>\n",
       "      <th>StockCode_freq</th>\n",
       "      <th>Quantity_freq</th>\n",
       "      <th>InvoiceDate_freq</th>\n",
       "      <th>mean_Country_ordinal_encode</th>\n",
       "      <th>mean_InvoiceNo_ordinal_encode</th>\n",
       "      <th>mean_StockCode_ordinal_encode</th>\n",
       "      <th>mean_Description_ordinal_encode</th>\n",
       "      <th>mean_InvoiceDate_ordinal_encode</th>\n",
       "      <th>mean_CustomerID_ordinal_encode</th>\n",
       "      <th>mean_Invoice_Stock_Description_encode</th>\n",
       "    </tr>\n",
       "  </thead>\n",
       "  <tbody>\n",
       "    <tr>\n",
       "      <th>270280</th>\n",
       "      <td>8906</td>\n",
       "      <td>2892</td>\n",
       "      <td>1170</td>\n",
       "      <td>3</td>\n",
       "      <td>15555</td>\n",
       "      <td>253253</td>\n",
       "      <td>30134697840</td>\n",
       "      <td>9.626718</td>\n",
       "      <td>7</td>\n",
       "      <td>649</td>\n",
       "      <td>...</td>\n",
       "      <td>78</td>\n",
       "      <td>18794</td>\n",
       "      <td>663</td>\n",
       "      <td>3.239283</td>\n",
       "      <td>1.240286</td>\n",
       "      <td>0.657436</td>\n",
       "      <td>0.657436</td>\n",
       "      <td>3.170347</td>\n",
       "      <td>1.718521</td>\n",
       "      <td>0.65</td>\n",
       "    </tr>\n",
       "    <tr>\n",
       "      <th>244522</th>\n",
       "      <td>479</td>\n",
       "      <td>1713</td>\n",
       "      <td>1561</td>\n",
       "      <td>12</td>\n",
       "      <td>15194</td>\n",
       "      <td>253253</td>\n",
       "      <td>1280842647</td>\n",
       "      <td>10.445352</td>\n",
       "      <td>1</td>\n",
       "      <td>222</td>\n",
       "      <td>...</td>\n",
       "      <td>347</td>\n",
       "      <td>42076</td>\n",
       "      <td>1364</td>\n",
       "      <td>3.239283</td>\n",
       "      <td>1.992143</td>\n",
       "      <td>2.088300</td>\n",
       "      <td>2.088300</td>\n",
       "      <td>3.072119</td>\n",
       "      <td>2.573243</td>\n",
       "      <td>2.10</td>\n",
       "    </tr>\n",
       "    <tr>\n",
       "      <th>229707</th>\n",
       "      <td>12699</td>\n",
       "      <td>2129</td>\n",
       "      <td>3100</td>\n",
       "      <td>4</td>\n",
       "      <td>16485</td>\n",
       "      <td>253253</td>\n",
       "      <td>83812130100</td>\n",
       "      <td>9.164012</td>\n",
       "      <td>2</td>\n",
       "      <td>31</td>\n",
       "      <td>...</td>\n",
       "      <td>373</td>\n",
       "      <td>22609</td>\n",
       "      <td>1344</td>\n",
       "      <td>3.239283</td>\n",
       "      <td>3.314194</td>\n",
       "      <td>0.558606</td>\n",
       "      <td>0.558606</td>\n",
       "      <td>2.860000</td>\n",
       "      <td>3.314194</td>\n",
       "      <td>0.55</td>\n",
       "    </tr>\n",
       "    <tr>\n",
       "      <th>52043</th>\n",
       "      <td>15793</td>\n",
       "      <td>162</td>\n",
       "      <td>1781</td>\n",
       "      <td>2</td>\n",
       "      <td>12893</td>\n",
       "      <td>253253</td>\n",
       "      <td>4556627946</td>\n",
       "      <td>9.196867</td>\n",
       "      <td>5</td>\n",
       "      <td>23</td>\n",
       "      <td>...</td>\n",
       "      <td>355</td>\n",
       "      <td>40721</td>\n",
       "      <td>1571</td>\n",
       "      <td>3.239283</td>\n",
       "      <td>2.363043</td>\n",
       "      <td>2.029014</td>\n",
       "      <td>2.029014</td>\n",
       "      <td>2.833991</td>\n",
       "      <td>2.363043</td>\n",
       "      <td>2.08</td>\n",
       "    </tr>\n",
       "    <tr>\n",
       "      <th>47676</th>\n",
       "      <td>5026</td>\n",
       "      <td>987</td>\n",
       "      <td>2324</td>\n",
       "      <td>18</td>\n",
       "      <td>15367</td>\n",
       "      <td>253253</td>\n",
       "      <td>11528578488</td>\n",
       "      <td>9.300907</td>\n",
       "      <td>7</td>\n",
       "      <td>70</td>\n",
       "      <td>...</td>\n",
       "      <td>255</td>\n",
       "      <td>1112</td>\n",
       "      <td>723</td>\n",
       "      <td>3.239283</td>\n",
       "      <td>2.277143</td>\n",
       "      <td>2.907647</td>\n",
       "      <td>2.907647</td>\n",
       "      <td>6.089129</td>\n",
       "      <td>3.103286</td>\n",
       "      <td>2.95</td>\n",
       "    </tr>\n",
       "  </tbody>\n",
       "</table>\n",
       "<p>5 rows × 21 columns</p>\n",
       "</div>"
      ],
      "text/plain": [
       "        InvoiceNo  StockCode  Description  Quantity  CustomerID  Country  \\\n",
       "270280       8906       2892         1170         3       15555   253253   \n",
       "244522        479       1713         1561        12       15194   253253   \n",
       "229707      12699       2129         3100         4       16485   253253   \n",
       "52043       15793        162         1781         2       12893   253253   \n",
       "47676        5026        987         2324        18       15367   253253   \n",
       "\n",
       "        Invoice_Stock_Description  InvoiceAge  weekday_ordinal  \\\n",
       "270280                30134697840    9.626718                7   \n",
       "244522                 1280842647   10.445352                1   \n",
       "229707                83812130100    9.164012                2   \n",
       "52043                  4556627946    9.196867                5   \n",
       "47676                 11528578488    9.300907                7   \n",
       "\n",
       "        CustomerID_freq  ...  StockCode_freq  Quantity_freq  InvoiceDate_freq  \\\n",
       "270280              649  ...              78          18794               663   \n",
       "244522              222  ...             347          42076              1364   \n",
       "229707               31  ...             373          22609              1344   \n",
       "52043                23  ...             355          40721              1571   \n",
       "47676                70  ...             255           1112               723   \n",
       "\n",
       "        mean_Country_ordinal_encode  mean_InvoiceNo_ordinal_encode  \\\n",
       "270280                     3.239283                       1.240286   \n",
       "244522                     3.239283                       1.992143   \n",
       "229707                     3.239283                       3.314194   \n",
       "52043                      3.239283                       2.363043   \n",
       "47676                      3.239283                       2.277143   \n",
       "\n",
       "        mean_StockCode_ordinal_encode  mean_Description_ordinal_encode  \\\n",
       "270280                       0.657436                         0.657436   \n",
       "244522                       2.088300                         2.088300   \n",
       "229707                       0.558606                         0.558606   \n",
       "52043                        2.029014                         2.029014   \n",
       "47676                        2.907647                         2.907647   \n",
       "\n",
       "        mean_InvoiceDate_ordinal_encode  mean_CustomerID_ordinal_encode  \\\n",
       "270280                         3.170347                        1.718521   \n",
       "244522                         3.072119                        2.573243   \n",
       "229707                         2.860000                        3.314194   \n",
       "52043                          2.833991                        2.363043   \n",
       "47676                          6.089129                        3.103286   \n",
       "\n",
       "        mean_Invoice_Stock_Description_encode  \n",
       "270280                                   0.65  \n",
       "244522                                   2.10  \n",
       "229707                                   0.55  \n",
       "52043                                    2.08  \n",
       "47676                                    2.95  \n",
       "\n",
       "[5 rows x 21 columns]"
      ]
     },
     "execution_count": 115,
     "metadata": {},
     "output_type": "execute_result"
    }
   ],
   "source": [
    "X_train.head()"
   ]
  },
  {
   "cell_type": "code",
   "execution_count": null,
   "metadata": {},
   "outputs": [],
   "source": []
  },
  {
   "cell_type": "code",
   "execution_count": 116,
   "metadata": {},
   "outputs": [
    {
     "name": "stdout",
     "output_type": "stream",
     "text": [
      "ScaledLR: nan (nan)\n",
      "ScaledLASSO: -8376.126642 (22710.327608)\n",
      "ScaledEN: -8376.126642 (22710.327608)\n",
      "ScaledKNN: -6757.530150 (18328.602902)\n",
      "ScaledCART: -5013.219800 (14225.955083)\n",
      "ScaledGBM: -5801.602792 (16756.833774)\n"
     ]
    }
   ],
   "source": [
    "results = []\n",
    "names = []\n",
    "for name, model in pipelines:\n",
    "    kfold = KFold(n_splits=10, random_state=21)\n",
    "    cv_results = cross_val_score(model, X_train, y_train, cv=kfold, scoring='neg_mean_squared_error')\n",
    "    results.append(cv_results)\n",
    "    names.append(name)\n",
    "    msg = \"%s: %f (%f)\" % (name, cv_results.mean(), cv_results.std())\n",
    "    print(msg)"
   ]
  },
  {
   "cell_type": "code",
   "execution_count": null,
   "metadata": {},
   "outputs": [],
   "source": [
    "clf = KNeighborsRegressor(n_neighbors = k_max,  weights = 'distance', p=1)\n",
    "clf.fit(X_train, y_train)\n",
    "print(clf.score(X_test, y_test ))   \n",
    "y_pred = clf.predict(X_test)"
   ]
  },
  {
   "cell_type": "code",
   "execution_count": null,
   "metadata": {},
   "outputs": [],
   "source": [
    "import joblib\n",
    "# save the model to disk\n",
    "filename = 'KNN_Regressor_model2.sav'\n",
    "joblib.dump(model, filename)"
   ]
  },
  {
   "cell_type": "code",
   "execution_count": null,
   "metadata": {},
   "outputs": [],
   "source": [
    "y_pred=rf_random.predict(df_test1)"
   ]
  },
  {
   "cell_type": "code",
   "execution_count": null,
   "metadata": {},
   "outputs": [],
   "source": [
    "##Create Sample Submission file and Submit using ANN\n",
    "pred=pd.DataFrame(y_pred)\n",
    "#sub_df=pd.read_csv('sample_submission.csv')\n",
    "datasets=pd.concat([pred],axis=1)\n",
    "datasets.columns=['UnitPrice']\n",
    "datasets.to_csv('sample_submission3_rf.csv',index=False)"
   ]
  },
  {
   "cell_type": "markdown",
   "metadata": {},
   "source": [
    "### LGBM"
   ]
  },
  {
   "cell_type": "code",
   "execution_count": null,
   "metadata": {},
   "outputs": [],
   "source": [
    "def model(train_x,train_y):\n",
    "    params = {\n",
    "        'nthread': 10,\n",
    "         'max_depth': 10,\n",
    "        'task': 'train',\n",
    "        'boosting_type': 'gbdt',\n",
    "        'objective': 'regression_l1',\n",
    "        'metric': 'rmse', # this is abs(a-e)/max(1,a)\n",
    "\n",
    "        'num_leaves': 64,\n",
    "        'learning_rate': 0.2,\n",
    "       'feature_fraction': 0.9,\n",
    "       'bagging_fraction': 0.8,\n",
    "        'bagging_freq': 15,\n",
    "        'lambda_l1': 3.097758978478437,\n",
    "        'lambda_l2': 2.9482537987198496,\n",
    "        'verbose': 1,\n",
    "        'min_child_weight': 6.996211413900573,\n",
    "        'min_split_gain': 0.037310344962162616,\n",
    "        }\n",
    "    \n",
    "    lgb_train = lgb.Dataset(train_x,train_y)\n",
    "    model = lgb.train(params, lgb_train, 3000)\n",
    "    y_test = model.predict(test_data_x)\n",
    "    return y_test,model"
   ]
  },
  {
   "cell_type": "code",
   "execution_count": null,
   "metadata": {},
   "outputs": [],
   "source": [
    "y_test, model = model(train_data_x,train_data_y)"
   ]
  },
  {
   "cell_type": "code",
   "execution_count": null,
   "metadata": {},
   "outputs": [],
   "source": [
    "import pandas as pd\n",
    "y_test=pd.DataFrame(y_test)\n",
    "y_test.columns= ['UnitPrice']\n",
    "y_test.to_csv('submission_lgbm2.csv',index=False)"
   ]
  },
  {
   "cell_type": "markdown",
   "metadata": {},
   "source": [
    "### ANN"
   ]
  },
  {
   "cell_type": "code",
   "execution_count": 117,
   "metadata": {},
   "outputs": [
    {
     "data": {
      "text/html": [
       "<div>\n",
       "<style scoped>\n",
       "    .dataframe tbody tr th:only-of-type {\n",
       "        vertical-align: middle;\n",
       "    }\n",
       "\n",
       "    .dataframe tbody tr th {\n",
       "        vertical-align: top;\n",
       "    }\n",
       "\n",
       "    .dataframe thead th {\n",
       "        text-align: right;\n",
       "    }\n",
       "</style>\n",
       "<table border=\"1\" class=\"dataframe\">\n",
       "  <thead>\n",
       "    <tr style=\"text-align: right;\">\n",
       "      <th></th>\n",
       "      <th>InvoiceNo</th>\n",
       "      <th>StockCode</th>\n",
       "      <th>Description</th>\n",
       "      <th>Quantity</th>\n",
       "      <th>InvoiceDate</th>\n",
       "      <th>UnitPrice</th>\n",
       "      <th>CustomerID</th>\n",
       "      <th>Country</th>\n",
       "      <th>Invoice_Stock_Description</th>\n",
       "      <th>InvoiceAge</th>\n",
       "      <th>...</th>\n",
       "      <th>StockCode_freq</th>\n",
       "      <th>Quantity_freq</th>\n",
       "      <th>InvoiceDate_freq</th>\n",
       "      <th>mean_Country_ordinal_encode</th>\n",
       "      <th>mean_InvoiceNo_ordinal_encode</th>\n",
       "      <th>mean_StockCode_ordinal_encode</th>\n",
       "      <th>mean_Description_ordinal_encode</th>\n",
       "      <th>mean_InvoiceDate_ordinal_encode</th>\n",
       "      <th>mean_CustomerID_ordinal_encode</th>\n",
       "      <th>mean_Invoice_Stock_Description_encode</th>\n",
       "    </tr>\n",
       "  </thead>\n",
       "  <tbody>\n",
       "    <tr>\n",
       "      <th>0</th>\n",
       "      <td>6141</td>\n",
       "      <td>1583</td>\n",
       "      <td>144</td>\n",
       "      <td>3</td>\n",
       "      <td>2011-06-05</td>\n",
       "      <td>3.75</td>\n",
       "      <td>14056</td>\n",
       "      <td>253253</td>\n",
       "      <td>1399853232</td>\n",
       "      <td>9.465182</td>\n",
       "      <td>...</td>\n",
       "      <td>331</td>\n",
       "      <td>18794</td>\n",
       "      <td>901</td>\n",
       "      <td>3.239283</td>\n",
       "      <td>3.241765</td>\n",
       "      <td>3.745770</td>\n",
       "      <td>3.745770</td>\n",
       "      <td>2.939234</td>\n",
       "      <td>2.795714</td>\n",
       "      <td>3.75</td>\n",
       "    </tr>\n",
       "    <tr>\n",
       "      <th>1</th>\n",
       "      <td>6349</td>\n",
       "      <td>1300</td>\n",
       "      <td>3682</td>\n",
       "      <td>6</td>\n",
       "      <td>2011-11-05</td>\n",
       "      <td>1.95</td>\n",
       "      <td>13098</td>\n",
       "      <td>253253</td>\n",
       "      <td>30390123400</td>\n",
       "      <td>9.046282</td>\n",
       "      <td>...</td>\n",
       "      <td>194</td>\n",
       "      <td>26375</td>\n",
       "      <td>1030</td>\n",
       "      <td>3.239283</td>\n",
       "      <td>3.028519</td>\n",
       "      <td>1.972887</td>\n",
       "      <td>1.972887</td>\n",
       "      <td>3.307942</td>\n",
       "      <td>2.917792</td>\n",
       "      <td>1.95</td>\n",
       "    </tr>\n",
       "    <tr>\n",
       "      <th>2</th>\n",
       "      <td>16783</td>\n",
       "      <td>2178</td>\n",
       "      <td>1939</td>\n",
       "      <td>4</td>\n",
       "      <td>2011-11-20</td>\n",
       "      <td>5.95</td>\n",
       "      <td>15044</td>\n",
       "      <td>253253</td>\n",
       "      <td>70876992186</td>\n",
       "      <td>9.005213</td>\n",
       "      <td>...</td>\n",
       "      <td>317</td>\n",
       "      <td>22609</td>\n",
       "      <td>2190</td>\n",
       "      <td>3.239283</td>\n",
       "      <td>3.824634</td>\n",
       "      <td>5.896372</td>\n",
       "      <td>5.896372</td>\n",
       "      <td>2.573858</td>\n",
       "      <td>4.957427</td>\n",
       "      <td>5.95</td>\n",
       "    </tr>\n",
       "    <tr>\n",
       "      <th>3</th>\n",
       "      <td>16971</td>\n",
       "      <td>2115</td>\n",
       "      <td>2983</td>\n",
       "      <td>1</td>\n",
       "      <td>2011-11-22</td>\n",
       "      <td>0.83</td>\n",
       "      <td>15525</td>\n",
       "      <td>253253</td>\n",
       "      <td>107070802695</td>\n",
       "      <td>8.999737</td>\n",
       "      <td>...</td>\n",
       "      <td>328</td>\n",
       "      <td>51253</td>\n",
       "      <td>1999</td>\n",
       "      <td>3.239283</td>\n",
       "      <td>1.532857</td>\n",
       "      <td>0.824970</td>\n",
       "      <td>0.824970</td>\n",
       "      <td>2.756038</td>\n",
       "      <td>2.888281</td>\n",
       "      <td>0.83</td>\n",
       "    </tr>\n",
       "    <tr>\n",
       "      <th>4</th>\n",
       "      <td>6080</td>\n",
       "      <td>1210</td>\n",
       "      <td>2886</td>\n",
       "      <td>12</td>\n",
       "      <td>2011-06-05</td>\n",
       "      <td>1.65</td>\n",
       "      <td>13952</td>\n",
       "      <td>253253</td>\n",
       "      <td>21231724800</td>\n",
       "      <td>9.465182</td>\n",
       "      <td>...</td>\n",
       "      <td>114</td>\n",
       "      <td>42076</td>\n",
       "      <td>901</td>\n",
       "      <td>3.239283</td>\n",
       "      <td>3.426000</td>\n",
       "      <td>1.635965</td>\n",
       "      <td>1.635965</td>\n",
       "      <td>2.939234</td>\n",
       "      <td>3.778221</td>\n",
       "      <td>1.65</td>\n",
       "    </tr>\n",
       "  </tbody>\n",
       "</table>\n",
       "<p>5 rows × 24 columns</p>\n",
       "</div>"
      ],
      "text/plain": [
       "   InvoiceNo  StockCode  Description  Quantity InvoiceDate  UnitPrice  \\\n",
       "0       6141       1583          144         3  2011-06-05       3.75   \n",
       "1       6349       1300         3682         6  2011-11-05       1.95   \n",
       "2      16783       2178         1939         4  2011-11-20       5.95   \n",
       "3      16971       2115         2983         1  2011-11-22       0.83   \n",
       "4       6080       1210         2886        12  2011-06-05       1.65   \n",
       "\n",
       "   CustomerID  Country  Invoice_Stock_Description  InvoiceAge  ...  \\\n",
       "0       14056   253253                 1399853232    9.465182  ...   \n",
       "1       13098   253253                30390123400    9.046282  ...   \n",
       "2       15044   253253                70876992186    9.005213  ...   \n",
       "3       15525   253253               107070802695    8.999737  ...   \n",
       "4       13952   253253                21231724800    9.465182  ...   \n",
       "\n",
       "  StockCode_freq  Quantity_freq  InvoiceDate_freq  \\\n",
       "0            331          18794               901   \n",
       "1            194          26375              1030   \n",
       "2            317          22609              2190   \n",
       "3            328          51253              1999   \n",
       "4            114          42076               901   \n",
       "\n",
       "   mean_Country_ordinal_encode  mean_InvoiceNo_ordinal_encode  \\\n",
       "0                     3.239283                       3.241765   \n",
       "1                     3.239283                       3.028519   \n",
       "2                     3.239283                       3.824634   \n",
       "3                     3.239283                       1.532857   \n",
       "4                     3.239283                       3.426000   \n",
       "\n",
       "   mean_StockCode_ordinal_encode  mean_Description_ordinal_encode  \\\n",
       "0                       3.745770                         3.745770   \n",
       "1                       1.972887                         1.972887   \n",
       "2                       5.896372                         5.896372   \n",
       "3                       0.824970                         0.824970   \n",
       "4                       1.635965                         1.635965   \n",
       "\n",
       "   mean_InvoiceDate_ordinal_encode  mean_CustomerID_ordinal_encode  \\\n",
       "0                         2.939234                        2.795714   \n",
       "1                         3.307942                        2.917792   \n",
       "2                         2.573858                        4.957427   \n",
       "3                         2.756038                        2.888281   \n",
       "4                         2.939234                        3.778221   \n",
       "\n",
       "   mean_Invoice_Stock_Description_encode  \n",
       "0                                   3.75  \n",
       "1                                   1.95  \n",
       "2                                   5.95  \n",
       "3                                   0.83  \n",
       "4                                   1.65  \n",
       "\n",
       "[5 rows x 24 columns]"
      ]
     },
     "execution_count": 117,
     "metadata": {},
     "output_type": "execute_result"
    }
   ],
   "source": [
    "df_train.head()"
   ]
  },
  {
   "cell_type": "code",
   "execution_count": 119,
   "metadata": {},
   "outputs": [],
   "source": [
    "X=df_train.drop(['UnitPrice','InvoiceDate','weekday'],axis=1)\n",
    "y=df_train['UnitPrice']"
   ]
  },
  {
   "cell_type": "code",
   "execution_count": 120,
   "metadata": {},
   "outputs": [
    {
     "name": "stdout",
     "output_type": "stream",
     "text": [
      "<class 'pandas.core.frame.DataFrame'>\n",
      "RangeIndex: 284780 entries, 0 to 284779\n",
      "Data columns (total 21 columns):\n",
      " #   Column                                 Non-Null Count   Dtype  \n",
      "---  ------                                 --------------   -----  \n",
      " 0   InvoiceNo                              284780 non-null  int64  \n",
      " 1   StockCode                              284780 non-null  int64  \n",
      " 2   Description                            284780 non-null  int64  \n",
      " 3   Quantity                               284780 non-null  int64  \n",
      " 4   CustomerID                             284780 non-null  int64  \n",
      " 5   Country                                284780 non-null  int64  \n",
      " 6   Invoice_Stock_Description              284780 non-null  int64  \n",
      " 7   InvoiceAge                             284780 non-null  float64\n",
      " 8   weekday_ordinal                        284780 non-null  int64  \n",
      " 9   CustomerID_freq                        284780 non-null  int64  \n",
      " 10  InvoiceNo_freq                         284780 non-null  int64  \n",
      " 11  StockCode_freq                         284780 non-null  int64  \n",
      " 12  Quantity_freq                          284780 non-null  int64  \n",
      " 13  InvoiceDate_freq                       284780 non-null  int64  \n",
      " 14  mean_Country_ordinal_encode            284780 non-null  float64\n",
      " 15  mean_InvoiceNo_ordinal_encode          284780 non-null  float64\n",
      " 16  mean_StockCode_ordinal_encode          284780 non-null  float64\n",
      " 17  mean_Description_ordinal_encode        284780 non-null  float64\n",
      " 18  mean_InvoiceDate_ordinal_encode        284780 non-null  float64\n",
      " 19  mean_CustomerID_ordinal_encode         284780 non-null  float64\n",
      " 20  mean_Invoice_Stock_Description_encode  284780 non-null  float64\n",
      "dtypes: float64(8), int64(13)\n",
      "memory usage: 45.6 MB\n"
     ]
    }
   ],
   "source": [
    "X.info()"
   ]
  },
  {
   "cell_type": "code",
   "execution_count": 121,
   "metadata": {},
   "outputs": [
    {
     "name": "stdout",
     "output_type": "stream",
     "text": [
      "Epoch 1/100\n",
      "26200/26200 [==============================] - 20s 777us/step - loss: 346.0782\n",
      "Epoch 2/100\n",
      "26200/26200 [==============================] - 20s 776us/step - loss: 214.2820\n",
      "Epoch 3/100\n",
      "26200/26200 [==============================] - 21s 808us/step - loss: 177.5502\n",
      "Epoch 4/100\n",
      "26200/26200 [==============================] - 23s 877us/step - loss: 209.8353\n",
      "Epoch 5/100\n",
      "26200/26200 [==============================] - 20s 748us/step - loss: 77.3454\n",
      "Epoch 6/100\n",
      "26200/26200 [==============================] - 18s 704us/step - loss: 120.0843\n",
      "Epoch 7/100\n",
      "26200/26200 [==============================] - 18s 683us/step - loss: 158.1078\n",
      "Epoch 8/100\n",
      "26200/26200 [==============================] - 18s 701us/step - loss: 224.6571\n",
      "Epoch 9/100\n",
      "26200/26200 [==============================] - 19s 722us/step - loss: 198.4509\n",
      "Epoch 10/100\n",
      "26200/26200 [==============================] - 18s 703us/step - loss: 594.1517\n",
      "Epoch 11/100\n",
      "26200/26200 [==============================] - 21s 803us/step - loss: 483.2105\n",
      "Epoch 12/100\n",
      "26200/26200 [==============================] - 18s 669us/step - loss: 93.9707\n",
      "Epoch 13/100\n",
      "26200/26200 [==============================] - 18s 684us/step - loss: 90.7522\n",
      "Epoch 14/100\n",
      "26200/26200 [==============================] - 19s 711us/step - loss: 93.9893\n",
      "Epoch 15/100\n",
      "26200/26200 [==============================] - 18s 687us/step - loss: 114.2817\n",
      "Epoch 16/100\n",
      "26200/26200 [==============================] - 18s 690us/step - loss: 401.5385\n",
      "Epoch 17/100\n",
      "26200/26200 [==============================] - 18s 706us/step - loss: 282.8583\n",
      "Epoch 18/100\n",
      "26200/26200 [==============================] - 19s 731us/step - loss: 124.1861\n",
      "Epoch 19/100\n",
      "26200/26200 [==============================] - 19s 716us/step - loss: 76.1029\n",
      "Epoch 20/100\n",
      "26200/26200 [==============================] - 18s 700us/step - loss: 122.2958\n",
      "Epoch 21/100\n",
      "26200/26200 [==============================] - 18s 685us/step - loss: 312.8912\n",
      "Epoch 22/100\n",
      "26200/26200 [==============================] - 18s 694us/step - loss: 90.5717\n",
      "Epoch 23/100\n",
      "26200/26200 [==============================] - 18s 703us/step - loss: 343.0592\n",
      "Epoch 24/100\n",
      "26200/26200 [==============================] - 19s 727us/step - loss: 100.6914\n",
      "Epoch 25/100\n",
      "26200/26200 [==============================] - 19s 707us/step - loss: 143.7098\n",
      "Epoch 26/100\n",
      "26200/26200 [==============================] - 18s 687us/step - loss: 530.5560\n",
      "Epoch 27/100\n",
      "26200/26200 [==============================] - 18s 706us/step - loss: 1888.6105\n",
      "Epoch 28/100\n",
      "26200/26200 [==============================] - 19s 712us/step - loss: 76.8146\n",
      "Epoch 29/100\n",
      "26200/26200 [==============================] - 19s 714us/step - loss: 217.5948\n",
      "Epoch 30/100\n",
      "26200/26200 [==============================] - 18s 681us/step - loss: 270.2221\n",
      "Epoch 31/100\n",
      "26200/26200 [==============================] - 22s 824us/step - loss: 363.8068\n",
      "Epoch 32/100\n",
      "26200/26200 [==============================] - 20s 754us/step - loss: 82.3112\n",
      "Epoch 33/100\n",
      "26200/26200 [==============================] - 19s 720us/step - loss: 293.5350\n",
      "Epoch 34/100\n",
      "26200/26200 [==============================] - 19s 716us/step - loss: 316.9129\n",
      "Epoch 35/100\n",
      "26200/26200 [==============================] - 18s 697us/step - loss: 906.1377\n",
      "Epoch 36/100\n",
      "26200/26200 [==============================] - 19s 715us/step - loss: 379.6418\n",
      "Epoch 37/100\n",
      "26200/26200 [==============================] - 18s 698us/step - loss: 109.8530\n",
      "Epoch 38/100\n",
      "26200/26200 [==============================] - 18s 682us/step - loss: 194.7487\n",
      "Epoch 39/100\n",
      "26200/26200 [==============================] - 19s 744us/step - loss: 191.7191\n",
      "Epoch 40/100\n",
      "26200/26200 [==============================] - 18s 679us/step - loss: 544.4863\n",
      "Epoch 41/100\n",
      "26200/26200 [==============================] - 18s 675us/step - loss: 213.3495\n",
      "Epoch 42/100\n",
      "26200/26200 [==============================] - 18s 677us/step - loss: 266.3624\n",
      "Epoch 43/100\n",
      "26200/26200 [==============================] - 18s 678us/step - loss: 417.9087\n",
      "Epoch 44/100\n",
      "26200/26200 [==============================] - 18s 680us/step - loss: 125.8916\n",
      "Epoch 45/100\n",
      "26200/26200 [==============================] - 18s 674us/step - loss: 139.1427\n",
      "Epoch 46/100\n",
      "26200/26200 [==============================] - 18s 679us/step - loss: 112.9030\n",
      "Epoch 47/100\n",
      "26200/26200 [==============================] - 18s 677us/step - loss: 1235.0708\n",
      "Epoch 48/100\n",
      "26200/26200 [==============================] - 18s 681us/step - loss: 45.7051\n",
      "Epoch 49/100\n",
      "26200/26200 [==============================] - 18s 687us/step - loss: 88.4208\n",
      "Epoch 50/100\n",
      "26200/26200 [==============================] - 18s 685us/step - loss: 426.8454\n",
      "Epoch 51/100\n",
      "26200/26200 [==============================] - 18s 704us/step - loss: 58.0549\n",
      "Epoch 52/100\n",
      "26200/26200 [==============================] - 19s 723us/step - loss: 65.2647\n",
      "Epoch 53/100\n",
      "26200/26200 [==============================] - 18s 675us/step - loss: 172.4009\n",
      "Epoch 54/100\n",
      "26200/26200 [==============================] - 18s 676us/step - loss: 151.2473\n",
      "Epoch 55/100\n",
      "26200/26200 [==============================] - 17s 668us/step - loss: 449.1021\n",
      "Epoch 56/100\n",
      "26200/26200 [==============================] - 18s 697us/step - loss: 562.9068\n",
      "Epoch 57/100\n",
      "26200/26200 [==============================] - 17s 662us/step - loss: 63.8758\n",
      "Epoch 58/100\n",
      "26200/26200 [==============================] - 17s 657us/step - loss: 84.4768\n",
      "Epoch 59/100\n",
      "26200/26200 [==============================] - 19s 732us/step - loss: 90.4490\n",
      "Epoch 60/100\n",
      "26200/26200 [==============================] - 19s 727us/step - loss: 593.7341\n",
      "Epoch 61/100\n",
      "26200/26200 [==============================] - 17s 659us/step - loss: 412.2059\n",
      "Epoch 62/100\n",
      "26200/26200 [==============================] - 18s 678us/step - loss: 274.2187\n",
      "Epoch 63/100\n",
      "26200/26200 [==============================] - 19s 731us/step - loss: 145.9492\n",
      "Epoch 64/100\n",
      "26200/26200 [==============================] - 19s 744us/step - loss: 1533.6592\n",
      "Epoch 65/100\n",
      "26200/26200 [==============================] - 20s 780us/step - loss: 464.3632\n",
      "Epoch 66/100\n",
      "26200/26200 [==============================] - 21s 790us/step - loss: 62.5699\n",
      "Epoch 67/100\n",
      "26200/26200 [==============================] - 20s 760us/step - loss: 75.1603\n",
      "Epoch 68/100\n",
      "26200/26200 [==============================] - 21s 804us/step - loss: 229.9666\n",
      "Epoch 69/100\n",
      "26200/26200 [==============================] - 23s 863us/step - loss: 150.7744\n",
      "Epoch 70/100\n",
      "26200/26200 [==============================] - 21s 806us/step - loss: 319.3506\n",
      "Epoch 71/100\n",
      "26200/26200 [==============================] - 20s 753us/step - loss: 83.2808\n",
      "Epoch 72/100\n",
      "26200/26200 [==============================] - 22s 828us/step - loss: 155.0537\n",
      "Epoch 73/100\n",
      "26200/26200 [==============================] - 17s 661us/step - loss: 171.5366\n",
      "Epoch 74/100\n",
      "26200/26200 [==============================] - 18s 673us/step - loss: 188.0671\n",
      "Epoch 75/100\n",
      "26200/26200 [==============================] - 19s 712us/step - loss: 171.9767\n",
      "Epoch 76/100\n",
      "26200/26200 [==============================] - 18s 696us/step - loss: 1195.1688\n",
      "Epoch 77/100\n",
      "26200/26200 [==============================] - 18s 674us/step - loss: 226.4774\n",
      "Epoch 78/100\n",
      "26200/26200 [==============================] - 19s 709us/step - loss: 79.6906\n",
      "Epoch 79/100\n",
      "26200/26200 [==============================] - 18s 672us/step - loss: 109.3182\n",
      "Epoch 80/100\n",
      "26200/26200 [==============================] - 19s 717us/step - loss: 371.9703\n",
      "Epoch 81/100\n",
      "26200/26200 [==============================] - 18s 685us/step - loss: 107.3920\n",
      "Epoch 82/100\n",
      "26200/26200 [==============================] - 18s 690us/step - loss: 270.1596\n",
      "Epoch 83/100\n",
      "26200/26200 [==============================] - 19s 710us/step - loss: 53.9340\n",
      "Epoch 84/100\n",
      "26200/26200 [==============================] - 18s 701us/step - loss: 43.2436\n",
      "Epoch 85/100\n",
      "26200/26200 [==============================] - 18s 698us/step - loss: 620.4291\n",
      "Epoch 86/100\n",
      "26200/26200 [==============================] - 18s 690us/step - loss: 281.1194\n",
      "Epoch 87/100\n",
      "26200/26200 [==============================] - 19s 736us/step - loss: 51.4152\n",
      "Epoch 88/100\n",
      "26200/26200 [==============================] - 19s 724us/step - loss: 426.9838\n",
      "Epoch 89/100\n",
      "26200/26200 [==============================] - 18s 703us/step - loss: 242.8588\n",
      "Epoch 90/100\n"
     ]
    },
    {
     "name": "stdout",
     "output_type": "stream",
     "text": [
      "26200/26200 [==============================] - 18s 700us/step - loss: 73.8339\n",
      "Epoch 91/100\n",
      "26200/26200 [==============================] - 18s 695us/step - loss: 62.2875\n",
      "Epoch 92/100\n",
      "26200/26200 [==============================] - 18s 695us/step - loss: 75.9614\n",
      "Epoch 93/100\n",
      "26200/26200 [==============================] - 18s 699us/step - loss: 55.5401\n",
      "Epoch 94/100\n",
      "26200/26200 [==============================] - 19s 707us/step - loss: 121.0656\n",
      "Epoch 95/100\n",
      "26200/26200 [==============================] - 17s 666us/step - loss: 66.5697\n",
      "Epoch 96/100\n",
      "26200/26200 [==============================] - 17s 665us/step - loss: 54.0934\n",
      "Epoch 97/100\n",
      "26200/26200 [==============================] - 17s 666us/step - loss: 60.1959\n",
      "Epoch 98/100\n",
      "26200/26200 [==============================] - 18s 670us/step - loss: 76.8132\n",
      "Epoch 99/100\n",
      "26200/26200 [==============================] - 18s 668us/step - loss: 112.8380\n",
      "Epoch 100/100\n",
      "26200/26200 [==============================] - 17s 667us/step - loss: 48.4839\n"
     ]
    },
    {
     "data": {
      "text/plain": [
       "<tensorflow.python.keras.callbacks.History at 0x1f787e09bc8>"
      ]
     },
     "execution_count": 121,
     "metadata": {},
     "output_type": "execute_result"
    }
   ],
   "source": [
    "import numpy as np\n",
    "from keras.layers import Dense, Activation\n",
    "from keras.models import Sequential\n",
    "from sklearn.model_selection import train_test_split\n",
    "import matplotlib.pyplot as plt\n",
    "# Importing the dataset\n",
    "\n",
    "\n",
    "\n",
    "# Splitting the dataset into the Training set and Test set\n",
    "X_train, X_test, y_train, y_test = train_test_split(X, y, test_size = 0.08, random_state = 0)\n",
    "\n",
    "# Feature Scaling\n",
    "from sklearn.preprocessing import StandardScaler\n",
    "sc = StandardScaler()\n",
    "X_train = sc.fit_transform(X_train)\n",
    "X_test = sc.transform(X_test)\n",
    "\n",
    "# Initialising the ANN\n",
    "model = Sequential()\n",
    "\n",
    "# Adding the input layer and the first hidden layer\n",
    "model.add(Dense(32, activation = 'relu', input_dim = 21))\n",
    "\n",
    "# Adding the second hidden layer\n",
    "model.add(Dense(units = 32, activation = 'relu'))\n",
    "\n",
    "# Adding the third hidden layer\n",
    "model.add(Dense(units = 32, activation = 'relu'))\n",
    "\n",
    "# Adding the output layer\n",
    "\n",
    "model.add(Dense(units = 1))\n",
    "\n",
    "#model.add(Dense(1))\n",
    "# Compiling the ANN\n",
    "model.compile(optimizer = 'adam', loss = 'mean_squared_error')\n",
    "\n",
    "# Fitting the ANN to the Training set\n",
    "model.fit(X_train, y_train, batch_size = 10, epochs = 100)\n",
    "\n"
   ]
  },
  {
   "cell_type": "code",
   "execution_count": 122,
   "metadata": {},
   "outputs": [
    {
     "data": {
      "image/png": "[encoded data removed]",
      "text/plain": [
       "<Figure size 432x288 with 1 Axes>"
      ]
     },
     "metadata": {
      "needs_background": "light"
     },
     "output_type": "display_data"
    }
   ],
   "source": [
    "y_pred = model.predict(X_test)\n",
    "\n",
    "plt.plot(y_test, color = 'red', label = 'Real data')\n",
    "plt.plot(y_pred, color = 'blue', label = 'Predicted data')\n",
    "plt.title('Prediction')\n",
    "plt.legend()\n",
    "plt.show()"
   ]
  },
  {
   "cell_type": "code",
   "execution_count": 123,
   "metadata": {},
   "outputs": [
    {
     "data": {
      "text/plain": [
       "count    284780.000000\n",
       "mean          3.451216\n",
       "std          78.399541\n",
       "min           0.000000\n",
       "25%           1.250000\n",
       "50%           1.950000\n",
       "75%           3.750000\n",
       "max       38970.000000\n",
       "Name: UnitPrice, dtype: float64"
      ]
     },
     "execution_count": 123,
     "metadata": {},
     "output_type": "execute_result"
    }
   ],
   "source": [
    "y.describe()"
   ]
  },
  {
   "cell_type": "code",
   "execution_count": 128,
   "metadata": {},
   "outputs": [
    {
     "name": "stdout",
     "output_type": "stream",
     "text": [
      "<class 'pandas.core.frame.DataFrame'>\n",
      "RangeIndex: 122049 entries, 0 to 122048\n",
      "Data columns (total 21 columns):\n",
      " #   Column                                 Non-Null Count   Dtype  \n",
      "---  ------                                 --------------   -----  \n",
      " 0   InvoiceNo                              122049 non-null  int64  \n",
      " 1   StockCode                              122049 non-null  int64  \n",
      " 2   Description                            122049 non-null  int64  \n",
      " 3   Quantity                               122049 non-null  int64  \n",
      " 4   CustomerID                             122049 non-null  int64  \n",
      " 5   Country                                122049 non-null  int64  \n",
      " 6   Invoice_Stock_Description              122049 non-null  int64  \n",
      " 7   InvoiceAge                             122049 non-null  float64\n",
      " 8   weekday_ordinal                        122049 non-null  int64  \n",
      " 9   CustomerID_freq                        122049 non-null  int64  \n",
      " 10  InvoiceNo_freq                         122049 non-null  int64  \n",
      " 11  StockCode_freq                         122049 non-null  int64  \n",
      " 12  Quantity_freq                          122049 non-null  int64  \n",
      " 13  InvoiceDate_freq                       122049 non-null  int64  \n",
      " 14  mean_InvoiceNo_ordinal_encode          122049 non-null  float64\n",
      " 15  mean_StockCode_ordinal_encode          122049 non-null  float64\n",
      " 16  mean_Description_ordinal_encode        122049 non-null  float64\n",
      " 17  mean_InvoiceDate_ordinal_encode        122049 non-null  float64\n",
      " 18  mean_CustomerID_ordinal_encode         122049 non-null  float64\n",
      " 19  mean_Country_ordinal_encode            122049 non-null  float64\n",
      " 20  mean_Invoice_Stock_Description_encode  122049 non-null  float64\n",
      "dtypes: float64(8), int64(13)\n",
      "memory usage: 19.6 MB\n"
     ]
    }
   ],
   "source": [
    "df_test1.info()"
   ]
  },
  {
   "cell_type": "code",
   "execution_count": 126,
   "metadata": {},
   "outputs": [
    {
     "name": "stdout",
     "output_type": "stream",
     "text": [
      "<class 'pandas.core.frame.DataFrame'>\n",
      "RangeIndex: 284780 entries, 0 to 284779\n",
      "Data columns (total 21 columns):\n",
      " #   Column                                 Non-Null Count   Dtype  \n",
      "---  ------                                 --------------   -----  \n",
      " 0   InvoiceNo                              284780 non-null  int64  \n",
      " 1   StockCode                              284780 non-null  int64  \n",
      " 2   Description                            284780 non-null  int64  \n",
      " 3   Quantity                               284780 non-null  int64  \n",
      " 4   CustomerID                             284780 non-null  int64  \n",
      " 5   Country                                284780 non-null  int64  \n",
      " 6   Invoice_Stock_Description              284780 non-null  int64  \n",
      " 7   InvoiceAge                             284780 non-null  float64\n",
      " 8   weekday_ordinal                        284780 non-null  int64  \n",
      " 9   CustomerID_freq                        284780 non-null  int64  \n",
      " 10  InvoiceNo_freq                         284780 non-null  int64  \n",
      " 11  StockCode_freq                         284780 non-null  int64  \n",
      " 12  Quantity_freq                          284780 non-null  int64  \n",
      " 13  InvoiceDate_freq                       284780 non-null  int64  \n",
      " 14  mean_Country_ordinal_encode            284780 non-null  float64\n",
      " 15  mean_InvoiceNo_ordinal_encode          284780 non-null  float64\n",
      " 16  mean_StockCode_ordinal_encode          284780 non-null  float64\n",
      " 17  mean_Description_ordinal_encode        284780 non-null  float64\n",
      " 18  mean_InvoiceDate_ordinal_encode        284780 non-null  float64\n",
      " 19  mean_CustomerID_ordinal_encode         284780 non-null  float64\n",
      " 20  mean_Invoice_Stock_Description_encode  284780 non-null  float64\n",
      "dtypes: float64(8), int64(13)\n",
      "memory usage: 45.6 MB\n"
     ]
    }
   ],
   "source": [
    "X.info()"
   ]
  },
  {
   "cell_type": "code",
   "execution_count": 129,
   "metadata": {},
   "outputs": [],
   "source": [
    "y_pred = model.predict(df_test1)"
   ]
  },
  {
   "cell_type": "code",
   "execution_count": 133,
   "metadata": {},
   "outputs": [
    {
     "data": {
      "text/plain": [
       "(122049, 1)"
      ]
     },
     "execution_count": 133,
     "metadata": {},
     "output_type": "execute_result"
    }
   ],
   "source": [
    "y_pred.shape"
   ]
  },
  {
   "cell_type": "code",
   "execution_count": 132,
   "metadata": {},
   "outputs": [
    {
     "ename": "ValueError",
     "evalue": "non-broadcastable output operand with shape (122049,1) doesn't match the broadcast shape (122049,21)",
     "output_type": "error",
     "traceback": [
      "\u001b[1;31m---------------------------------------------------------------------------\u001b[0m",
      "\u001b[1;31mValueError\u001b[0m                                Traceback (most recent call last)",
      "\u001b[1;32m<ipython-input-132-931be3360e47>\u001b[0m in \u001b[0;36m<module>\u001b[1;34m\u001b[0m\n\u001b[0;32m      1\u001b[0m \u001b[1;31m# for inverse transformation\u001b[0m\u001b[1;33m\u001b[0m\u001b[1;33m\u001b[0m\u001b[1;33m\u001b[0m\u001b[0m\n\u001b[1;32m----> 2\u001b[1;33m \u001b[0minversed\u001b[0m \u001b[1;33m=\u001b[0m \u001b[0msc\u001b[0m\u001b[1;33m.\u001b[0m\u001b[0minverse_transform\u001b[0m\u001b[1;33m(\u001b[0m\u001b[0my_pred\u001b[0m\u001b[1;33m)\u001b[0m\u001b[1;33m\u001b[0m\u001b[1;33m\u001b[0m\u001b[0m\n\u001b[0m",
      "\u001b[1;32mD:\\Study\\Great Lakes\\INtro to python\\Anaconda\\lib\\site-packages\\sklearn\\preprocessing\\_data.py\u001b[0m in \u001b[0;36minverse_transform\u001b[1;34m(self, X, copy)\u001b[0m\n\u001b[0;32m    843\u001b[0m                 \u001b[0mX\u001b[0m \u001b[1;33m=\u001b[0m \u001b[0mX\u001b[0m\u001b[1;33m.\u001b[0m\u001b[0mcopy\u001b[0m\u001b[1;33m(\u001b[0m\u001b[1;33m)\u001b[0m\u001b[1;33m\u001b[0m\u001b[1;33m\u001b[0m\u001b[0m\n\u001b[0;32m    844\u001b[0m             \u001b[1;32mif\u001b[0m \u001b[0mself\u001b[0m\u001b[1;33m.\u001b[0m\u001b[0mwith_std\u001b[0m\u001b[1;33m:\u001b[0m\u001b[1;33m\u001b[0m\u001b[1;33m\u001b[0m\u001b[0m\n\u001b[1;32m--> 845\u001b[1;33m                 \u001b[0mX\u001b[0m \u001b[1;33m*=\u001b[0m \u001b[0mself\u001b[0m\u001b[1;33m.\u001b[0m\u001b[0mscale_\u001b[0m\u001b[1;33m\u001b[0m\u001b[1;33m\u001b[0m\u001b[0m\n\u001b[0m\u001b[0;32m    846\u001b[0m             \u001b[1;32mif\u001b[0m \u001b[0mself\u001b[0m\u001b[1;33m.\u001b[0m\u001b[0mwith_mean\u001b[0m\u001b[1;33m:\u001b[0m\u001b[1;33m\u001b[0m\u001b[1;33m\u001b[0m\u001b[0m\n\u001b[0;32m    847\u001b[0m                 \u001b[0mX\u001b[0m \u001b[1;33m+=\u001b[0m \u001b[0mself\u001b[0m\u001b[1;33m.\u001b[0m\u001b[0mmean_\u001b[0m\u001b[1;33m\u001b[0m\u001b[1;33m\u001b[0m\u001b[0m\n",
      "\u001b[1;31mValueError\u001b[0m: non-broadcastable output operand with shape (122049,1) doesn't match the broadcast shape (122049,21)"
     ]
    }
   ],
   "source": [
    "# for inverse transformation\n",
    "inversed = sc.inverse_transform(y_pred)"
   ]
  },
  {
   "cell_type": "code",
   "execution_count": 130,
   "metadata": {},
   "outputs": [],
   "source": [
    "##Create Sample Submission file and Submit using ANN\n",
    "pred=pd.DataFrame(y_pred)\n",
    "#sub_df=pd.read_csv('sample_submission.csv')\n",
    "datasets=pd.concat([pred],axis=1)\n",
    "datasets.columns=['UnitPrice']\n",
    "datasets.to_csv('sample_submission1_ANN.csv',index=False)"
   ]
  },
  {
   "cell_type": "code",
   "execution_count": null,
   "metadata": {},
   "outputs": [],
   "source": []
  },
  {
   "cell_type": "code",
   "execution_count": null,
   "metadata": {},
   "outputs": [],
   "source": []
  },
  {
   "cell_type": "code",
   "execution_count": null,
   "metadata": {},
   "outputs": [],
   "source": [
    "def feature_importances_(self):\n",
    "    \"\"\"Return the feature importances (the higher, the more important the\n",
    "       feature).\n",
    "    Returns\n",
    "    -------\n",
    "    feature_importances_ : array, shape = [n_features]\n",
    "    \"\"\"\n",
    "    if self.estimators_ is None or len(self.estimators_) == 0:\n",
    "        raise NotFittedError(\"Estimator not fitted, \"\n",
    "                             \"call `fit` before `feature_importances_`.\")\n",
    "\n",
    "    all_importances = Parallel(n_jobs=self.n_jobs,\n",
    "                               backend=\"threading\")(\n",
    "        delayed(getattr)(tree, 'feature_importances_')\n",
    "        for tree in self.estimators_)\n",
    "\n",
    "    return sum(all_importances) / len(self.estimators_)"
   ]
  }
 ],
 "metadata": {
  "kernelspec": {
   "display_name": "python3.7",
   "language": "python",
   "name": "python3.7"
  },
  "language_info": {
   "codemirror_mode": {
    "name": "ipython",
    "version": 3
   },
   "file_extension": ".py",
   "mimetype": "text/x-python",
   "name": "python",
   "nbconvert_exporter": "python",
   "pygments_lexer": "ipython3",
   "version": "3.7.6"
  }
 },
 "nbformat": 4,
 "nbformat_minor": 4
}
